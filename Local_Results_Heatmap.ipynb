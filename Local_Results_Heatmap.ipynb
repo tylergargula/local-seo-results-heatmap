{
 "nbformat": 4,
 "nbformat_minor": 0,
 "metadata": {
  "colab": {
   "provenance": []
  },
  "kernelspec": {
   "name": "python3",
   "display_name": "Python 3 (ipykernel)",
   "language": "python"
  },
  "language_info": {
   "name": "python"
  }
 },
 "cells": [
  {
   "metadata": {},
   "cell_type": "markdown",
   "source": [
    "# Local Results Performance Heatmap\n",
    "Using a city and state, generate surrounding zipcodes and run a SERP API query for each keyword and zipcode.<br>The results are then visualized on a heatmap to show performance of the client's website in the local results.<br><br>NOTE: The API runs queries against Google \"Places\" and is not measuring performance of local pack results."
   ]
  },
  {
   "cell_type": "code",
   "metadata": {
    "id": "qdl-4axXlmWe",
    "ExecuteTime": {
     "end_time": "2024-09-17T21:36:53.138373Z",
     "start_time": "2024-09-17T21:36:53.136792Z"
    }
   },
   "source": [
    "VALUE_SERP_KEY = 'YOUR_API_KEY'\n",
    "VALUE_SERP_ENDPOINT='https://api.valueserp.com/search'"
   ],
   "outputs": [],
   "execution_count": 1
  },
  {
   "metadata": {},
   "cell_type": "markdown",
   "source": "### Retrieve Surrounding Zipcodes"
  },
  {
   "metadata": {},
   "cell_type": "code",
   "outputs": [],
   "execution_count": null,
   "source": [
    "city = \"Santa Clarita\"\n",
    "state = \"CA\"\n",
    "distance_threshold = 6  # in miles, adjust as needed"
   ]
  },
  {
   "cell_type": "code",
   "source": [
    "import pgeocode\n",
    "import tqdm\n",
    "import zipcodes\n",
    "from geopy.distance import geodesic\n",
    "from tqdm.notebook import tqdm\n",
    "\n",
    "def get_surrounding_zipcodes(city, state, distance_threshold):\n",
    "\n",
    "    city_zips = zipcodes.filter_by(city=city, state=state)\n",
    "\n",
    "    if not city_zips:\n",
    "        return []\n",
    "\n",
    "    surrounding_zips = set()\n",
    "    \n",
    "    for zip_info in tqdm(city_zips, desc='Generating surrounding zipcodes'):\n",
    "        origin = (zip_info['lat'], zip_info['long'])\n",
    "\n",
    "        # all zip codes by state and city\n",
    "        all_zips = zipcodes.list_all()\n",
    "\n",
    "        for target_zip in all_zips:\n",
    "            target = (target_zip['lat'], target_zip['long'])\n",
    "\n",
    "            # calculate distance\n",
    "            distance = geodesic(origin, target).miles\n",
    "\n",
    "            if distance <= distance_threshold:\n",
    "                surrounding_zips.add(target_zip['zip_code'])\n",
    "\n",
    "    # keep original city zipcodes\n",
    "    surrounding_zips.update([zip_info['zip_code'] for zip_info in city_zips])\n",
    "\n",
    "    return list(surrounding_zips)"
   ],
   "metadata": {
    "colab": {
     "base_uri": "https://localhost:8080/"
    },
    "id": "75QQR0mA30Ny",
    "outputId": "f3eb47ea-69c5-419e-f9b6-17c70e2d252f",
    "ExecuteTime": {
     "end_time": "2024-09-17T22:38:24.569155Z",
     "start_time": "2024-09-17T22:38:24.550500Z"
    }
   },
   "outputs": [],
   "execution_count": 52
  },
  {
   "metadata": {
    "ExecuteTime": {
     "end_time": "2024-09-17T22:38:39.548004Z",
     "start_time": "2024-09-17T22:38:25.942455Z"
    }
   },
   "cell_type": "code",
   "source": [
    "surrounding_zipcodes = get_surrounding_zipcodes(city, state, distance_threshold)\n",
    "print(f\"Surrounding zipcodes within {distance_threshold} miles of {city}, {state}:\")\n",
    "print(surrounding_zipcodes)"
   ],
   "outputs": [
    {
     "data": {
      "text/plain": [
       "Generating surrounding zipcodes:   0%|          | 0/5 [00:00<?, ?it/s]"
      ],
      "application/vnd.jupyter.widget-view+json": {
       "version_major": 2,
       "version_minor": 0,
       "model_id": "36fcdeea57704e54896fe0eccbec3efe"
      }
     },
     "metadata": {},
     "output_type": "display_data"
    },
    {
     "name": "stdout",
     "output_type": "stream",
     "text": [
      "Surrounding zipcodes within 6 miles of Santa Clarita, CA:\n",
      "['91354', '91387', '91322', '91383', '91380', '91382', '91386', '91390', '91381', '91351', '91321', '91350', '91355', '91310']\n"
     ]
    }
   ],
   "execution_count": 53
  },
  {
   "metadata": {},
   "cell_type": "markdown",
   "source": "### Run SERP API Queries"
  },
  {
   "metadata": {
    "ExecuteTime": {
     "end_time": "2024-09-17T21:50:52.393143Z",
     "start_time": "2024-09-17T21:50:52.365042Z"
    }
   },
   "cell_type": "code",
   "source": [
    "import pandas as pd \n",
    "\n",
    "# enter keywords separated by new line \n",
    "kws= '''dentist\n",
    "dentist near me\n",
    "dentist santa clarita\n",
    "santa clarita dentist\n",
    "santa clarita dental'''\n",
    "\n",
    "kws = kws.split('\\n')\n",
    "df = pd.DataFrame(columns=['keywords', 'zipcode'])\n",
    "\n",
    "for kw in kws:\n",
    "    for zipcode in surrounding_zipcodes:\n",
    "        df = pd.concat([df, pd.DataFrame({'keywords': kw, 'zipcode': zipcode}, index=[0])], ignore_index=True)       \n",
    "df.head()"
   ],
   "outputs": [
    {
     "data": {
      "text/plain": [
       "  keywords zipcode\n",
       "0  dentist   91354\n",
       "1  dentist   91387\n",
       "2  dentist   91322\n",
       "3  dentist   91383\n",
       "4  dentist   91380"
      ],
      "text/html": [
       "<div>\n",
       "<style scoped>\n",
       "    .dataframe tbody tr th:only-of-type {\n",
       "        vertical-align: middle;\n",
       "    }\n",
       "\n",
       "    .dataframe tbody tr th {\n",
       "        vertical-align: top;\n",
       "    }\n",
       "\n",
       "    .dataframe thead th {\n",
       "        text-align: right;\n",
       "    }\n",
       "</style>\n",
       "<table border=\"1\" class=\"dataframe\">\n",
       "  <thead>\n",
       "    <tr style=\"text-align: right;\">\n",
       "      <th></th>\n",
       "      <th>keywords</th>\n",
       "      <th>zipcode</th>\n",
       "    </tr>\n",
       "  </thead>\n",
       "  <tbody>\n",
       "    <tr>\n",
       "      <th>0</th>\n",
       "      <td>dentist</td>\n",
       "      <td>91354</td>\n",
       "    </tr>\n",
       "    <tr>\n",
       "      <th>1</th>\n",
       "      <td>dentist</td>\n",
       "      <td>91387</td>\n",
       "    </tr>\n",
       "    <tr>\n",
       "      <th>2</th>\n",
       "      <td>dentist</td>\n",
       "      <td>91322</td>\n",
       "    </tr>\n",
       "    <tr>\n",
       "      <th>3</th>\n",
       "      <td>dentist</td>\n",
       "      <td>91383</td>\n",
       "    </tr>\n",
       "    <tr>\n",
       "      <th>4</th>\n",
       "      <td>dentist</td>\n",
       "      <td>91380</td>\n",
       "    </tr>\n",
       "  </tbody>\n",
       "</table>\n",
       "</div>"
      ]
     },
     "execution_count": 13,
     "metadata": {},
     "output_type": "execute_result"
    }
   ],
   "execution_count": 13
  },
  {
   "metadata": {
    "ExecuteTime": {
     "end_time": "2024-09-17T21:50:58.493031Z",
     "start_time": "2024-09-17T21:50:58.489617Z"
    }
   },
   "cell_type": "code",
   "source": [
    "import requests\n",
    "\n",
    "def run_serp_query(keyword, zipcode, state, country, search_type, client_title):\n",
    "    params = {\n",
    "        'api_key': VALUE_SERP_KEY,\n",
    "        'search_type': search_type,\n",
    "        'q': keyword,\n",
    "        'location': f'{zipcode},{state},{country}',\n",
    "        'gl': 'us',\n",
    "        'hl': 'en',\n",
    "        'num': '20',\n",
    "    }\n",
    "    \n",
    "    response = requests.get(VALUE_SERP_ENDPOINT, params=params)\n",
    "    organic_results = response.json().get('places_results', [])\n",
    "    \n",
    "    result = {f'pos {i+1}': result['title'] for i, result in enumerate(organic_results, start=1)}\n",
    "    \n",
    "    client_position = next((r['position'] for r in organic_results if client_title in r['title']), \n",
    "                           f'{client_title} not found in top 20 results')\n",
    "    \n",
    "    result[f'{client_title}_pos'] = client_position\n",
    "    \n",
    "    return pd.DataFrame([result])"
   ],
   "outputs": [],
   "execution_count": 14
  },
  {
   "metadata": {
    "ExecuteTime": {
     "end_time": "2024-09-17T21:58:32.693716Z",
     "start_time": "2024-09-17T21:51:07.835424Z"
    }
   },
   "cell_type": "code",
   "source": [
    "import pandas as pd\n",
    "tqdm.pandas()\n",
    "\n",
    "client_domain = 'dentalcsv.com'\n",
    "client_title = 'Aesthetic Dental'  # client name, found in listing title\n",
    "search_type = 'places'  # local results\n",
    "\n",
    "\n",
    "results = df.progress_apply(\n",
    "    lambda row: run_serp_query(row['keywords'], row['zipcode'], 'California', 'United States', search_type, client_title), \n",
    "    axis=1\n",
    ")\n",
    "\n",
    "df_results = pd.concat(results.tolist(), ignore_index=True)"
   ],
   "outputs": [
    {
     "data": {
      "text/plain": [
       "  0%|          | 0/70 [00:00<?, ?it/s]"
      ],
      "application/vnd.jupyter.widget-view+json": {
       "version_major": 2,
       "version_minor": 0,
       "model_id": "e1a356a03a5a46158ca223a383a1f555"
      }
     },
     "metadata": {},
     "output_type": "display_data"
    }
   ],
   "execution_count": 15
  },
  {
   "metadata": {
    "ExecuteTime": {
     "end_time": "2024-09-17T21:59:56.019179Z",
     "start_time": "2024-09-17T21:59:55.990133Z"
    }
   },
   "cell_type": "code",
   "source": [
    "merged_df = pd.concat([df, df_results], axis=1)\n",
    "merged_df.to_csv('export/kw_zipcode_df_aesthetic_dental.csv', index=False, encoding='utf-8')\n",
    "print('########### Exported DataFrame to CSV ###########')\n",
    "merged_df.head()"
   ],
   "outputs": [
    {
     "name": "stdout",
     "output_type": "stream",
     "text": [
      "########### Exported DataFrame to CSV ###########\n"
     ]
    },
    {
     "data": {
      "text/plain": [
       "  keywords zipcode                                              pos 2  \\\n",
       "0  dentist   91354                   Santa Clarita Advanced Dentistry   \n",
       "1  dentist   91387  Lost Canyon Family Dental: Clayton R. Clark DD...   \n",
       "2  dentist   91322                              Three Sixty Dentistry   \n",
       "3  dentist   91383                   Santa Clarita Advanced Dentistry   \n",
       "4  dentist   91380                   Santa Clarita Advanced Dentistry   \n",
       "\n",
       "                                               pos 3  \\\n",
       "0  Valencia Advanced Dentistry at Copperhill Smil...   \n",
       "1                            Golden Canyon Dentistry   \n",
       "2                                Newhall Dental Arts   \n",
       "3  Smilebody Holistic Dental Wellbeing (formerly ...   \n",
       "4  Lost Canyon Family Dental: Clayton R. Clark DD...   \n",
       "\n",
       "                                               pos 4  \\\n",
       "0                                  Smile City Dental   \n",
       "1  Adventure Dental and Orthodontics - Santa Clarita   \n",
       "2                Aesthetic Dental & Specialty Center   \n",
       "3                            Copper Canyon Dentistry   \n",
       "4                       Harmony Dental Santa Clarita   \n",
       "\n",
       "                                               pos 5  \\\n",
       "0                            Copper Canyon Dentistry   \n",
       "1                      Dentistry For Kids and Adults   \n",
       "2                   Santa Clarita Advanced Dentistry   \n",
       "3                         Hasley Canyon Dental Group   \n",
       "4  Adventure Dental and Orthodontics - Santa Clarita   \n",
       "\n",
       "                                 pos 6                          pos 7  \\\n",
       "0                         Crest Dental            Canyon Dental Group   \n",
       "1     Santa Clarita Advanced Dentistry   Harmony Dental Santa Clarita   \n",
       "2            SANTA CLARITA DENTAL CARE          Dr. David S. Kim, DDS   \n",
       "3  Aesthetic Dental & Specialty Center            Canyon Dental Group   \n",
       "4              Golden Canyon Dentistry  Dentistry For Kids and Adults   \n",
       "\n",
       "                                               pos 8  \\\n",
       "0  Smilebody Holistic Dental Wellbeing (formerly ...   \n",
       "1                        Canyon Country Dental Group   \n",
       "2                     Santa Clarita Family Dentistry   \n",
       "3                                       Crest Dental   \n",
       "4                    Villar Dentistry & Orthodontics   \n",
       "\n",
       "                               pos 9  ...  \\\n",
       "0                          Go Dental  ...   \n",
       "1    Canyon Country Family Dentistry  ...   \n",
       "2        Smile Design: Santa Clarita  ...   \n",
       "3    Villar Dentistry & Orthodontics  ...   \n",
       "4  Bright Now! Dental & Orthodontics  ...   \n",
       "\n",
       "                                    pos 14  \\\n",
       "0  Valencia cosmetic and implant dentistry   \n",
       "1      Aesthetic Dental & Specialty Center   \n",
       "2                           Enhancedentist   \n",
       "3   Valencia Dental Group and Orthodontics   \n",
       "4                  Copper Canyon Dentistry   \n",
       "\n",
       "                                             pos 15  \\\n",
       "0              Valencia Dental Group at Copper Hill   \n",
       "1  Family Tree Dentistry, Sarah J. Phillips, D.D.S.   \n",
       "2                             Zak Dental - Valencia   \n",
       "3                  Santa Clarita Valley Dental Care   \n",
       "4                   Canyon Country Family Dentistry   \n",
       "\n",
       "                                    pos 16  \\\n",
       "0                      C Squared Dentistry   \n",
       "1             Perfect Smiles Dental Studio   \n",
       "2          Villar Dentistry & Orthodontics   \n",
       "3  Valencia cosmetic and implant dentistry   \n",
       "4                         Kidz Dental Care   \n",
       "\n",
       "                                              pos 17  \\\n",
       "0                                         Noa Dental   \n",
       "1                    Villar Dentistry & Orthodontics   \n",
       "2  Smilebody Holistic Dental Wellbeing (formerly ...   \n",
       "3                                C Squared Dentistry   \n",
       "4                        Canyon Country Dental Group   \n",
       "\n",
       "                                   pos 18  \\\n",
       "0                    Baywood Dental Group   \n",
       "1             A New Smile CC Dental Group   \n",
       "2                     Rex Baumgartner DDS   \n",
       "3       iHeartDDS - Santa Clarita Dentist   \n",
       "4  Valencia Dental Group and Orthodontics   \n",
       "\n",
       "                                              pos 19  \\\n",
       "0                                 White Crown Dental   \n",
       "1                                  California Dental   \n",
       "2  Smile Republic Pediatric Dentistry (previously...   \n",
       "3                                Dr. Marvin Tong DDS   \n",
       "4  Valencia Advanced Dentistry at Copperhill Smil...   \n",
       "\n",
       "                                pos 20  \\\n",
       "0  Aesthetic Dental & Specialty Center   \n",
       "1          Wellness Family Dental Care   \n",
       "2                    Lyons Dental Care   \n",
       "3                   White Crown Dental   \n",
       "4                         Crest Dental   \n",
       "\n",
       "                                              pos 21 Aesthetic Dental_pos  \\\n",
       "0                             Valencia Dental Office                   19   \n",
       "1                                  Navarro Dentistry                   13   \n",
       "2         Newhall Oral & Maxillofacial Surgery Group                    3   \n",
       "3  Valencia Advanced Dentistry at Copperhill Smil...                    5   \n",
       "4                                Canyon Dental Group                    9   \n",
       "\n",
       "  pos 22  \n",
       "0    NaN  \n",
       "1    NaN  \n",
       "2    NaN  \n",
       "3    NaN  \n",
       "4    NaN  \n",
       "\n",
       "[5 rows x 24 columns]"
      ],
      "text/html": [
       "<div>\n",
       "<style scoped>\n",
       "    .dataframe tbody tr th:only-of-type {\n",
       "        vertical-align: middle;\n",
       "    }\n",
       "\n",
       "    .dataframe tbody tr th {\n",
       "        vertical-align: top;\n",
       "    }\n",
       "\n",
       "    .dataframe thead th {\n",
       "        text-align: right;\n",
       "    }\n",
       "</style>\n",
       "<table border=\"1\" class=\"dataframe\">\n",
       "  <thead>\n",
       "    <tr style=\"text-align: right;\">\n",
       "      <th></th>\n",
       "      <th>keywords</th>\n",
       "      <th>zipcode</th>\n",
       "      <th>pos 2</th>\n",
       "      <th>pos 3</th>\n",
       "      <th>pos 4</th>\n",
       "      <th>pos 5</th>\n",
       "      <th>pos 6</th>\n",
       "      <th>pos 7</th>\n",
       "      <th>pos 8</th>\n",
       "      <th>pos 9</th>\n",
       "      <th>...</th>\n",
       "      <th>pos 14</th>\n",
       "      <th>pos 15</th>\n",
       "      <th>pos 16</th>\n",
       "      <th>pos 17</th>\n",
       "      <th>pos 18</th>\n",
       "      <th>pos 19</th>\n",
       "      <th>pos 20</th>\n",
       "      <th>pos 21</th>\n",
       "      <th>Aesthetic Dental_pos</th>\n",
       "      <th>pos 22</th>\n",
       "    </tr>\n",
       "  </thead>\n",
       "  <tbody>\n",
       "    <tr>\n",
       "      <th>0</th>\n",
       "      <td>dentist</td>\n",
       "      <td>91354</td>\n",
       "      <td>Santa Clarita Advanced Dentistry</td>\n",
       "      <td>Valencia Advanced Dentistry at Copperhill Smil...</td>\n",
       "      <td>Smile City Dental</td>\n",
       "      <td>Copper Canyon Dentistry</td>\n",
       "      <td>Crest Dental</td>\n",
       "      <td>Canyon Dental Group</td>\n",
       "      <td>Smilebody Holistic Dental Wellbeing (formerly ...</td>\n",
       "      <td>Go Dental</td>\n",
       "      <td>...</td>\n",
       "      <td>Valencia cosmetic and implant dentistry</td>\n",
       "      <td>Valencia Dental Group at Copper Hill</td>\n",
       "      <td>C Squared Dentistry</td>\n",
       "      <td>Noa Dental</td>\n",
       "      <td>Baywood Dental Group</td>\n",
       "      <td>White Crown Dental</td>\n",
       "      <td>Aesthetic Dental &amp; Specialty Center</td>\n",
       "      <td>Valencia Dental Office</td>\n",
       "      <td>19</td>\n",
       "      <td>NaN</td>\n",
       "    </tr>\n",
       "    <tr>\n",
       "      <th>1</th>\n",
       "      <td>dentist</td>\n",
       "      <td>91387</td>\n",
       "      <td>Lost Canyon Family Dental: Clayton R. Clark DD...</td>\n",
       "      <td>Golden Canyon Dentistry</td>\n",
       "      <td>Adventure Dental and Orthodontics - Santa Clarita</td>\n",
       "      <td>Dentistry For Kids and Adults</td>\n",
       "      <td>Santa Clarita Advanced Dentistry</td>\n",
       "      <td>Harmony Dental Santa Clarita</td>\n",
       "      <td>Canyon Country Dental Group</td>\n",
       "      <td>Canyon Country Family Dentistry</td>\n",
       "      <td>...</td>\n",
       "      <td>Aesthetic Dental &amp; Specialty Center</td>\n",
       "      <td>Family Tree Dentistry, Sarah J. Phillips, D.D.S.</td>\n",
       "      <td>Perfect Smiles Dental Studio</td>\n",
       "      <td>Villar Dentistry &amp; Orthodontics</td>\n",
       "      <td>A New Smile CC Dental Group</td>\n",
       "      <td>California Dental</td>\n",
       "      <td>Wellness Family Dental Care</td>\n",
       "      <td>Navarro Dentistry</td>\n",
       "      <td>13</td>\n",
       "      <td>NaN</td>\n",
       "    </tr>\n",
       "    <tr>\n",
       "      <th>2</th>\n",
       "      <td>dentist</td>\n",
       "      <td>91322</td>\n",
       "      <td>Three Sixty Dentistry</td>\n",
       "      <td>Newhall Dental Arts</td>\n",
       "      <td>Aesthetic Dental &amp; Specialty Center</td>\n",
       "      <td>Santa Clarita Advanced Dentistry</td>\n",
       "      <td>SANTA CLARITA DENTAL CARE</td>\n",
       "      <td>Dr. David S. Kim, DDS</td>\n",
       "      <td>Santa Clarita Family Dentistry</td>\n",
       "      <td>Smile Design: Santa Clarita</td>\n",
       "      <td>...</td>\n",
       "      <td>Enhancedentist</td>\n",
       "      <td>Zak Dental - Valencia</td>\n",
       "      <td>Villar Dentistry &amp; Orthodontics</td>\n",
       "      <td>Smilebody Holistic Dental Wellbeing (formerly ...</td>\n",
       "      <td>Rex Baumgartner DDS</td>\n",
       "      <td>Smile Republic Pediatric Dentistry (previously...</td>\n",
       "      <td>Lyons Dental Care</td>\n",
       "      <td>Newhall Oral &amp; Maxillofacial Surgery Group</td>\n",
       "      <td>3</td>\n",
       "      <td>NaN</td>\n",
       "    </tr>\n",
       "    <tr>\n",
       "      <th>3</th>\n",
       "      <td>dentist</td>\n",
       "      <td>91383</td>\n",
       "      <td>Santa Clarita Advanced Dentistry</td>\n",
       "      <td>Smilebody Holistic Dental Wellbeing (formerly ...</td>\n",
       "      <td>Copper Canyon Dentistry</td>\n",
       "      <td>Hasley Canyon Dental Group</td>\n",
       "      <td>Aesthetic Dental &amp; Specialty Center</td>\n",
       "      <td>Canyon Dental Group</td>\n",
       "      <td>Crest Dental</td>\n",
       "      <td>Villar Dentistry &amp; Orthodontics</td>\n",
       "      <td>...</td>\n",
       "      <td>Valencia Dental Group and Orthodontics</td>\n",
       "      <td>Santa Clarita Valley Dental Care</td>\n",
       "      <td>Valencia cosmetic and implant dentistry</td>\n",
       "      <td>C Squared Dentistry</td>\n",
       "      <td>iHeartDDS - Santa Clarita Dentist</td>\n",
       "      <td>Dr. Marvin Tong DDS</td>\n",
       "      <td>White Crown Dental</td>\n",
       "      <td>Valencia Advanced Dentistry at Copperhill Smil...</td>\n",
       "      <td>5</td>\n",
       "      <td>NaN</td>\n",
       "    </tr>\n",
       "    <tr>\n",
       "      <th>4</th>\n",
       "      <td>dentist</td>\n",
       "      <td>91380</td>\n",
       "      <td>Santa Clarita Advanced Dentistry</td>\n",
       "      <td>Lost Canyon Family Dental: Clayton R. Clark DD...</td>\n",
       "      <td>Harmony Dental Santa Clarita</td>\n",
       "      <td>Adventure Dental and Orthodontics - Santa Clarita</td>\n",
       "      <td>Golden Canyon Dentistry</td>\n",
       "      <td>Dentistry For Kids and Adults</td>\n",
       "      <td>Villar Dentistry &amp; Orthodontics</td>\n",
       "      <td>Bright Now! Dental &amp; Orthodontics</td>\n",
       "      <td>...</td>\n",
       "      <td>Copper Canyon Dentistry</td>\n",
       "      <td>Canyon Country Family Dentistry</td>\n",
       "      <td>Kidz Dental Care</td>\n",
       "      <td>Canyon Country Dental Group</td>\n",
       "      <td>Valencia Dental Group and Orthodontics</td>\n",
       "      <td>Valencia Advanced Dentistry at Copperhill Smil...</td>\n",
       "      <td>Crest Dental</td>\n",
       "      <td>Canyon Dental Group</td>\n",
       "      <td>9</td>\n",
       "      <td>NaN</td>\n",
       "    </tr>\n",
       "  </tbody>\n",
       "</table>\n",
       "<p>5 rows × 24 columns</p>\n",
       "</div>"
      ]
     },
     "execution_count": 16,
     "metadata": {},
     "output_type": "execute_result"
    }
   ],
   "execution_count": 16
  },
  {
   "metadata": {},
   "cell_type": "markdown",
   "source": "### Visualize Results - Plotly"
  },
  {
   "cell_type": "code",
   "source": [
    "nomi = pgeocode.Nominatim('us')\n",
    "\n",
    "merged_df['zipcode'] = merged_df['zipcode'].astype(str)\n",
    "merged_df['Latitude'] = nomi.query_postal_code(merged_df['zipcode'].tolist()).latitude\n",
    "merged_df['Longitude'] = nomi.query_postal_code(merged_df['zipcode'].tolist()).longitude\n",
    "\n",
    "merged_df_not_ranking = merged_df[merged_df['Aesthetic Dental_pos'].str.contains('Aesthetic', na=False)]\n",
    "merged_df_ranking = merged_df[~merged_df['Aesthetic Dental_pos'].str.contains('Aesthetic', na=False)]"
   ],
   "metadata": {
    "id": "lkuSkIcBmEnb",
    "ExecuteTime": {
     "end_time": "2024-09-17T22:10:59.087976Z",
     "start_time": "2024-09-17T22:10:58.971205Z"
    }
   },
   "outputs": [],
   "execution_count": 24
  },
  {
   "cell_type": "code",
   "source": [
    "merged_df_ranking = merged_df_ranking.copy()\n",
    "merged_df_ranking['Aesthetic Dental_pos'] = merged_df_ranking['Aesthetic Dental_pos'].astype(int)\n",
    "group_ranking = merged_df_ranking.groupby(['Latitude', 'Longitude']).agg({'Aesthetic Dental_pos': 'mean',\n",
    "                                                                          'keywords': 'count',\n",
    "                                                                          'zipcode': 'first'}).reset_index()"
   ],
   "metadata": {
    "colab": {
     "base_uri": "https://localhost:8080/"
    },
    "id": "piWt7Hs3o2DU",
    "outputId": "7f932774-7cae-42c0-92d7-3212ca817e5f",
    "ExecuteTime": {
     "end_time": "2024-09-17T22:12:04.611836Z",
     "start_time": "2024-09-17T22:12:04.590354Z"
    }
   },
   "outputs": [],
   "execution_count": 26
  },
  {
   "cell_type": "code",
   "source": [
    "group_not_ranking = merged_df_not_ranking.groupby(['Latitude', 'Longitude']).agg({'keywords': 'count',\n",
    "                                                                                  'zipcode': 'first'}).reset_index()\n",
    "group_not_ranking['ranking_pos'] = 1000 # used for folium mapping"
   ],
   "metadata": {
    "id": "ms-1R71bHYaQ",
    "ExecuteTime": {
     "end_time": "2024-09-17T22:12:30.914020Z",
     "start_time": "2024-09-17T22:12:30.900957Z"
    }
   },
   "outputs": [],
   "execution_count": 27
  },
  {
   "cell_type": "code",
   "source": [
    "# function for improved visualization\n",
    "def expand_coordinates(df, lat_col='Latitude', lon_col='Longitude', factor=2): \n",
    "    \n",
    "    # calculate the center\n",
    "    center_lat = df[lat_col].mean()\n",
    "    center_lon = df[lon_col].mean()\n",
    "\n",
    "    # center the coordinates\n",
    "    df['centered_lat'] = df[lat_col] - center_lat\n",
    "    df['centered_lon'] = df[lon_col] - center_lon\n",
    "\n",
    "    # expand the range\n",
    "    df['expanded_lat'] = df['centered_lat'] * factor\n",
    "    df['expanded_lon'] = df['centered_lon'] * factor\n",
    "\n",
    "    # shift back to original scale\n",
    "    df['new_lat'] = df['expanded_lat'] + center_lat\n",
    "    df['new_lon'] = df['expanded_lon'] + center_lon\n",
    "\n",
    "    return df\n",
    "\n",
    "expanded_df = expand_coordinates(group_ranking, factor=2)"
   ],
   "metadata": {
    "id": "XXdXSkEbSDKt",
    "ExecuteTime": {
     "end_time": "2024-09-17T22:13:02.312164Z",
     "start_time": "2024-09-17T22:13:02.299213Z"
    }
   },
   "outputs": [],
   "execution_count": 28
  },
  {
   "cell_type": "code",
   "source": [
    "def ranking_bucket(pos):\n",
    "  if pos <= 3:\n",
    "    return \"top 3\"\n",
    "  elif pos <= 10:\n",
    "    return \"4-10\"\n",
    "  elif pos < 20:\n",
    "    return \"page 2\"\n",
    "  else:\n",
    "    return \"page 3+\"\n",
    "\n",
    "expanded_df['position_bucket'] = expanded_df['Aesthetic Dental_pos'].apply(ranking_bucket)"
   ],
   "metadata": {
    "id": "QNOe0bouSEHn",
    "ExecuteTime": {
     "end_time": "2024-09-17T22:13:09.954434Z",
     "start_time": "2024-09-17T22:13:09.951480Z"
    }
   },
   "outputs": [],
   "execution_count": 29
  },
  {
   "metadata": {
    "ExecuteTime": {
     "end_time": "2024-09-17T22:28:36.997152Z",
     "start_time": "2024-09-17T22:28:36.992093Z"
    }
   },
   "cell_type": "code",
   "source": [
    "import plotly_express as px\n",
    "import plotly.graph_objects as go\n",
    "import datetime\n",
    "\n",
    "date_time = datetime.datetime.now().strftime(\"%Y%m%d_%H%M%S\")\n",
    "\n",
    "px_colors = px.colors.qualitative\n",
    "\n",
    "color_map_position_bucket = {\n",
    "    'top 3': px_colors.Plotly[2],\n",
    "    '4-10': px_colors.Plotly[0],\n",
    "    'page 2': px_colors.Plotly[4],\n",
    "    'page 3+': px_colors.T10[9],\n",
    "}\n",
    "\n",
    "legend_order = ['top 3', \n",
    "                '4-10', \n",
    "                'page 2', \n",
    "                'page 3+']"
   ],
   "outputs": [],
   "execution_count": 36
  },
  {
   "cell_type": "code",
   "source": [
    "# density map with ranking locations, adjust as needed\n",
    "fig = px.scatter_mapbox(\n",
    "    expanded_df,\n",
    "    lat='new_lat',\n",
    "    lon='new_lon',\n",
    "    color='position_bucket',\n",
    "    size='keywords',\n",
    "    size_max=30,\n",
    "    color_continuous_scale=\"speed_r\",\n",
    "    zoom=10, # adjust as needed\n",
    "    center=dict(lat=expanded_df['new_lat'].mean(), lon=expanded_df['new_lon'].mean()),\n",
    "    mapbox_style='open-street-map',\n",
    "    hover_name='zipcode',\n",
    "    color_discrete_map=color_map_position_bucket,\n",
    "    category_orders={'position_bucket': legend_order},\n",
    "    text='zipcode'\n",
    ")\n",
    "\n",
    "# non-ranking locations with red markers, adjust as needed\n",
    "fig.add_trace(go.Scattermapbox(\n",
    "    lat=group_not_ranking['Latitude'],\n",
    "    lon=group_not_ranking['Longitude'],\n",
    "    mode='markers',\n",
    "    marker=go.scattermapbox.Marker(\n",
    "        size=50,\n",
    "        color=px_colors.Plotly[1],\n",
    "        opacity=0.8\n",
    "    ),\n",
    "    hoverinfo='text',\n",
    "    text=\"Zipcode=\" + group_not_ranking['zipcode'] + \", Keywords=\" + group_not_ranking['keywords'].astype(str),\n",
    "    name=\"Low Rankings\",\n",
    "    showlegend=True\n",
    ")\n",
    ")\n",
    "\n",
    "# layout updates, configure as needed\n",
    "fig.update_layout(\n",
    "    mapbox=dict(\n",
    "        zoom=10,\n",
    "        center=dict(\n",
    "            lat=expanded_df['new_lat'].mean(),\n",
    "            lon=expanded_df['new_lon'].mean(),\n",
    "        ),\n",
    "        style=\"open-street-map\",\n",
    "    ),\n",
    "    title=f\"Dentist-related 'Near Me' Ranking Zipcodes ({city}, {state})\",\n",
    "    title_x=0.5,\n",
    "    width=1200,\n",
    "    height=700,\n",
    "    legend=dict(\n",
    "        yanchor=\"top\",\n",
    "        y=0.99,\n",
    "        xanchor=\"left\",\n",
    "        x=0.01,\n",
    "        title=\"Ranking Bucket\"\n",
    "    )\n",
    ")\n",
    "\n",
    "fig.write_image(f\"plots/plotly_heatmap_{date_time}.png\")\n",
    "fig.show()"
   ],
   "metadata": {
    "colab": {
     "base_uri": "https://localhost:8080/",
     "height": 717
    },
    "id": "mlBlTM-tRLam",
    "outputId": "54ffe1b0-884f-4c97-e0a7-3ed100d295fc",
    "ExecuteTime": {
     "end_time": "2024-09-17T22:47:53.566121Z",
     "start_time": "2024-09-17T22:47:52.024089Z"
    }
   },
   "outputs": [
    {
     "data": {
      "application/vnd.plotly.v1+json": {
       "data": [
        {
         "hovertemplate": "<b>%{hovertext}</b><br><br>position_bucket=4-10<br>keywords=%{marker.size}<br>zipcode=%{text}<br>new_lat=%{lat}<br>new_lon=%{lon}<extra></extra>",
         "hovertext": [
          "91381",
          "91321",
          "91322",
          "91383",
          "91390"
         ],
         "lat": [
          34.33565833333332,
          34.339658333333325,
          34.35005833333333,
          34.364058333333325,
          34.51745833333333
         ],
         "legendgroup": "4-10",
         "lon": [
          -118.70143333333334,
          -118.52123333333333,
          -118.53703333333334,
          -118.56043333333332,
          -118.52743333333333
         ],
         "marker": {
          "color": "#636EFA",
          "size": [
           5,
           5,
           5,
           15,
           5
          ],
          "sizemode": "area",
          "sizeref": 0.016666666666666666
         },
         "mode": "markers+text",
         "name": "4-10",
         "showlegend": true,
         "subplot": "mapbox",
         "text": [
          "91381",
          "91321",
          "91322",
          "91383",
          "91390"
         ],
         "type": "scattermapbox"
        },
        {
         "hovertemplate": "<b>%{hovertext}</b><br><br>position_bucket=page 2<br>keywords=%{marker.size}<br>zipcode=%{text}<br>new_lat=%{lat}<br>new_lon=%{lon}<extra></extra>",
         "hovertext": [
          "91355",
          "91387",
          "91386",
          "91351",
          "91350",
          "91354",
          "91310"
         ],
         "lat": [
          34.37765833333332,
          34.40705833333333,
          34.42725833333332,
          34.43305833333333,
          34.44785833333332,
          34.47385833333332,
          34.55845833333333
         ],
         "legendgroup": "page 2",
         "lon": [
          -118.58223333333333,
          -118.32723333333334,
          -118.41923333333332,
          -118.37323333333333,
          -118.47663333333333,
          -118.55003333333335,
          -118.72103333333334
         ],
         "marker": {
          "color": "#FFA15A",
          "size": [
           5,
           5,
           5,
           4,
           4,
           5,
           5
          ],
          "sizemode": "area",
          "sizeref": 0.016666666666666666
         },
         "mode": "markers+text",
         "name": "page 2",
         "showlegend": true,
         "subplot": "mapbox",
         "text": [
          "91355",
          "91387",
          "91386",
          "91351",
          "91350",
          "91354",
          "91310"
         ],
         "type": "scattermapbox"
        },
        {
         "hoverinfo": "text",
         "lat": [
          34.4262,
          34.4336
         ],
         "lon": [
          -118.449,
          -118.5007
         ],
         "marker": {
          "color": "#EF553B",
          "opacity": 0.8,
          "size": 50
         },
         "mode": "markers",
         "name": "Low Rankings",
         "showlegend": true,
         "text": [
          "Zipcode=91351, Keywords=1",
          "Zipcode=91350, Keywords=1"
         ],
         "type": "scattermapbox"
        }
       ],
       "layout": {
        "template": {
         "data": {
          "histogram2dcontour": [
           {
            "type": "histogram2dcontour",
            "colorbar": {
             "outlinewidth": 0,
             "ticks": ""
            },
            "colorscale": [
             [
              0.0,
              "#0d0887"
             ],
             [
              0.1111111111111111,
              "#46039f"
             ],
             [
              0.2222222222222222,
              "#7201a8"
             ],
             [
              0.3333333333333333,
              "#9c179e"
             ],
             [
              0.4444444444444444,
              "#bd3786"
             ],
             [
              0.5555555555555556,
              "#d8576b"
             ],
             [
              0.6666666666666666,
              "#ed7953"
             ],
             [
              0.7777777777777778,
              "#fb9f3a"
             ],
             [
              0.8888888888888888,
              "#fdca26"
             ],
             [
              1.0,
              "#f0f921"
             ]
            ]
           }
          ],
          "choropleth": [
           {
            "type": "choropleth",
            "colorbar": {
             "outlinewidth": 0,
             "ticks": ""
            }
           }
          ],
          "histogram2d": [
           {
            "type": "histogram2d",
            "colorbar": {
             "outlinewidth": 0,
             "ticks": ""
            },
            "colorscale": [
             [
              0.0,
              "#0d0887"
             ],
             [
              0.1111111111111111,
              "#46039f"
             ],
             [
              0.2222222222222222,
              "#7201a8"
             ],
             [
              0.3333333333333333,
              "#9c179e"
             ],
             [
              0.4444444444444444,
              "#bd3786"
             ],
             [
              0.5555555555555556,
              "#d8576b"
             ],
             [
              0.6666666666666666,
              "#ed7953"
             ],
             [
              0.7777777777777778,
              "#fb9f3a"
             ],
             [
              0.8888888888888888,
              "#fdca26"
             ],
             [
              1.0,
              "#f0f921"
             ]
            ]
           }
          ],
          "heatmap": [
           {
            "type": "heatmap",
            "colorbar": {
             "outlinewidth": 0,
             "ticks": ""
            },
            "colorscale": [
             [
              0.0,
              "#0d0887"
             ],
             [
              0.1111111111111111,
              "#46039f"
             ],
             [
              0.2222222222222222,
              "#7201a8"
             ],
             [
              0.3333333333333333,
              "#9c179e"
             ],
             [
              0.4444444444444444,
              "#bd3786"
             ],
             [
              0.5555555555555556,
              "#d8576b"
             ],
             [
              0.6666666666666666,
              "#ed7953"
             ],
             [
              0.7777777777777778,
              "#fb9f3a"
             ],
             [
              0.8888888888888888,
              "#fdca26"
             ],
             [
              1.0,
              "#f0f921"
             ]
            ]
           }
          ],
          "heatmapgl": [
           {
            "type": "heatmapgl",
            "colorbar": {
             "outlinewidth": 0,
             "ticks": ""
            },
            "colorscale": [
             [
              0.0,
              "#0d0887"
             ],
             [
              0.1111111111111111,
              "#46039f"
             ],
             [
              0.2222222222222222,
              "#7201a8"
             ],
             [
              0.3333333333333333,
              "#9c179e"
             ],
             [
              0.4444444444444444,
              "#bd3786"
             ],
             [
              0.5555555555555556,
              "#d8576b"
             ],
             [
              0.6666666666666666,
              "#ed7953"
             ],
             [
              0.7777777777777778,
              "#fb9f3a"
             ],
             [
              0.8888888888888888,
              "#fdca26"
             ],
             [
              1.0,
              "#f0f921"
             ]
            ]
           }
          ],
          "contourcarpet": [
           {
            "type": "contourcarpet",
            "colorbar": {
             "outlinewidth": 0,
             "ticks": ""
            }
           }
          ],
          "contour": [
           {
            "type": "contour",
            "colorbar": {
             "outlinewidth": 0,
             "ticks": ""
            },
            "colorscale": [
             [
              0.0,
              "#0d0887"
             ],
             [
              0.1111111111111111,
              "#46039f"
             ],
             [
              0.2222222222222222,
              "#7201a8"
             ],
             [
              0.3333333333333333,
              "#9c179e"
             ],
             [
              0.4444444444444444,
              "#bd3786"
             ],
             [
              0.5555555555555556,
              "#d8576b"
             ],
             [
              0.6666666666666666,
              "#ed7953"
             ],
             [
              0.7777777777777778,
              "#fb9f3a"
             ],
             [
              0.8888888888888888,
              "#fdca26"
             ],
             [
              1.0,
              "#f0f921"
             ]
            ]
           }
          ],
          "surface": [
           {
            "type": "surface",
            "colorbar": {
             "outlinewidth": 0,
             "ticks": ""
            },
            "colorscale": [
             [
              0.0,
              "#0d0887"
             ],
             [
              0.1111111111111111,
              "#46039f"
             ],
             [
              0.2222222222222222,
              "#7201a8"
             ],
             [
              0.3333333333333333,
              "#9c179e"
             ],
             [
              0.4444444444444444,
              "#bd3786"
             ],
             [
              0.5555555555555556,
              "#d8576b"
             ],
             [
              0.6666666666666666,
              "#ed7953"
             ],
             [
              0.7777777777777778,
              "#fb9f3a"
             ],
             [
              0.8888888888888888,
              "#fdca26"
             ],
             [
              1.0,
              "#f0f921"
             ]
            ]
           }
          ],
          "mesh3d": [
           {
            "type": "mesh3d",
            "colorbar": {
             "outlinewidth": 0,
             "ticks": ""
            }
           }
          ],
          "scatter": [
           {
            "marker": {
             "line": {
              "color": "#283442"
             }
            },
            "type": "scatter"
           }
          ],
          "parcoords": [
           {
            "type": "parcoords",
            "line": {
             "colorbar": {
              "outlinewidth": 0,
              "ticks": ""
             }
            }
           }
          ],
          "scatterpolargl": [
           {
            "type": "scatterpolargl",
            "marker": {
             "colorbar": {
              "outlinewidth": 0,
              "ticks": ""
             }
            }
           }
          ],
          "bar": [
           {
            "error_x": {
             "color": "#f2f5fa"
            },
            "error_y": {
             "color": "#f2f5fa"
            },
            "marker": {
             "line": {
              "color": "rgb(17,17,17)",
              "width": 0.5
             },
             "pattern": {
              "fillmode": "overlay",
              "size": 10,
              "solidity": 0.2
             }
            },
            "type": "bar"
           }
          ],
          "scattergeo": [
           {
            "type": "scattergeo",
            "marker": {
             "colorbar": {
              "outlinewidth": 0,
              "ticks": ""
             }
            }
           }
          ],
          "scatterpolar": [
           {
            "type": "scatterpolar",
            "marker": {
             "colorbar": {
              "outlinewidth": 0,
              "ticks": ""
             }
            }
           }
          ],
          "histogram": [
           {
            "marker": {
             "pattern": {
              "fillmode": "overlay",
              "size": 10,
              "solidity": 0.2
             }
            },
            "type": "histogram"
           }
          ],
          "scattergl": [
           {
            "marker": {
             "line": {
              "color": "#283442"
             }
            },
            "type": "scattergl"
           }
          ],
          "scatter3d": [
           {
            "type": "scatter3d",
            "line": {
             "colorbar": {
              "outlinewidth": 0,
              "ticks": ""
             }
            },
            "marker": {
             "colorbar": {
              "outlinewidth": 0,
              "ticks": ""
             }
            }
           }
          ],
          "scattermapbox": [
           {
            "type": "scattermapbox",
            "marker": {
             "colorbar": {
              "outlinewidth": 0,
              "ticks": ""
             }
            }
           }
          ],
          "scatterternary": [
           {
            "type": "scatterternary",
            "marker": {
             "colorbar": {
              "outlinewidth": 0,
              "ticks": ""
             }
            }
           }
          ],
          "scattercarpet": [
           {
            "type": "scattercarpet",
            "marker": {
             "colorbar": {
              "outlinewidth": 0,
              "ticks": ""
             }
            }
           }
          ],
          "carpet": [
           {
            "aaxis": {
             "endlinecolor": "#A2B1C6",
             "gridcolor": "#506784",
             "linecolor": "#506784",
             "minorgridcolor": "#506784",
             "startlinecolor": "#A2B1C6"
            },
            "baxis": {
             "endlinecolor": "#A2B1C6",
             "gridcolor": "#506784",
             "linecolor": "#506784",
             "minorgridcolor": "#506784",
             "startlinecolor": "#A2B1C6"
            },
            "type": "carpet"
           }
          ],
          "table": [
           {
            "cells": {
             "fill": {
              "color": "#506784"
             },
             "line": {
              "color": "rgb(17,17,17)"
             }
            },
            "header": {
             "fill": {
              "color": "#2a3f5f"
             },
             "line": {
              "color": "rgb(17,17,17)"
             }
            },
            "type": "table"
           }
          ],
          "barpolar": [
           {
            "marker": {
             "line": {
              "color": "rgb(17,17,17)",
              "width": 0.5
             },
             "pattern": {
              "fillmode": "overlay",
              "size": 10,
              "solidity": 0.2
             }
            },
            "type": "barpolar"
           }
          ],
          "pie": [
           {
            "automargin": true,
            "type": "pie"
           }
          ]
         },
         "layout": {
          "autotypenumbers": "strict",
          "colorway": [
           "#636efa",
           "#EF553B",
           "#00cc96",
           "#ab63fa",
           "#FFA15A",
           "#19d3f3",
           "#FF6692",
           "#B6E880",
           "#FF97FF",
           "#FECB52"
          ],
          "font": {
           "color": "#f2f5fa"
          },
          "hovermode": "closest",
          "hoverlabel": {
           "align": "left"
          },
          "paper_bgcolor": "rgb(17,17,17)",
          "plot_bgcolor": "rgb(17,17,17)",
          "polar": {
           "bgcolor": "rgb(17,17,17)",
           "angularaxis": {
            "gridcolor": "#506784",
            "linecolor": "#506784",
            "ticks": ""
           },
           "radialaxis": {
            "gridcolor": "#506784",
            "linecolor": "#506784",
            "ticks": ""
           }
          },
          "ternary": {
           "bgcolor": "rgb(17,17,17)",
           "aaxis": {
            "gridcolor": "#506784",
            "linecolor": "#506784",
            "ticks": ""
           },
           "baxis": {
            "gridcolor": "#506784",
            "linecolor": "#506784",
            "ticks": ""
           },
           "caxis": {
            "gridcolor": "#506784",
            "linecolor": "#506784",
            "ticks": ""
           }
          },
          "coloraxis": {
           "colorbar": {
            "outlinewidth": 0,
            "ticks": ""
           }
          },
          "colorscale": {
           "sequential": [
            [
             0.0,
             "#0d0887"
            ],
            [
             0.1111111111111111,
             "#46039f"
            ],
            [
             0.2222222222222222,
             "#7201a8"
            ],
            [
             0.3333333333333333,
             "#9c179e"
            ],
            [
             0.4444444444444444,
             "#bd3786"
            ],
            [
             0.5555555555555556,
             "#d8576b"
            ],
            [
             0.6666666666666666,
             "#ed7953"
            ],
            [
             0.7777777777777778,
             "#fb9f3a"
            ],
            [
             0.8888888888888888,
             "#fdca26"
            ],
            [
             1.0,
             "#f0f921"
            ]
           ],
           "sequentialminus": [
            [
             0.0,
             "#0d0887"
            ],
            [
             0.1111111111111111,
             "#46039f"
            ],
            [
             0.2222222222222222,
             "#7201a8"
            ],
            [
             0.3333333333333333,
             "#9c179e"
            ],
            [
             0.4444444444444444,
             "#bd3786"
            ],
            [
             0.5555555555555556,
             "#d8576b"
            ],
            [
             0.6666666666666666,
             "#ed7953"
            ],
            [
             0.7777777777777778,
             "#fb9f3a"
            ],
            [
             0.8888888888888888,
             "#fdca26"
            ],
            [
             1.0,
             "#f0f921"
            ]
           ],
           "diverging": [
            [
             0,
             "#8e0152"
            ],
            [
             0.1,
             "#c51b7d"
            ],
            [
             0.2,
             "#de77ae"
            ],
            [
             0.3,
             "#f1b6da"
            ],
            [
             0.4,
             "#fde0ef"
            ],
            [
             0.5,
             "#f7f7f7"
            ],
            [
             0.6,
             "#e6f5d0"
            ],
            [
             0.7,
             "#b8e186"
            ],
            [
             0.8,
             "#7fbc41"
            ],
            [
             0.9,
             "#4d9221"
            ],
            [
             1,
             "#276419"
            ]
           ]
          },
          "xaxis": {
           "gridcolor": "#283442",
           "linecolor": "#506784",
           "ticks": "",
           "title": {
            "standoff": 15
           },
           "zerolinecolor": "#283442",
           "automargin": true,
           "zerolinewidth": 2
          },
          "yaxis": {
           "gridcolor": "#283442",
           "linecolor": "#506784",
           "ticks": "",
           "title": {
            "standoff": 15
           },
           "zerolinecolor": "#283442",
           "automargin": true,
           "zerolinewidth": 2
          },
          "scene": {
           "xaxis": {
            "backgroundcolor": "rgb(17,17,17)",
            "gridcolor": "#506784",
            "linecolor": "#506784",
            "showbackground": true,
            "ticks": "",
            "zerolinecolor": "#C8D4E3",
            "gridwidth": 2
           },
           "yaxis": {
            "backgroundcolor": "rgb(17,17,17)",
            "gridcolor": "#506784",
            "linecolor": "#506784",
            "showbackground": true,
            "ticks": "",
            "zerolinecolor": "#C8D4E3",
            "gridwidth": 2
           },
           "zaxis": {
            "backgroundcolor": "rgb(17,17,17)",
            "gridcolor": "#506784",
            "linecolor": "#506784",
            "showbackground": true,
            "ticks": "",
            "zerolinecolor": "#C8D4E3",
            "gridwidth": 2
           }
          },
          "shapedefaults": {
           "line": {
            "color": "#f2f5fa"
           }
          },
          "annotationdefaults": {
           "arrowcolor": "#f2f5fa",
           "arrowhead": 0,
           "arrowwidth": 1
          },
          "geo": {
           "bgcolor": "rgb(17,17,17)",
           "landcolor": "rgb(17,17,17)",
           "subunitcolor": "#506784",
           "showland": true,
           "showlakes": true,
           "lakecolor": "rgb(17,17,17)"
          },
          "title": {
           "x": 0.05
          },
          "updatemenudefaults": {
           "bgcolor": "#506784",
           "borderwidth": 0
          },
          "sliderdefaults": {
           "bgcolor": "#C8D4E3",
           "borderwidth": 1,
           "bordercolor": "rgb(17,17,17)",
           "tickwidth": 0
          },
          "mapbox": {
           "style": "dark"
          }
         }
        },
        "mapbox": {
         "domain": {
          "x": [
           0.0,
           1.0
          ],
          "y": [
           0.0,
           1.0
          ]
         },
         "center": {
          "lat": 34.41934166666666,
          "lon": -118.52476666666668
         },
         "zoom": 10,
         "style": "open-street-map"
        },
        "legend": {
         "title": {
          "text": "Ranking Bucket"
         },
         "tracegroupgap": 0,
         "itemsizing": "constant",
         "yanchor": "top",
         "y": 0.99,
         "xanchor": "left",
         "x": 0.01
        },
        "margin": {
         "t": 60
        },
        "title": {
         "text": "Dentist-related 'Near Me' Ranking Zipcodes (Santa Clarita, CA)",
         "x": 0.5
        },
        "width": 1200,
        "height": 700
       },
       "config": {
        "plotlyServerURL": "https://plot.ly"
       }
      },
      "text/html": [
       "<div>                            <div id=\"2a18d6c9-a290-4d81-834a-85cdcb360f29\" class=\"plotly-graph-div\" style=\"height:700px; width:1200px;\"></div>            <script type=\"text/javascript\">                require([\"plotly\"], function(Plotly) {                    window.PLOTLYENV=window.PLOTLYENV || {};                                    if (document.getElementById(\"2a18d6c9-a290-4d81-834a-85cdcb360f29\")) {                    Plotly.newPlot(                        \"2a18d6c9-a290-4d81-834a-85cdcb360f29\",                        [{\"hovertemplate\":\"\\u003cb\\u003e%{hovertext}\\u003c\\u002fb\\u003e\\u003cbr\\u003e\\u003cbr\\u003eposition_bucket=4-10\\u003cbr\\u003ekeywords=%{marker.size}\\u003cbr\\u003ezipcode=%{text}\\u003cbr\\u003enew_lat=%{lat}\\u003cbr\\u003enew_lon=%{lon}\\u003cextra\\u003e\\u003c\\u002fextra\\u003e\",\"hovertext\":[\"91381\",\"91321\",\"91322\",\"91383\",\"91390\"],\"lat\":[34.33565833333332,34.339658333333325,34.35005833333333,34.364058333333325,34.51745833333333],\"legendgroup\":\"4-10\",\"lon\":[-118.70143333333334,-118.52123333333333,-118.53703333333334,-118.56043333333332,-118.52743333333333],\"marker\":{\"color\":\"#636EFA\",\"size\":[5,5,5,15,5],\"sizemode\":\"area\",\"sizeref\":0.016666666666666666},\"mode\":\"markers+text\",\"name\":\"4-10\",\"showlegend\":true,\"subplot\":\"mapbox\",\"text\":[\"91381\",\"91321\",\"91322\",\"91383\",\"91390\"],\"type\":\"scattermapbox\"},{\"hovertemplate\":\"\\u003cb\\u003e%{hovertext}\\u003c\\u002fb\\u003e\\u003cbr\\u003e\\u003cbr\\u003eposition_bucket=page 2\\u003cbr\\u003ekeywords=%{marker.size}\\u003cbr\\u003ezipcode=%{text}\\u003cbr\\u003enew_lat=%{lat}\\u003cbr\\u003enew_lon=%{lon}\\u003cextra\\u003e\\u003c\\u002fextra\\u003e\",\"hovertext\":[\"91355\",\"91387\",\"91386\",\"91351\",\"91350\",\"91354\",\"91310\"],\"lat\":[34.37765833333332,34.40705833333333,34.42725833333332,34.43305833333333,34.44785833333332,34.47385833333332,34.55845833333333],\"legendgroup\":\"page 2\",\"lon\":[-118.58223333333333,-118.32723333333334,-118.41923333333332,-118.37323333333333,-118.47663333333333,-118.55003333333335,-118.72103333333334],\"marker\":{\"color\":\"#FFA15A\",\"size\":[5,5,5,4,4,5,5],\"sizemode\":\"area\",\"sizeref\":0.016666666666666666},\"mode\":\"markers+text\",\"name\":\"page 2\",\"showlegend\":true,\"subplot\":\"mapbox\",\"text\":[\"91355\",\"91387\",\"91386\",\"91351\",\"91350\",\"91354\",\"91310\"],\"type\":\"scattermapbox\"},{\"hoverinfo\":\"text\",\"lat\":[34.4262,34.4336],\"lon\":[-118.449,-118.5007],\"marker\":{\"color\":\"#EF553B\",\"opacity\":0.8,\"size\":50},\"mode\":\"markers\",\"name\":\"Low Rankings\",\"showlegend\":true,\"text\":[\"Zipcode=91351, Keywords=1\",\"Zipcode=91350, Keywords=1\"],\"type\":\"scattermapbox\"}],                        {\"template\":{\"data\":{\"histogram2dcontour\":[{\"type\":\"histogram2dcontour\",\"colorbar\":{\"outlinewidth\":0,\"ticks\":\"\"},\"colorscale\":[[0.0,\"#0d0887\"],[0.1111111111111111,\"#46039f\"],[0.2222222222222222,\"#7201a8\"],[0.3333333333333333,\"#9c179e\"],[0.4444444444444444,\"#bd3786\"],[0.5555555555555556,\"#d8576b\"],[0.6666666666666666,\"#ed7953\"],[0.7777777777777778,\"#fb9f3a\"],[0.8888888888888888,\"#fdca26\"],[1.0,\"#f0f921\"]]}],\"choropleth\":[{\"type\":\"choropleth\",\"colorbar\":{\"outlinewidth\":0,\"ticks\":\"\"}}],\"histogram2d\":[{\"type\":\"histogram2d\",\"colorbar\":{\"outlinewidth\":0,\"ticks\":\"\"},\"colorscale\":[[0.0,\"#0d0887\"],[0.1111111111111111,\"#46039f\"],[0.2222222222222222,\"#7201a8\"],[0.3333333333333333,\"#9c179e\"],[0.4444444444444444,\"#bd3786\"],[0.5555555555555556,\"#d8576b\"],[0.6666666666666666,\"#ed7953\"],[0.7777777777777778,\"#fb9f3a\"],[0.8888888888888888,\"#fdca26\"],[1.0,\"#f0f921\"]]}],\"heatmap\":[{\"type\":\"heatmap\",\"colorbar\":{\"outlinewidth\":0,\"ticks\":\"\"},\"colorscale\":[[0.0,\"#0d0887\"],[0.1111111111111111,\"#46039f\"],[0.2222222222222222,\"#7201a8\"],[0.3333333333333333,\"#9c179e\"],[0.4444444444444444,\"#bd3786\"],[0.5555555555555556,\"#d8576b\"],[0.6666666666666666,\"#ed7953\"],[0.7777777777777778,\"#fb9f3a\"],[0.8888888888888888,\"#fdca26\"],[1.0,\"#f0f921\"]]}],\"heatmapgl\":[{\"type\":\"heatmapgl\",\"colorbar\":{\"outlinewidth\":0,\"ticks\":\"\"},\"colorscale\":[[0.0,\"#0d0887\"],[0.1111111111111111,\"#46039f\"],[0.2222222222222222,\"#7201a8\"],[0.3333333333333333,\"#9c179e\"],[0.4444444444444444,\"#bd3786\"],[0.5555555555555556,\"#d8576b\"],[0.6666666666666666,\"#ed7953\"],[0.7777777777777778,\"#fb9f3a\"],[0.8888888888888888,\"#fdca26\"],[1.0,\"#f0f921\"]]}],\"contourcarpet\":[{\"type\":\"contourcarpet\",\"colorbar\":{\"outlinewidth\":0,\"ticks\":\"\"}}],\"contour\":[{\"type\":\"contour\",\"colorbar\":{\"outlinewidth\":0,\"ticks\":\"\"},\"colorscale\":[[0.0,\"#0d0887\"],[0.1111111111111111,\"#46039f\"],[0.2222222222222222,\"#7201a8\"],[0.3333333333333333,\"#9c179e\"],[0.4444444444444444,\"#bd3786\"],[0.5555555555555556,\"#d8576b\"],[0.6666666666666666,\"#ed7953\"],[0.7777777777777778,\"#fb9f3a\"],[0.8888888888888888,\"#fdca26\"],[1.0,\"#f0f921\"]]}],\"surface\":[{\"type\":\"surface\",\"colorbar\":{\"outlinewidth\":0,\"ticks\":\"\"},\"colorscale\":[[0.0,\"#0d0887\"],[0.1111111111111111,\"#46039f\"],[0.2222222222222222,\"#7201a8\"],[0.3333333333333333,\"#9c179e\"],[0.4444444444444444,\"#bd3786\"],[0.5555555555555556,\"#d8576b\"],[0.6666666666666666,\"#ed7953\"],[0.7777777777777778,\"#fb9f3a\"],[0.8888888888888888,\"#fdca26\"],[1.0,\"#f0f921\"]]}],\"mesh3d\":[{\"type\":\"mesh3d\",\"colorbar\":{\"outlinewidth\":0,\"ticks\":\"\"}}],\"scatter\":[{\"marker\":{\"line\":{\"color\":\"#283442\"}},\"type\":\"scatter\"}],\"parcoords\":[{\"type\":\"parcoords\",\"line\":{\"colorbar\":{\"outlinewidth\":0,\"ticks\":\"\"}}}],\"scatterpolargl\":[{\"type\":\"scatterpolargl\",\"marker\":{\"colorbar\":{\"outlinewidth\":0,\"ticks\":\"\"}}}],\"bar\":[{\"error_x\":{\"color\":\"#f2f5fa\"},\"error_y\":{\"color\":\"#f2f5fa\"},\"marker\":{\"line\":{\"color\":\"rgb(17,17,17)\",\"width\":0.5},\"pattern\":{\"fillmode\":\"overlay\",\"size\":10,\"solidity\":0.2}},\"type\":\"bar\"}],\"scattergeo\":[{\"type\":\"scattergeo\",\"marker\":{\"colorbar\":{\"outlinewidth\":0,\"ticks\":\"\"}}}],\"scatterpolar\":[{\"type\":\"scatterpolar\",\"marker\":{\"colorbar\":{\"outlinewidth\":0,\"ticks\":\"\"}}}],\"histogram\":[{\"marker\":{\"pattern\":{\"fillmode\":\"overlay\",\"size\":10,\"solidity\":0.2}},\"type\":\"histogram\"}],\"scattergl\":[{\"marker\":{\"line\":{\"color\":\"#283442\"}},\"type\":\"scattergl\"}],\"scatter3d\":[{\"type\":\"scatter3d\",\"line\":{\"colorbar\":{\"outlinewidth\":0,\"ticks\":\"\"}},\"marker\":{\"colorbar\":{\"outlinewidth\":0,\"ticks\":\"\"}}}],\"scattermapbox\":[{\"type\":\"scattermapbox\",\"marker\":{\"colorbar\":{\"outlinewidth\":0,\"ticks\":\"\"}}}],\"scatterternary\":[{\"type\":\"scatterternary\",\"marker\":{\"colorbar\":{\"outlinewidth\":0,\"ticks\":\"\"}}}],\"scattercarpet\":[{\"type\":\"scattercarpet\",\"marker\":{\"colorbar\":{\"outlinewidth\":0,\"ticks\":\"\"}}}],\"carpet\":[{\"aaxis\":{\"endlinecolor\":\"#A2B1C6\",\"gridcolor\":\"#506784\",\"linecolor\":\"#506784\",\"minorgridcolor\":\"#506784\",\"startlinecolor\":\"#A2B1C6\"},\"baxis\":{\"endlinecolor\":\"#A2B1C6\",\"gridcolor\":\"#506784\",\"linecolor\":\"#506784\",\"minorgridcolor\":\"#506784\",\"startlinecolor\":\"#A2B1C6\"},\"type\":\"carpet\"}],\"table\":[{\"cells\":{\"fill\":{\"color\":\"#506784\"},\"line\":{\"color\":\"rgb(17,17,17)\"}},\"header\":{\"fill\":{\"color\":\"#2a3f5f\"},\"line\":{\"color\":\"rgb(17,17,17)\"}},\"type\":\"table\"}],\"barpolar\":[{\"marker\":{\"line\":{\"color\":\"rgb(17,17,17)\",\"width\":0.5},\"pattern\":{\"fillmode\":\"overlay\",\"size\":10,\"solidity\":0.2}},\"type\":\"barpolar\"}],\"pie\":[{\"automargin\":true,\"type\":\"pie\"}]},\"layout\":{\"autotypenumbers\":\"strict\",\"colorway\":[\"#636efa\",\"#EF553B\",\"#00cc96\",\"#ab63fa\",\"#FFA15A\",\"#19d3f3\",\"#FF6692\",\"#B6E880\",\"#FF97FF\",\"#FECB52\"],\"font\":{\"color\":\"#f2f5fa\"},\"hovermode\":\"closest\",\"hoverlabel\":{\"align\":\"left\"},\"paper_bgcolor\":\"rgb(17,17,17)\",\"plot_bgcolor\":\"rgb(17,17,17)\",\"polar\":{\"bgcolor\":\"rgb(17,17,17)\",\"angularaxis\":{\"gridcolor\":\"#506784\",\"linecolor\":\"#506784\",\"ticks\":\"\"},\"radialaxis\":{\"gridcolor\":\"#506784\",\"linecolor\":\"#506784\",\"ticks\":\"\"}},\"ternary\":{\"bgcolor\":\"rgb(17,17,17)\",\"aaxis\":{\"gridcolor\":\"#506784\",\"linecolor\":\"#506784\",\"ticks\":\"\"},\"baxis\":{\"gridcolor\":\"#506784\",\"linecolor\":\"#506784\",\"ticks\":\"\"},\"caxis\":{\"gridcolor\":\"#506784\",\"linecolor\":\"#506784\",\"ticks\":\"\"}},\"coloraxis\":{\"colorbar\":{\"outlinewidth\":0,\"ticks\":\"\"}},\"colorscale\":{\"sequential\":[[0.0,\"#0d0887\"],[0.1111111111111111,\"#46039f\"],[0.2222222222222222,\"#7201a8\"],[0.3333333333333333,\"#9c179e\"],[0.4444444444444444,\"#bd3786\"],[0.5555555555555556,\"#d8576b\"],[0.6666666666666666,\"#ed7953\"],[0.7777777777777778,\"#fb9f3a\"],[0.8888888888888888,\"#fdca26\"],[1.0,\"#f0f921\"]],\"sequentialminus\":[[0.0,\"#0d0887\"],[0.1111111111111111,\"#46039f\"],[0.2222222222222222,\"#7201a8\"],[0.3333333333333333,\"#9c179e\"],[0.4444444444444444,\"#bd3786\"],[0.5555555555555556,\"#d8576b\"],[0.6666666666666666,\"#ed7953\"],[0.7777777777777778,\"#fb9f3a\"],[0.8888888888888888,\"#fdca26\"],[1.0,\"#f0f921\"]],\"diverging\":[[0,\"#8e0152\"],[0.1,\"#c51b7d\"],[0.2,\"#de77ae\"],[0.3,\"#f1b6da\"],[0.4,\"#fde0ef\"],[0.5,\"#f7f7f7\"],[0.6,\"#e6f5d0\"],[0.7,\"#b8e186\"],[0.8,\"#7fbc41\"],[0.9,\"#4d9221\"],[1,\"#276419\"]]},\"xaxis\":{\"gridcolor\":\"#283442\",\"linecolor\":\"#506784\",\"ticks\":\"\",\"title\":{\"standoff\":15},\"zerolinecolor\":\"#283442\",\"automargin\":true,\"zerolinewidth\":2},\"yaxis\":{\"gridcolor\":\"#283442\",\"linecolor\":\"#506784\",\"ticks\":\"\",\"title\":{\"standoff\":15},\"zerolinecolor\":\"#283442\",\"automargin\":true,\"zerolinewidth\":2},\"scene\":{\"xaxis\":{\"backgroundcolor\":\"rgb(17,17,17)\",\"gridcolor\":\"#506784\",\"linecolor\":\"#506784\",\"showbackground\":true,\"ticks\":\"\",\"zerolinecolor\":\"#C8D4E3\",\"gridwidth\":2},\"yaxis\":{\"backgroundcolor\":\"rgb(17,17,17)\",\"gridcolor\":\"#506784\",\"linecolor\":\"#506784\",\"showbackground\":true,\"ticks\":\"\",\"zerolinecolor\":\"#C8D4E3\",\"gridwidth\":2},\"zaxis\":{\"backgroundcolor\":\"rgb(17,17,17)\",\"gridcolor\":\"#506784\",\"linecolor\":\"#506784\",\"showbackground\":true,\"ticks\":\"\",\"zerolinecolor\":\"#C8D4E3\",\"gridwidth\":2}},\"shapedefaults\":{\"line\":{\"color\":\"#f2f5fa\"}},\"annotationdefaults\":{\"arrowcolor\":\"#f2f5fa\",\"arrowhead\":0,\"arrowwidth\":1},\"geo\":{\"bgcolor\":\"rgb(17,17,17)\",\"landcolor\":\"rgb(17,17,17)\",\"subunitcolor\":\"#506784\",\"showland\":true,\"showlakes\":true,\"lakecolor\":\"rgb(17,17,17)\"},\"title\":{\"x\":0.05},\"updatemenudefaults\":{\"bgcolor\":\"#506784\",\"borderwidth\":0},\"sliderdefaults\":{\"bgcolor\":\"#C8D4E3\",\"borderwidth\":1,\"bordercolor\":\"rgb(17,17,17)\",\"tickwidth\":0},\"mapbox\":{\"style\":\"dark\"}}},\"mapbox\":{\"domain\":{\"x\":[0.0,1.0],\"y\":[0.0,1.0]},\"center\":{\"lat\":34.41934166666666,\"lon\":-118.52476666666668},\"zoom\":10,\"style\":\"open-street-map\"},\"legend\":{\"title\":{\"text\":\"Ranking Bucket\"},\"tracegroupgap\":0,\"itemsizing\":\"constant\",\"yanchor\":\"top\",\"y\":0.99,\"xanchor\":\"left\",\"x\":0.01},\"margin\":{\"t\":60},\"title\":{\"text\":\"Dentist-related 'Near Me' Ranking Zipcodes (Santa Clarita, CA)\",\"x\":0.5},\"width\":1200,\"height\":700},                        {\"responsive\": true}                    ).then(function(){\n",
       "                            \n",
       "var gd = document.getElementById('2a18d6c9-a290-4d81-834a-85cdcb360f29');\n",
       "var x = new MutationObserver(function (mutations, observer) {{\n",
       "        var display = window.getComputedStyle(gd).display;\n",
       "        if (!display || display === 'none') {{\n",
       "            console.log([gd, 'removed!']);\n",
       "            Plotly.purge(gd);\n",
       "            observer.disconnect();\n",
       "        }}\n",
       "}});\n",
       "\n",
       "// Listen for the removal of the full notebook cells\n",
       "var notebookContainer = gd.closest('#notebook-container');\n",
       "if (notebookContainer) {{\n",
       "    x.observe(notebookContainer, {childList: true});\n",
       "}}\n",
       "\n",
       "// Listen for the clearing of the current output cell\n",
       "var outputEl = gd.closest('.output');\n",
       "if (outputEl) {{\n",
       "    x.observe(outputEl, {childList: true});\n",
       "}}\n",
       "\n",
       "                        })                };                });            </script>        </div>"
      ]
     },
     "metadata": {},
     "output_type": "display_data"
    }
   ],
   "execution_count": 54
  },
  {
   "metadata": {},
   "cell_type": "markdown",
   "source": "### Visualize Results - Folium (optional)"
  },
  {
   "cell_type": "code",
   "source": [
    "import folium\n",
    "from folium.plugins import HeatMap\n",
    "import branca.colormap as cm\n",
    "\n",
    "\n",
    "loc = 'Dentist-related \"Near Me\" Ranking Zipcodes ({}, {})'.format(city, state)\n",
    "title_html = '''\n",
    "             <h3 align=\"center\" style=\"font-size:16px\"><b>{}</b></h3>\n",
    "             '''.format(loc)   \n",
    "\n",
    "# Initialize the map\n",
    "folium_fig = folium.Map(\n",
    "    location=[expanded_df['new_lat'].mean(), expanded_df['new_lon'].mean()],\n",
    "    zoom_start=11\n",
    ")\n",
    "\n",
    "folium_fig.get_root().html.add_child(folium.Element(title_html))\n",
    "\n",
    "# prepare the data\n",
    "map_values = expanded_df[['new_lat', 'new_lon', 'Aesthetic Dental_pos']]\n",
    "map_missing_values = group_not_ranking[['Latitude', 'Longitude', 'ranking_pos']]\n",
    "\n",
    "data = map_values.values.tolist()\n",
    "data_missing = map_missing_values.values.tolist()\n",
    "\n",
    "data = [x for x in data if str(x[0]) != 'nan']\n",
    "data_missing = [x for x in data_missing if str(x[0]) != 'nan']\n",
    "\n",
    "# gradient for rankings\n",
    "gradient = {\n",
    "    0.0: '#4B0082',  # indigo (lower rankings)\n",
    "    0.2: '#0000FF',\n",
    "    0.4: '#00BFFF',\n",
    "    0.6: '#00FF00',\n",
    "    0.8: '#FFD700',\n",
    "    1.0: '#FFA500'   # orange (higher rankings)\n",
    "}\n",
    "\n",
    "# HeatMap for ranking data\n",
    "hm_ranking = HeatMap(data,\n",
    "                     min_opacity=0.55,\n",
    "                     max_opacity=0.9,\n",
    "                     radius=35,\n",
    "                     gradient=gradient,\n",
    "                     tooltip='Ranking',\n",
    "                     ).add_to(folium_fig)\n",
    "\n",
    "# gradient for missing rankings\n",
    "gradient_not_ranking = {\n",
    "    0.0: '#FFCCCB',\n",
    "    0.25: '#FF9999',\n",
    "    0.5: '#FF6666',\n",
    "    0.75: '#FF3333',\n",
    "    1.0: '#FF0000',\n",
    "}\n",
    "\n",
    "# HeatMap for missing ranking data\n",
    "hm_not_ranking = HeatMap(data_missing,\n",
    "                         min_opacity=0.55,\n",
    "                         max_opacity=0.9,\n",
    "                         radius=35,\n",
    "                         gradient=gradient_not_ranking,\n",
    "                         tooltip='Ranking',\n",
    "                         ).add_to(folium_fig)\n",
    "\n",
    "\n",
    "# color legend\n",
    "colormap = cm.LinearColormap(\n",
    "    colors=['#0000FF', \n",
    "            '#0000FF', \n",
    "            '#00BFFF', \n",
    "            '#00FF00', \n",
    "            '#FFD700', \n",
    "            '#FFA500'],\n",
    "    vmin=min(expanded_df['Aesthetic Dental_pos']),\n",
    "    vmax=max(expanded_df['Aesthetic Dental_pos']),\n",
    "    caption='Ranking Position for Localized \"Dental\" Searches (Red = Not Ranking)',\n",
    "\n",
    ")\n",
    "\n",
    "colormap.add_to(folium_fig)\n",
    "\n",
    "# optional, add color markers for greater precision\n",
    "for idx, row in expanded_df.iterrows():\n",
    "    folium.CircleMarker(\n",
    "        location=[row['new_lat'], row['new_lon']],\n",
    "        radius=8,  # size of the circle\n",
    "        color=colormap(row['Aesthetic Dental_pos']),  # color based on ranking position\n",
    "        fill=True,\n",
    "        fill_opacity=1,\n",
    "        tooltip=f\"Zipcode: {row['zipcode']}, Ranking: {row['Aesthetic Dental_pos']}\",\n",
    "    ).add_to(folium_fig)\n",
    "    \n",
    "\n",
    "for idx, row in group_not_ranking.iterrows():\n",
    "    folium.CircleMarker(\n",
    "        location=[row['Latitude'], row['Longitude']],\n",
    "        radius=8,  \n",
    "        color='#FF0000',  # red\n",
    "        fill=True,\n",
    "        fill_opacity=1,\n",
    "        tooltip=f\"Zipcode: {row['zipcode']}, Keywords: {row['keywords']}\",\n",
    "    ).add_to(folium_fig)\n",
    "\n",
    "\n",
    "    \n",
    "# save html file\n",
    "folium_fig.save(f'plots/folium_map_{date_time}.html')\n",
    "folium_fig"
   ],
   "metadata": {
    "colab": {
     "base_uri": "https://localhost:8080/",
     "height": 739
    },
    "id": "QY6lEloox0oE",
    "outputId": "9037abc0-5902-498e-f2be-7214fd8503e0",
    "ExecuteTime": {
     "end_time": "2024-09-17T22:55:24.332618Z",
     "start_time": "2024-09-17T22:55:24.285384Z"
    }
   },
   "outputs": [
    {
     "data": {
      "text/plain": [
       "<folium.folium.Map at 0x130a7baa0>"
      ],
      "text/html": [
       "<div style=\"width:100%;\"><div style=\"position:relative;width:100%;height:0;padding-bottom:60%;\"><span style=\"color:#565656\">Make this Notebook Trusted to load map: File -> Trust Notebook</span><iframe srcdoc=\"&lt;!DOCTYPE html&gt;\n",
       "&lt;html&gt;\n",
       "&lt;head&gt;\n",
       "    \n",
       "    &lt;meta http-equiv=&quot;content-type&quot; content=&quot;text/html; charset=UTF-8&quot; /&gt;\n",
       "    \n",
       "        &lt;script&gt;\n",
       "            L_NO_TOUCH = false;\n",
       "            L_DISABLE_3D = false;\n",
       "        &lt;/script&gt;\n",
       "    \n",
       "    &lt;style&gt;html, body {width: 100%;height: 100%;margin: 0;padding: 0;}&lt;/style&gt;\n",
       "    &lt;style&gt;#map {position:absolute;top:0;bottom:0;right:0;left:0;}&lt;/style&gt;\n",
       "    &lt;script src=&quot;https://cdn.jsdelivr.net/npm/leaflet@1.9.3/dist/leaflet.js&quot;&gt;&lt;/script&gt;\n",
       "    &lt;script src=&quot;https://code.jquery.com/jquery-3.7.1.min.js&quot;&gt;&lt;/script&gt;\n",
       "    &lt;script src=&quot;https://cdn.jsdelivr.net/npm/bootstrap@5.2.2/dist/js/bootstrap.bundle.min.js&quot;&gt;&lt;/script&gt;\n",
       "    &lt;script src=&quot;https://cdnjs.cloudflare.com/ajax/libs/Leaflet.awesome-markers/2.0.2/leaflet.awesome-markers.js&quot;&gt;&lt;/script&gt;\n",
       "    &lt;link rel=&quot;stylesheet&quot; href=&quot;https://cdn.jsdelivr.net/npm/leaflet@1.9.3/dist/leaflet.css&quot;/&gt;\n",
       "    &lt;link rel=&quot;stylesheet&quot; href=&quot;https://cdn.jsdelivr.net/npm/bootstrap@5.2.2/dist/css/bootstrap.min.css&quot;/&gt;\n",
       "    &lt;link rel=&quot;stylesheet&quot; href=&quot;https://netdna.bootstrapcdn.com/bootstrap/3.0.0/css/bootstrap-glyphicons.css&quot;/&gt;\n",
       "    &lt;link rel=&quot;stylesheet&quot; href=&quot;https://cdn.jsdelivr.net/npm/@fortawesome/fontawesome-free@6.2.0/css/all.min.css&quot;/&gt;\n",
       "    &lt;link rel=&quot;stylesheet&quot; href=&quot;https://cdnjs.cloudflare.com/ajax/libs/Leaflet.awesome-markers/2.0.2/leaflet.awesome-markers.css&quot;/&gt;\n",
       "    &lt;link rel=&quot;stylesheet&quot; href=&quot;https://cdn.jsdelivr.net/gh/python-visualization/folium/folium/templates/leaflet.awesome.rotate.min.css&quot;/&gt;\n",
       "    \n",
       "            &lt;meta name=&quot;viewport&quot; content=&quot;width=device-width,\n",
       "                initial-scale=1.0, maximum-scale=1.0, user-scalable=no&quot; /&gt;\n",
       "            &lt;style&gt;\n",
       "                #map_e48d64a438bd82a9247c4da155ea8fef {\n",
       "                    position: relative;\n",
       "                    width: 100.0%;\n",
       "                    height: 100.0%;\n",
       "                    left: 0.0%;\n",
       "                    top: 0.0%;\n",
       "                }\n",
       "                .leaflet-container { font-size: 1rem; }\n",
       "            &lt;/style&gt;\n",
       "        \n",
       "    &lt;script src=&quot;https://cdn.jsdelivr.net/gh/python-visualization/folium@main/folium/templates/leaflet_heat.min.js&quot;&gt;&lt;/script&gt;\n",
       "    &lt;script src=&quot;https://cdnjs.cloudflare.com/ajax/libs/d3/3.5.5/d3.min.js&quot;&gt;&lt;/script&gt;\n",
       "&lt;/head&gt;\n",
       "&lt;body&gt;\n",
       "    \n",
       "    \n",
       "             &lt;h3 align=&quot;center&quot; style=&quot;font-size:16px&quot;&gt;&lt;b&gt;Dentist-related &quot;Near Me&quot; Ranking Zipcodes (Santa Clarita, CA)&lt;/b&gt;&lt;/h3&gt;\n",
       "             \n",
       "    \n",
       "            &lt;div class=&quot;folium-map&quot; id=&quot;map_e48d64a438bd82a9247c4da155ea8fef&quot; &gt;&lt;/div&gt;\n",
       "        \n",
       "&lt;/body&gt;\n",
       "&lt;script&gt;\n",
       "    \n",
       "    \n",
       "            var map_e48d64a438bd82a9247c4da155ea8fef = L.map(\n",
       "                &quot;map_e48d64a438bd82a9247c4da155ea8fef&quot;,\n",
       "                {\n",
       "                    center: [34.41934166666666, -118.52476666666668],\n",
       "                    crs: L.CRS.EPSG3857,\n",
       "                    zoom: 11,\n",
       "                    zoomControl: true,\n",
       "                    preferCanvas: false,\n",
       "                }\n",
       "            );\n",
       "\n",
       "            \n",
       "\n",
       "        \n",
       "    \n",
       "            var tile_layer_c4d71ed62061d1e822cf7e5c1dc9b299 = L.tileLayer(\n",
       "                &quot;https://tile.openstreetmap.org/{z}/{x}/{y}.png&quot;,\n",
       "                {&quot;attribution&quot;: &quot;\\u0026copy; \\u003ca href=\\&quot;https://www.openstreetmap.org/copyright\\&quot;\\u003eOpenStreetMap\\u003c/a\\u003e contributors&quot;, &quot;detectRetina&quot;: false, &quot;maxNativeZoom&quot;: 19, &quot;maxZoom&quot;: 19, &quot;minZoom&quot;: 0, &quot;noWrap&quot;: false, &quot;opacity&quot;: 1, &quot;subdomains&quot;: &quot;abc&quot;, &quot;tms&quot;: false}\n",
       "            );\n",
       "        \n",
       "    \n",
       "            tile_layer_c4d71ed62061d1e822cf7e5c1dc9b299.addTo(map_e48d64a438bd82a9247c4da155ea8fef);\n",
       "        \n",
       "    \n",
       "            var heat_map_06f10f3cfe746acacc6fcf943168170d = L.heatLayer(\n",
       "                [[34.33565833333332, -118.70143333333334, 3.6], [34.339658333333325, -118.52123333333333, 6.8], [34.35005833333333, -118.53703333333334, 4.2], [34.364058333333325, -118.56043333333332, 6.466666666666667], [34.37765833333332, -118.58223333333333, 13.4], [34.40705833333333, -118.32723333333334, 13.4], [34.42725833333332, -118.41923333333332, 18.0], [34.43305833333333, -118.37323333333333, 16.75], [34.44785833333332, -118.47663333333333, 12.75], [34.47385833333332, -118.55003333333335, 18.4], [34.51745833333333, -118.52743333333333, 7.4], [34.55845833333333, -118.72103333333334, 12.2]],\n",
       "                {&quot;blur&quot;: 15, &quot;gradient&quot;: {&quot;0.0&quot;: &quot;#4B0082&quot;, &quot;0.2&quot;: &quot;#0000FF&quot;, &quot;0.4&quot;: &quot;#00BFFF&quot;, &quot;0.6&quot;: &quot;#00FF00&quot;, &quot;0.8&quot;: &quot;#FFD700&quot;, &quot;1.0&quot;: &quot;#FFA500&quot;}, &quot;maxOpacity&quot;: 0.9, &quot;maxZoom&quot;: 18, &quot;minOpacity&quot;: 0.55, &quot;radius&quot;: 35, &quot;tooltip&quot;: &quot;Ranking&quot;}\n",
       "            );\n",
       "        \n",
       "    \n",
       "            heat_map_06f10f3cfe746acacc6fcf943168170d.addTo(map_e48d64a438bd82a9247c4da155ea8fef);\n",
       "        \n",
       "    \n",
       "            var heat_map_ee88845f8473b9f48dac61cd955f0ff5 = L.heatLayer(\n",
       "                [[34.4262, -118.449, 1000.0], [34.4336, -118.5007, 1000.0]],\n",
       "                {&quot;blur&quot;: 15, &quot;gradient&quot;: {&quot;0.0&quot;: &quot;#FFCCCB&quot;, &quot;0.25&quot;: &quot;#FF9999&quot;, &quot;0.5&quot;: &quot;#FF6666&quot;, &quot;0.75&quot;: &quot;#FF3333&quot;, &quot;1.0&quot;: &quot;#FF0000&quot;}, &quot;maxOpacity&quot;: 0.9, &quot;maxZoom&quot;: 18, &quot;minOpacity&quot;: 0.55, &quot;radius&quot;: 35, &quot;tooltip&quot;: &quot;Ranking&quot;}\n",
       "            );\n",
       "        \n",
       "    \n",
       "            heat_map_ee88845f8473b9f48dac61cd955f0ff5.addTo(map_e48d64a438bd82a9247c4da155ea8fef);\n",
       "        \n",
       "    \n",
       "    var color_map_f179b86c128970278dd29559c71dfa31 = {};\n",
       "\n",
       "    \n",
       "    color_map_f179b86c128970278dd29559c71dfa31.color = d3.scale.threshold()\n",
       "              .domain([3.6, 3.6296593186372745, 3.659318637274549, 3.688977955911824, 3.7186372745490983, 3.7482965931863728, 3.777955911823647, 3.807615230460922, 3.8372745490981965, 3.866933867735471, 3.8965931863727454, 3.9262525050100203, 3.9559118236472948, 3.985571142284569, 4.015230460921844, 4.044889779559118, 4.0745490981963925, 4.104208416833668, 4.133867735470941, 4.163527054108217, 4.193186372745491, 4.222845691382766, 4.25250501002004, 4.282164328657315, 4.311823647294589, 4.3414829659318634, 4.371142284569138, 4.400801603206413, 4.430460921843688, 4.460120240480962, 4.489779559118237, 4.519438877755511, 4.5490981963927855, 4.57875751503006, 4.608416833667334, 4.63807615230461, 4.667735470941883, 4.697394789579159, 4.727054108216433, 4.7567134268537075, 4.786372745490982, 4.816032064128256, 4.845691382765531, 4.875350701402805, 4.905010020040081, 4.934669338677355, 4.9643286573146295, 4.993987975951904, 5.023647294589178, 5.053306613226453, 5.082965931863727, 5.112625250501002, 5.142284569138276, 5.1719438877755515, 5.201603206412826, 5.2312625250501, 5.260921843687375, 5.290581162324649, 5.320240480961924, 5.349899799599198, 5.379559118236473, 5.409218436873747, 5.438877755511022, 5.468537074148297, 5.498196392785571, 5.527855711422846, 5.55751503006012, 5.587174348697395, 5.616833667334669, 5.646492985971944, 5.676152304609218, 5.705811623246493, 5.735470941883767, 5.765130260521042, 5.794789579158316, 5.824448897795591, 5.854108216432866, 5.88376753507014, 5.913426853707415, 5.943086172344689, 5.972745490981964, 6.002404809619239, 6.032064128256513, 6.0617234468937875, 6.091382765531062, 6.121042084168337, 6.150701402805611, 6.180360721442886, 6.21002004008016, 6.239679358717435, 6.2693386773547095, 6.298997995991984, 6.328657314629258, 6.358316633266533, 6.387975951903807, 6.417635270541082, 6.447294589178357, 6.476953907815631, 6.506613226452906, 6.5362725450901795, 6.565931863727455, 6.595591182364729, 6.625250501002004, 6.654909819639278, 6.684569138276553, 6.714228456913828, 6.743887775551102, 6.773547094188377, 6.803206412825651, 6.832865731462926, 6.8625250501002, 6.892184368737475, 6.92184368737475, 6.9515030060120235, 6.981162324649299, 7.010821643286572, 7.040480961923848, 7.070140280561122, 7.099799599198397, 7.129458917835671, 7.1591182364729455, 7.188777555110221, 7.218436873747494, 7.24809619238477, 7.277755511022043, 7.307414829659319, 7.337074148296593, 7.3667334669338675, 7.396392785571142, 7.426052104208416, 7.455711422845691, 7.485370741482965, 7.515030060120241, 7.544689378757514, 7.5743486973947896, 7.604008016032063, 7.6336673346693384, 7.663326653306614, 7.692985971943887, 7.722645290581163, 7.752304609218436, 7.781963927855712, 7.811623246492985, 7.8412825651302605, 7.870941883767534, 7.900601202404809, 7.930260521042083, 7.959919839679358, 7.989579158316632, 8.019238476953907, 8.048897795591182, 8.078557114228456, 8.108216432865731, 8.137875751503005, 8.16753507014028, 8.197194388777556, 8.22685370741483, 8.256513026052104, 8.286172344689378, 8.315831663326653, 8.345490981963929, 8.375150300601202, 8.404809619238478, 8.434468937875751, 8.464128256513026, 8.4937875751503, 8.523446893787575, 8.553106212424849, 8.582765531062124, 8.612424849699398, 8.642084168336673, 8.671743486973947, 8.701402805611222, 8.731062124248496, 8.760721442885771, 8.790380761523046, 8.82004008016032, 8.849699398797595, 8.879358717434869, 8.909018036072144, 8.93867735470942, 8.968336673346693, 8.997995991983968, 9.027655310621242, 9.057314629258517, 9.086973947895792, 9.116633266533066, 9.146292585170341, 9.175951903807615, 9.20561122244489, 9.235270541082164, 9.26492985971944, 9.294589178356713, 9.324248496993988, 9.353907815631262, 9.383567134268537, 9.41322645290581, 9.442885771543086, 9.47254509018036, 9.502204408817635, 9.53186372745491, 9.561523046092184, 9.591182364729459, 9.620841683366733, 9.650501002004008, 9.680160320641283, 9.709819639278557, 9.739478957915832, 9.769138276553106, 9.798797595190381, 9.828456913827655, 9.85811623246493, 9.887775551102205, 9.917434869739479, 9.947094188376754, 9.976753507014028, 10.006412825651303, 10.036072144288577, 10.065731462925852, 10.095390781563125, 10.1250501002004, 10.154709418837674, 10.18436873747495, 10.214028056112223, 10.243687374749499, 10.273346693386772, 10.303006012024047, 10.332665330661323, 10.362324649298596, 10.391983967935872, 10.421643286573145, 10.45130260521042, 10.480961923847696, 10.51062124248497, 10.540280561122245, 10.569939879759518, 10.599599198396794, 10.629258517034067, 10.658917835671343, 10.688577154308616, 10.718236472945891, 10.747895791583165, 10.77755511022044, 10.807214428857716, 10.83687374749499, 10.866533066132265, 10.896192384769538, 10.925851703406813, 10.955511022044087, 10.985170340681362, 11.014829659318636, 11.044488977955911, 11.074148296593187, 11.10380761523046, 11.133466933867735, 11.163126252505009, 11.192785571142284, 11.22244488977956, 11.252104208416833, 11.281763527054109, 11.311422845691382, 11.341082164328657, 11.370741482965931, 11.400400801603206, 11.43006012024048, 11.459719438877755, 11.489378757515029, 11.519038076152304, 11.548697394789578, 11.578356713426853, 11.608016032064127, 11.637675350701402, 11.667334669338677, 11.69699398797595, 11.726653306613226, 11.7563126252505, 11.785971943887775, 11.815631262525049, 11.845290581162324, 11.8749498997996, 11.904609218436873, 11.934268537074146, 11.963927855711422, 11.993587174348697, 12.02324649298597, 12.052905811623246, 12.08256513026052, 12.112224448897795, 12.141883767535068, 12.171543086172344, 12.201202404809619, 12.230861723446893, 12.260521042084166, 12.290180360721441, 12.319839679358717, 12.349498997995992, 12.379158316633264, 12.40881763527054, 12.438476953907815, 12.46813627254509, 12.497795591182363, 12.527454909819637, 12.557114228456912, 12.586773547094188, 12.616432865731463, 12.646092184368737, 12.67575150300601, 12.705410821643286, 12.73507014028056, 12.764729458917834, 12.79438877755511, 12.824048096192383, 12.853707414829659, 12.883366733466932, 12.913026052104208, 12.942685370741483, 12.972344689378756, 13.00200400801603, 13.031663326653305, 13.06132264529058, 13.090981963927856, 13.120641282565128, 13.150300601202403, 13.179959919839678, 13.209619238476954, 13.239278557114227, 13.2689378757515, 13.298597194388776, 13.328256513026052, 13.357915831663325, 13.3875751503006, 13.417234468937874, 13.44689378757515, 13.476553106212425, 13.506212424849698, 13.535871743486974, 13.565531062124247, 13.595190380761522, 13.624849699398796, 13.654509018036071, 13.684168336673347, 13.71382765531062, 13.743486973947894, 13.773146292585169, 13.802805611222444, 13.83246492985972, 13.862124248496992, 13.891783567134267, 13.921442885771542, 13.951102204408818, 13.980761523046091, 14.010420841683365, 14.04008016032064, 14.069739478957915, 14.099398797595189, 14.129058116232464, 14.158717434869738, 14.188376753507013, 14.218036072144287, 14.247695390781562, 14.277354709418837, 14.30701402805611, 14.336673346693384, 14.36633266533066, 14.395991983967935, 14.42565130260521, 14.455310621242484, 14.484969939879758, 14.514629258517033, 14.544288577154308, 14.573947895791584, 14.603607214428855, 14.63326653306613, 14.662925851703406, 14.692585170340681, 14.722244488977955, 14.751903807615228, 14.781563126252504, 14.81122244488978, 14.840881763527053, 14.870541082164328, 14.900200400801602, 14.929859719438877, 14.95951903807615, 14.989178356713426, 15.018837675350701, 15.048496993987975, 15.078156312625248, 15.107815631262524, 15.137474949899799, 15.167134268537074, 15.196793587174346, 15.226452905811621, 15.256112224448897, 15.285771543086172, 15.315430861723447, 15.34509018036072, 15.374749498997994, 15.40440881763527, 15.434068136272545, 15.463727454909819, 15.493386773547092, 15.523046092184368, 15.552705410821643, 15.582364729458916, 15.612024048096192, 15.641683366733465, 15.67134268537074, 15.701002004008014, 15.73066132264529, 15.760320641282565, 15.789979959919838, 15.819639278557112, 15.849298597194387, 15.878957915831663, 15.908617234468938, 15.93827655310621, 15.967935871743485, 15.99759519038076, 16.027254509018036, 16.05691382765531, 16.086573146292583, 16.11623246492986, 16.145891783567134, 16.17555110220441, 16.205210420841684, 16.234869739478956, 16.26452905811623, 16.294188376753507, 16.323847695390782, 16.353507014028054, 16.38316633266533, 16.412825651302605, 16.44248496993988, 16.472144288577155, 16.501803607214427, 16.531462925851702, 16.561122244488978, 16.590781563126253, 16.62044088176353, 16.6501002004008, 16.679759519038075, 16.70941883767535, 16.739078156312626, 16.7687374749499, 16.798396793587173, 16.82805611222445, 16.857715430861724, 16.887374749499, 16.91703406813627, 16.946693386773546, 16.97635270541082, 17.006012024048097, 17.035671342685372, 17.065330661322644, 17.09498997995992, 17.124649298597195, 17.15430861723447, 17.183967935871742, 17.213627254509017, 17.243286573146293, 17.272945891783568, 17.30260521042084, 17.332264529058115, 17.36192384769539, 17.391583166332666, 17.421242484969937, 17.450901803607213, 17.480561122244488, 17.510220440881763, 17.539879759519035, 17.56953907815631, 17.599198396793586, 17.62885771543086, 17.658517034068137, 17.68817635270541, 17.717835671342684, 17.74749498997996, 17.777154308617234, 17.80681362725451, 17.83647294589178, 17.866132264529057, 17.895791583166332, 17.925450901803607, 17.955110220440883, 17.984769539078155, 18.01442885771543, 18.044088176352705, 18.07374749498998, 18.103406813627256, 18.133066132264528, 18.162725450901803, 18.19238476953908, 18.222044088176354, 18.25170340681363, 18.2813627254509, 18.311022044088176, 18.34068136272545, 18.370340681362727, 18.4])\n",
       "              .range([&#x27;#0000ffff&#x27;, &#x27;#0000ffff&#x27;, &#x27;#0000ffff&#x27;, &#x27;#0000ffff&#x27;, &#x27;#0000ffff&#x27;, &#x27;#0000ffff&#x27;, &#x27;#0000ffff&#x27;, &#x27;#0000ffff&#x27;, &#x27;#0000ffff&#x27;, &#x27;#0000ffff&#x27;, &#x27;#0000ffff&#x27;, &#x27;#0000ffff&#x27;, &#x27;#0000ffff&#x27;, &#x27;#0000ffff&#x27;, &#x27;#0000ffff&#x27;, &#x27;#0000ffff&#x27;, &#x27;#0000ffff&#x27;, &#x27;#0000ffff&#x27;, &#x27;#0000ffff&#x27;, &#x27;#0000ffff&#x27;, &#x27;#0000ffff&#x27;, &#x27;#0000ffff&#x27;, &#x27;#0000ffff&#x27;, &#x27;#0000ffff&#x27;, &#x27;#0000ffff&#x27;, &#x27;#0000ffff&#x27;, &#x27;#0000ffff&#x27;, &#x27;#0000ffff&#x27;, &#x27;#0000ffff&#x27;, &#x27;#0000ffff&#x27;, &#x27;#0000ffff&#x27;, &#x27;#0000ffff&#x27;, &#x27;#0000ffff&#x27;, &#x27;#0000ffff&#x27;, &#x27;#0000ffff&#x27;, &#x27;#0000ffff&#x27;, &#x27;#0000ffff&#x27;, &#x27;#0000ffff&#x27;, &#x27;#0000ffff&#x27;, &#x27;#0000ffff&#x27;, &#x27;#0000ffff&#x27;, &#x27;#0000ffff&#x27;, &#x27;#0000ffff&#x27;, &#x27;#0000ffff&#x27;, &#x27;#0000ffff&#x27;, &#x27;#0000ffff&#x27;, &#x27;#0000ffff&#x27;, &#x27;#0000ffff&#x27;, &#x27;#0000ffff&#x27;, &#x27;#0000ffff&#x27;, &#x27;#0000ffff&#x27;, &#x27;#0000ffff&#x27;, &#x27;#0000ffff&#x27;, &#x27;#0000ffff&#x27;, &#x27;#0000ffff&#x27;, &#x27;#0000ffff&#x27;, &#x27;#0000ffff&#x27;, &#x27;#0000ffff&#x27;, &#x27;#0000ffff&#x27;, &#x27;#0000ffff&#x27;, &#x27;#0000ffff&#x27;, &#x27;#0000ffff&#x27;, &#x27;#0000ffff&#x27;, &#x27;#0000ffff&#x27;, &#x27;#0000ffff&#x27;, &#x27;#0000ffff&#x27;, &#x27;#0000ffff&#x27;, &#x27;#0000ffff&#x27;, &#x27;#0000ffff&#x27;, &#x27;#0000ffff&#x27;, &#x27;#0000ffff&#x27;, &#x27;#0000ffff&#x27;, &#x27;#0000ffff&#x27;, &#x27;#0000ffff&#x27;, &#x27;#0000ffff&#x27;, &#x27;#0000ffff&#x27;, &#x27;#0000ffff&#x27;, &#x27;#0000ffff&#x27;, &#x27;#0000ffff&#x27;, &#x27;#0000ffff&#x27;, &#x27;#0000ffff&#x27;, &#x27;#0000ffff&#x27;, &#x27;#0000ffff&#x27;, &#x27;#0000ffff&#x27;, &#x27;#0000ffff&#x27;, &#x27;#0000ffff&#x27;, &#x27;#0000ffff&#x27;, &#x27;#0000ffff&#x27;, &#x27;#0000ffff&#x27;, &#x27;#0000ffff&#x27;, &#x27;#0000ffff&#x27;, &#x27;#0000ffff&#x27;, &#x27;#0000ffff&#x27;, &#x27;#0000ffff&#x27;, &#x27;#0000ffff&#x27;, &#x27;#0000ffff&#x27;, &#x27;#0000ffff&#x27;, &#x27;#0000ffff&#x27;, &#x27;#0000ffff&#x27;, &#x27;#0000ffff&#x27;, &#x27;#0000ffff&#x27;, &#x27;#0002ffff&#x27;, &#x27;#0004ffff&#x27;, &#x27;#0006ffff&#x27;, &#x27;#0008ffff&#x27;, &#x27;#0009ffff&#x27;, &#x27;#000bffff&#x27;, &#x27;#000dffff&#x27;, &#x27;#000fffff&#x27;, &#x27;#0011ffff&#x27;, &#x27;#0013ffff&#x27;, &#x27;#0015ffff&#x27;, &#x27;#0017ffff&#x27;, &#x27;#0019ffff&#x27;, &#x27;#001bffff&#x27;, &#x27;#001dffff&#x27;, &#x27;#001fffff&#x27;, &#x27;#0021ffff&#x27;, &#x27;#0022ffff&#x27;, &#x27;#0024ffff&#x27;, &#x27;#0026ffff&#x27;, &#x27;#0028ffff&#x27;, &#x27;#002affff&#x27;, &#x27;#002cffff&#x27;, &#x27;#002effff&#x27;, &#x27;#0030ffff&#x27;, &#x27;#0032ffff&#x27;, &#x27;#0034ffff&#x27;, &#x27;#0036ffff&#x27;, &#x27;#0038ffff&#x27;, &#x27;#003affff&#x27;, &#x27;#003bffff&#x27;, &#x27;#003dffff&#x27;, &#x27;#003fffff&#x27;, &#x27;#0041ffff&#x27;, &#x27;#0043ffff&#x27;, &#x27;#0045ffff&#x27;, &#x27;#0047ffff&#x27;, &#x27;#0049ffff&#x27;, &#x27;#004bffff&#x27;, &#x27;#004dffff&#x27;, &#x27;#004fffff&#x27;, &#x27;#0051ffff&#x27;, &#x27;#0053ffff&#x27;, &#x27;#0054ffff&#x27;, &#x27;#0056ffff&#x27;, &#x27;#0058ffff&#x27;, &#x27;#005affff&#x27;, &#x27;#005cffff&#x27;, &#x27;#005effff&#x27;, &#x27;#0060ffff&#x27;, &#x27;#0062ffff&#x27;, &#x27;#0064ffff&#x27;, &#x27;#0066ffff&#x27;, &#x27;#0068ffff&#x27;, &#x27;#006affff&#x27;, &#x27;#006bffff&#x27;, &#x27;#006dffff&#x27;, &#x27;#006fffff&#x27;, &#x27;#0071ffff&#x27;, &#x27;#0073ffff&#x27;, &#x27;#0075ffff&#x27;, &#x27;#0077ffff&#x27;, &#x27;#0079ffff&#x27;, &#x27;#007bffff&#x27;, &#x27;#007dffff&#x27;, &#x27;#007fffff&#x27;, &#x27;#0081ffff&#x27;, &#x27;#0083ffff&#x27;, &#x27;#0084ffff&#x27;, &#x27;#0086ffff&#x27;, &#x27;#0088ffff&#x27;, &#x27;#008affff&#x27;, &#x27;#008cffff&#x27;, &#x27;#008effff&#x27;, &#x27;#0090ffff&#x27;, &#x27;#0092ffff&#x27;, &#x27;#0094ffff&#x27;, &#x27;#0096ffff&#x27;, &#x27;#0098ffff&#x27;, &#x27;#009affff&#x27;, &#x27;#009cffff&#x27;, &#x27;#009dffff&#x27;, &#x27;#009fffff&#x27;, &#x27;#00a1ffff&#x27;, &#x27;#00a3ffff&#x27;, &#x27;#00a5ffff&#x27;, &#x27;#00a7ffff&#x27;, &#x27;#00a9ffff&#x27;, &#x27;#00abffff&#x27;, &#x27;#00adffff&#x27;, &#x27;#00afffff&#x27;, &#x27;#00b1ffff&#x27;, &#x27;#00b3ffff&#x27;, &#x27;#00b4ffff&#x27;, &#x27;#00b6ffff&#x27;, &#x27;#00b8ffff&#x27;, &#x27;#00baffff&#x27;, &#x27;#00bcffff&#x27;, &#x27;#00beffff&#x27;, &#x27;#00c0feff&#x27;, &#x27;#00c0fcff&#x27;, &#x27;#00c1f9ff&#x27;, &#x27;#00c1f7ff&#x27;, &#x27;#00c2f4ff&#x27;, &#x27;#00c3f2ff&#x27;, &#x27;#00c3efff&#x27;, &#x27;#00c4edff&#x27;, &#x27;#00c5eaff&#x27;, &#x27;#00c5e7ff&#x27;, &#x27;#00c6e5ff&#x27;, &#x27;#00c7e2ff&#x27;, &#x27;#00c7e0ff&#x27;, &#x27;#00c8ddff&#x27;, &#x27;#00c9dbff&#x27;, &#x27;#00c9d8ff&#x27;, &#x27;#00cad5ff&#x27;, &#x27;#00cad3ff&#x27;, &#x27;#00cbd0ff&#x27;, &#x27;#00ccceff&#x27;, &#x27;#00cccbff&#x27;, &#x27;#00cdc9ff&#x27;, &#x27;#00cec6ff&#x27;, &#x27;#00cec3ff&#x27;, &#x27;#00cfc1ff&#x27;, &#x27;#00d0beff&#x27;, &#x27;#00d0bcff&#x27;, &#x27;#00d1b9ff&#x27;, &#x27;#00d2b7ff&#x27;, &#x27;#00d2b4ff&#x27;, &#x27;#00d3b2ff&#x27;, &#x27;#00d3afff&#x27;, &#x27;#00d4acff&#x27;, &#x27;#00d5aaff&#x27;, &#x27;#00d5a7ff&#x27;, &#x27;#00d6a5ff&#x27;, &#x27;#00d7a2ff&#x27;, &#x27;#00d7a0ff&#x27;, &#x27;#00d89dff&#x27;, &#x27;#00d99aff&#x27;, &#x27;#00d998ff&#x27;, &#x27;#00da95ff&#x27;, &#x27;#00db93ff&#x27;, &#x27;#00db90ff&#x27;, &#x27;#00dc8eff&#x27;, &#x27;#00dc8bff&#x27;, &#x27;#00dd88ff&#x27;, &#x27;#00de86ff&#x27;, &#x27;#00de83ff&#x27;, &#x27;#00df81ff&#x27;, &#x27;#00e07eff&#x27;, &#x27;#00e07cff&#x27;, &#x27;#00e179ff&#x27;, &#x27;#00e277ff&#x27;, &#x27;#00e274ff&#x27;, &#x27;#00e371ff&#x27;, &#x27;#00e46fff&#x27;, &#x27;#00e46cff&#x27;, &#x27;#00e56aff&#x27;, &#x27;#00e567ff&#x27;, &#x27;#00e665ff&#x27;, &#x27;#00e762ff&#x27;, &#x27;#00e75fff&#x27;, &#x27;#00e85dff&#x27;, &#x27;#00e95aff&#x27;, &#x27;#00e958ff&#x27;, &#x27;#00ea55ff&#x27;, &#x27;#00eb53ff&#x27;, &#x27;#00eb50ff&#x27;, &#x27;#00ec4dff&#x27;, &#x27;#00ed4bff&#x27;, &#x27;#00ed48ff&#x27;, &#x27;#00ee46ff&#x27;, &#x27;#00ef43ff&#x27;, &#x27;#00ef41ff&#x27;, &#x27;#00f03eff&#x27;, &#x27;#00f03cff&#x27;, &#x27;#00f139ff&#x27;, &#x27;#00f236ff&#x27;, &#x27;#00f234ff&#x27;, &#x27;#00f331ff&#x27;, &#x27;#00f42fff&#x27;, &#x27;#00f42cff&#x27;, &#x27;#00f52aff&#x27;, &#x27;#00f627ff&#x27;, &#x27;#00f624ff&#x27;, &#x27;#00f722ff&#x27;, &#x27;#00f81fff&#x27;, &#x27;#00f81dff&#x27;, &#x27;#00f91aff&#x27;, &#x27;#00f918ff&#x27;, &#x27;#00fa15ff&#x27;, &#x27;#00fb12ff&#x27;, &#x27;#00fb10ff&#x27;, &#x27;#00fc0dff&#x27;, &#x27;#00fd0bff&#x27;, &#x27;#00fd08ff&#x27;, &#x27;#00fe06ff&#x27;, &#x27;#00ff03ff&#x27;, &#x27;#00ff01ff&#x27;, &#x27;#01ff00ff&#x27;, &#x27;#04ff00ff&#x27;, &#x27;#06fe00ff&#x27;, &#x27;#09fe00ff&#x27;, &#x27;#0bfe00ff&#x27;, &#x27;#0efd00ff&#x27;, &#x27;#10fd00ff&#x27;, &#x27;#13fc00ff&#x27;, &#x27;#16fc00ff&#x27;, &#x27;#18fc00ff&#x27;, &#x27;#1bfb00ff&#x27;, &#x27;#1dfb00ff&#x27;, &#x27;#20fa00ff&#x27;, &#x27;#22fa00ff&#x27;, &#x27;#25fa00ff&#x27;, &#x27;#28f900ff&#x27;, &#x27;#2af900ff&#x27;, &#x27;#2df800ff&#x27;, &#x27;#2ff800ff&#x27;, &#x27;#32f800ff&#x27;, &#x27;#34f700ff&#x27;, &#x27;#37f700ff&#x27;, &#x27;#39f600ff&#x27;, &#x27;#3cf600ff&#x27;, &#x27;#3ff600ff&#x27;, &#x27;#41f500ff&#x27;, &#x27;#44f500ff&#x27;, &#x27;#46f400ff&#x27;, &#x27;#49f400ff&#x27;, &#x27;#4bf400ff&#x27;, &#x27;#4ef300ff&#x27;, &#x27;#51f300ff&#x27;, &#x27;#53f200ff&#x27;, &#x27;#56f200ff&#x27;, &#x27;#58f200ff&#x27;, &#x27;#5bf100ff&#x27;, &#x27;#5df100ff&#x27;, &#x27;#60f000ff&#x27;, &#x27;#63f000ff&#x27;, &#x27;#65f000ff&#x27;, &#x27;#68ef00ff&#x27;, &#x27;#6aef00ff&#x27;, &#x27;#6dee00ff&#x27;, &#x27;#6fee00ff&#x27;, &#x27;#72ee00ff&#x27;, &#x27;#74ed00ff&#x27;, &#x27;#77ed00ff&#x27;, &#x27;#7aec00ff&#x27;, &#x27;#7cec00ff&#x27;, &#x27;#7fec00ff&#x27;, &#x27;#81eb00ff&#x27;, &#x27;#84eb00ff&#x27;, &#x27;#86ea00ff&#x27;, &#x27;#89ea00ff&#x27;, &#x27;#8cea00ff&#x27;, &#x27;#8ee900ff&#x27;, &#x27;#91e900ff&#x27;, &#x27;#93e800ff&#x27;, &#x27;#96e800ff&#x27;, &#x27;#98e800ff&#x27;, &#x27;#9be700ff&#x27;, &#x27;#9ee700ff&#x27;, &#x27;#a0e600ff&#x27;, &#x27;#a3e600ff&#x27;, &#x27;#a5e600ff&#x27;, &#x27;#a8e500ff&#x27;, &#x27;#aae500ff&#x27;, &#x27;#ade400ff&#x27;, &#x27;#afe400ff&#x27;, &#x27;#b2e300ff&#x27;, &#x27;#b5e300ff&#x27;, &#x27;#b7e300ff&#x27;, &#x27;#bae200ff&#x27;, &#x27;#bce200ff&#x27;, &#x27;#bfe100ff&#x27;, &#x27;#c1e100ff&#x27;, &#x27;#c4e100ff&#x27;, &#x27;#c7e000ff&#x27;, &#x27;#c9e000ff&#x27;, &#x27;#ccdf00ff&#x27;, &#x27;#cedf00ff&#x27;, &#x27;#d1df00ff&#x27;, &#x27;#d3de00ff&#x27;, &#x27;#d6de00ff&#x27;, &#x27;#d9dd00ff&#x27;, &#x27;#dbdd00ff&#x27;, &#x27;#dedd00ff&#x27;, &#x27;#e0dc00ff&#x27;, &#x27;#e3dc00ff&#x27;, &#x27;#e5db00ff&#x27;, &#x27;#e8db00ff&#x27;, &#x27;#eadb00ff&#x27;, &#x27;#edda00ff&#x27;, &#x27;#f0da00ff&#x27;, &#x27;#f2d900ff&#x27;, &#x27;#f5d900ff&#x27;, &#x27;#f7d900ff&#x27;, &#x27;#fad800ff&#x27;, &#x27;#fcd800ff&#x27;, &#x27;#ffd700ff&#x27;, &#x27;#ffd700ff&#x27;, &#x27;#ffd600ff&#x27;, &#x27;#ffd600ff&#x27;, &#x27;#ffd500ff&#x27;, &#x27;#ffd500ff&#x27;, &#x27;#ffd400ff&#x27;, &#x27;#ffd400ff&#x27;, &#x27;#ffd300ff&#x27;, &#x27;#ffd300ff&#x27;, &#x27;#ffd200ff&#x27;, &#x27;#ffd200ff&#x27;, &#x27;#ffd100ff&#x27;, &#x27;#ffd100ff&#x27;, &#x27;#ffd000ff&#x27;, &#x27;#ffd000ff&#x27;, &#x27;#ffcf00ff&#x27;, &#x27;#ffcf00ff&#x27;, &#x27;#ffce00ff&#x27;, &#x27;#ffce00ff&#x27;, &#x27;#ffcd00ff&#x27;, &#x27;#ffcd00ff&#x27;, &#x27;#ffcc00ff&#x27;, &#x27;#ffcc00ff&#x27;, &#x27;#ffcb00ff&#x27;, &#x27;#ffcb00ff&#x27;, &#x27;#ffca00ff&#x27;, &#x27;#ffca00ff&#x27;, &#x27;#ffc900ff&#x27;, &#x27;#ffc900ff&#x27;, &#x27;#ffc800ff&#x27;, &#x27;#ffc800ff&#x27;, &#x27;#ffc700ff&#x27;, &#x27;#ffc700ff&#x27;, &#x27;#ffc600ff&#x27;, &#x27;#ffc600ff&#x27;, &#x27;#ffc500ff&#x27;, &#x27;#ffc500ff&#x27;, &#x27;#ffc400ff&#x27;, &#x27;#ffc400ff&#x27;, &#x27;#ffc300ff&#x27;, &#x27;#ffc300ff&#x27;, &#x27;#ffc200ff&#x27;, &#x27;#ffc200ff&#x27;, &#x27;#ffc100ff&#x27;, &#x27;#ffc100ff&#x27;, &#x27;#ffc000ff&#x27;, &#x27;#ffc000ff&#x27;, &#x27;#ffbf00ff&#x27;, &#x27;#ffbf00ff&#x27;, &#x27;#ffbe00ff&#x27;, &#x27;#ffbe00ff&#x27;, &#x27;#ffbd00ff&#x27;, &#x27;#ffbd00ff&#x27;, &#x27;#ffbc00ff&#x27;, &#x27;#ffbc00ff&#x27;, &#x27;#ffbb00ff&#x27;, &#x27;#ffbb00ff&#x27;, &#x27;#ffba00ff&#x27;, &#x27;#ffba00ff&#x27;, &#x27;#ffb900ff&#x27;, &#x27;#ffb900ff&#x27;, &#x27;#ffb800ff&#x27;, &#x27;#ffb800ff&#x27;, &#x27;#ffb700ff&#x27;, &#x27;#ffb700ff&#x27;, &#x27;#ffb600ff&#x27;, &#x27;#ffb600ff&#x27;, &#x27;#ffb500ff&#x27;, &#x27;#ffb500ff&#x27;, &#x27;#ffb400ff&#x27;, &#x27;#ffb400ff&#x27;, &#x27;#ffb300ff&#x27;, &#x27;#ffb300ff&#x27;, &#x27;#ffb200ff&#x27;, &#x27;#ffb200ff&#x27;, &#x27;#ffb100ff&#x27;, &#x27;#ffb100ff&#x27;, &#x27;#ffb000ff&#x27;, &#x27;#ffb000ff&#x27;, &#x27;#ffaf00ff&#x27;, &#x27;#ffaf00ff&#x27;, &#x27;#ffae00ff&#x27;, &#x27;#ffae00ff&#x27;, &#x27;#ffad00ff&#x27;, &#x27;#ffad00ff&#x27;, &#x27;#ffac00ff&#x27;, &#x27;#ffac00ff&#x27;, &#x27;#ffab00ff&#x27;, &#x27;#ffab00ff&#x27;, &#x27;#ffaa00ff&#x27;, &#x27;#ffaa00ff&#x27;, &#x27;#ffa900ff&#x27;, &#x27;#ffa900ff&#x27;, &#x27;#ffa800ff&#x27;, &#x27;#ffa800ff&#x27;, &#x27;#ffa700ff&#x27;, &#x27;#ffa700ff&#x27;, &#x27;#ffa600ff&#x27;, &#x27;#ffa600ff&#x27;, &#x27;#ffa500ff&#x27;]);\n",
       "    \n",
       "\n",
       "    color_map_f179b86c128970278dd29559c71dfa31.x = d3.scale.linear()\n",
       "              .domain([3.6, 18.4])\n",
       "              .range([0, 450 - 50]);\n",
       "\n",
       "    color_map_f179b86c128970278dd29559c71dfa31.legend = L.control({position: &#x27;topright&#x27;});\n",
       "    color_map_f179b86c128970278dd29559c71dfa31.legend.onAdd = function (map) {var div = L.DomUtil.create(&#x27;div&#x27;, &#x27;legend&#x27;); return div};\n",
       "    color_map_f179b86c128970278dd29559c71dfa31.legend.addTo(map_e48d64a438bd82a9247c4da155ea8fef);\n",
       "\n",
       "    color_map_f179b86c128970278dd29559c71dfa31.xAxis = d3.svg.axis()\n",
       "        .scale(color_map_f179b86c128970278dd29559c71dfa31.x)\n",
       "        .orient(&quot;top&quot;)\n",
       "        .tickSize(1)\n",
       "        .tickValues([3.6, 6.5600000000000005, 9.52, 12.479999999999999, 15.44, 18.400000000000002]);\n",
       "\n",
       "    color_map_f179b86c128970278dd29559c71dfa31.svg = d3.select(&quot;.legend.leaflet-control&quot;).append(&quot;svg&quot;)\n",
       "        .attr(&quot;id&quot;, &#x27;legend&#x27;)\n",
       "        .attr(&quot;width&quot;, 450)\n",
       "        .attr(&quot;height&quot;, 40);\n",
       "\n",
       "    color_map_f179b86c128970278dd29559c71dfa31.g = color_map_f179b86c128970278dd29559c71dfa31.svg.append(&quot;g&quot;)\n",
       "        .attr(&quot;class&quot;, &quot;key&quot;)\n",
       "        .attr(&quot;transform&quot;, &quot;translate(25,16)&quot;);\n",
       "\n",
       "    color_map_f179b86c128970278dd29559c71dfa31.g.selectAll(&quot;rect&quot;)\n",
       "        .data(color_map_f179b86c128970278dd29559c71dfa31.color.range().map(function(d, i) {\n",
       "          return {\n",
       "            x0: i ? color_map_f179b86c128970278dd29559c71dfa31.x(color_map_f179b86c128970278dd29559c71dfa31.color.domain()[i - 1]) : color_map_f179b86c128970278dd29559c71dfa31.x.range()[0],\n",
       "            x1: i &lt; color_map_f179b86c128970278dd29559c71dfa31.color.domain().length ? color_map_f179b86c128970278dd29559c71dfa31.x(color_map_f179b86c128970278dd29559c71dfa31.color.domain()[i]) : color_map_f179b86c128970278dd29559c71dfa31.x.range()[1],\n",
       "            z: d\n",
       "          };\n",
       "        }))\n",
       "      .enter().append(&quot;rect&quot;)\n",
       "        .attr(&quot;height&quot;, 40 - 30)\n",
       "        .attr(&quot;x&quot;, function(d) { return d.x0; })\n",
       "        .attr(&quot;width&quot;, function(d) { return d.x1 - d.x0; })\n",
       "        .style(&quot;fill&quot;, function(d) { return d.z; });\n",
       "\n",
       "    color_map_f179b86c128970278dd29559c71dfa31.g.call(color_map_f179b86c128970278dd29559c71dfa31.xAxis).append(&quot;text&quot;)\n",
       "        .attr(&quot;class&quot;, &quot;caption&quot;)\n",
       "        .attr(&quot;y&quot;, 21)\n",
       "        .text(&quot;Ranking Position for Localized \\&quot;Dental\\&quot; Searches (Red = Not Ranking)&quot;);\n",
       "    \n",
       "            var circle_marker_7d890c5c7a44aa0104edbb8824c36dd9 = L.circleMarker(\n",
       "                [34.33565833333332, -118.70143333333334],\n",
       "                {&quot;bubblingMouseEvents&quot;: true, &quot;color&quot;: &quot;#0000ffff&quot;, &quot;dashArray&quot;: null, &quot;dashOffset&quot;: null, &quot;fill&quot;: true, &quot;fillColor&quot;: &quot;#0000ffff&quot;, &quot;fillOpacity&quot;: 1, &quot;fillRule&quot;: &quot;evenodd&quot;, &quot;lineCap&quot;: &quot;round&quot;, &quot;lineJoin&quot;: &quot;round&quot;, &quot;opacity&quot;: 1.0, &quot;radius&quot;: 8, &quot;stroke&quot;: true, &quot;weight&quot;: 3}\n",
       "            ).addTo(map_e48d64a438bd82a9247c4da155ea8fef);\n",
       "        \n",
       "    \n",
       "            circle_marker_7d890c5c7a44aa0104edbb8824c36dd9.bindTooltip(\n",
       "                `&lt;div&gt;\n",
       "                     Zipcode: 91381, Ranking: 3.6\n",
       "                 &lt;/div&gt;`,\n",
       "                {&quot;sticky&quot;: true}\n",
       "            );\n",
       "        \n",
       "    \n",
       "            var circle_marker_8087a534aaf8287831d54d4cfde45daf = L.circleMarker(\n",
       "                [34.339658333333325, -118.52123333333333],\n",
       "                {&quot;bubblingMouseEvents&quot;: true, &quot;color&quot;: &quot;#000fffff&quot;, &quot;dashArray&quot;: null, &quot;dashOffset&quot;: null, &quot;fill&quot;: true, &quot;fillColor&quot;: &quot;#000fffff&quot;, &quot;fillOpacity&quot;: 1, &quot;fillRule&quot;: &quot;evenodd&quot;, &quot;lineCap&quot;: &quot;round&quot;, &quot;lineJoin&quot;: &quot;round&quot;, &quot;opacity&quot;: 1.0, &quot;radius&quot;: 8, &quot;stroke&quot;: true, &quot;weight&quot;: 3}\n",
       "            ).addTo(map_e48d64a438bd82a9247c4da155ea8fef);\n",
       "        \n",
       "    \n",
       "            circle_marker_8087a534aaf8287831d54d4cfde45daf.bindTooltip(\n",
       "                `&lt;div&gt;\n",
       "                     Zipcode: 91321, Ranking: 6.8\n",
       "                 &lt;/div&gt;`,\n",
       "                {&quot;sticky&quot;: true}\n",
       "            );\n",
       "        \n",
       "    \n",
       "            var circle_marker_bfbc58079426d98fed98e9fdcc725fc7 = L.circleMarker(\n",
       "                [34.35005833333333, -118.53703333333334],\n",
       "                {&quot;bubblingMouseEvents&quot;: true, &quot;color&quot;: &quot;#0000ffff&quot;, &quot;dashArray&quot;: null, &quot;dashOffset&quot;: null, &quot;fill&quot;: true, &quot;fillColor&quot;: &quot;#0000ffff&quot;, &quot;fillOpacity&quot;: 1, &quot;fillRule&quot;: &quot;evenodd&quot;, &quot;lineCap&quot;: &quot;round&quot;, &quot;lineJoin&quot;: &quot;round&quot;, &quot;opacity&quot;: 1.0, &quot;radius&quot;: 8, &quot;stroke&quot;: true, &quot;weight&quot;: 3}\n",
       "            ).addTo(map_e48d64a438bd82a9247c4da155ea8fef);\n",
       "        \n",
       "    \n",
       "            circle_marker_bfbc58079426d98fed98e9fdcc725fc7.bindTooltip(\n",
       "                `&lt;div&gt;\n",
       "                     Zipcode: 91322, Ranking: 4.2\n",
       "                 &lt;/div&gt;`,\n",
       "                {&quot;sticky&quot;: true}\n",
       "            );\n",
       "        \n",
       "    \n",
       "            var circle_marker_9b52019d2b5d3b5fb1c3d5dcfc21508d = L.circleMarker(\n",
       "                [34.364058333333325, -118.56043333333332],\n",
       "                {&quot;bubblingMouseEvents&quot;: true, &quot;color&quot;: &quot;#0000ffff&quot;, &quot;dashArray&quot;: null, &quot;dashOffset&quot;: null, &quot;fill&quot;: true, &quot;fillColor&quot;: &quot;#0000ffff&quot;, &quot;fillOpacity&quot;: 1, &quot;fillRule&quot;: &quot;evenodd&quot;, &quot;lineCap&quot;: &quot;round&quot;, &quot;lineJoin&quot;: &quot;round&quot;, &quot;opacity&quot;: 1.0, &quot;radius&quot;: 8, &quot;stroke&quot;: true, &quot;weight&quot;: 3}\n",
       "            ).addTo(map_e48d64a438bd82a9247c4da155ea8fef);\n",
       "        \n",
       "    \n",
       "            circle_marker_9b52019d2b5d3b5fb1c3d5dcfc21508d.bindTooltip(\n",
       "                `&lt;div&gt;\n",
       "                     Zipcode: 91383, Ranking: 6.466666666666667\n",
       "                 &lt;/div&gt;`,\n",
       "                {&quot;sticky&quot;: true}\n",
       "            );\n",
       "        \n",
       "    \n",
       "            var circle_marker_79ee17f41c233ab46ca51e4fcda98504 = L.circleMarker(\n",
       "                [34.37765833333332, -118.58223333333333],\n",
       "                {&quot;bubblingMouseEvents&quot;: true, &quot;color&quot;: &quot;#4ff300ff&quot;, &quot;dashArray&quot;: null, &quot;dashOffset&quot;: null, &quot;fill&quot;: true, &quot;fillColor&quot;: &quot;#4ff300ff&quot;, &quot;fillOpacity&quot;: 1, &quot;fillRule&quot;: &quot;evenodd&quot;, &quot;lineCap&quot;: &quot;round&quot;, &quot;lineJoin&quot;: &quot;round&quot;, &quot;opacity&quot;: 1.0, &quot;radius&quot;: 8, &quot;stroke&quot;: true, &quot;weight&quot;: 3}\n",
       "            ).addTo(map_e48d64a438bd82a9247c4da155ea8fef);\n",
       "        \n",
       "    \n",
       "            circle_marker_79ee17f41c233ab46ca51e4fcda98504.bindTooltip(\n",
       "                `&lt;div&gt;\n",
       "                     Zipcode: 91355, Ranking: 13.4\n",
       "                 &lt;/div&gt;`,\n",
       "                {&quot;sticky&quot;: true}\n",
       "            );\n",
       "        \n",
       "    \n",
       "            var circle_marker_894060aaf945665688f38859083fc540 = L.circleMarker(\n",
       "                [34.40705833333333, -118.32723333333334],\n",
       "                {&quot;bubblingMouseEvents&quot;: true, &quot;color&quot;: &quot;#4ff300ff&quot;, &quot;dashArray&quot;: null, &quot;dashOffset&quot;: null, &quot;fill&quot;: true, &quot;fillColor&quot;: &quot;#4ff300ff&quot;, &quot;fillOpacity&quot;: 1, &quot;fillRule&quot;: &quot;evenodd&quot;, &quot;lineCap&quot;: &quot;round&quot;, &quot;lineJoin&quot;: &quot;round&quot;, &quot;opacity&quot;: 1.0, &quot;radius&quot;: 8, &quot;stroke&quot;: true, &quot;weight&quot;: 3}\n",
       "            ).addTo(map_e48d64a438bd82a9247c4da155ea8fef);\n",
       "        \n",
       "    \n",
       "            circle_marker_894060aaf945665688f38859083fc540.bindTooltip(\n",
       "                `&lt;div&gt;\n",
       "                     Zipcode: 91387, Ranking: 13.4\n",
       "                 &lt;/div&gt;`,\n",
       "                {&quot;sticky&quot;: true}\n",
       "            );\n",
       "        \n",
       "    \n",
       "            var circle_marker_3bace1ae05e6ed04fb845143d7957284 = L.circleMarker(\n",
       "                [34.42725833333332, -118.41923333333332],\n",
       "                {&quot;bubblingMouseEvents&quot;: true, &quot;color&quot;: &quot;#ffac00ff&quot;, &quot;dashArray&quot;: null, &quot;dashOffset&quot;: null, &quot;fill&quot;: true, &quot;fillColor&quot;: &quot;#ffac00ff&quot;, &quot;fillOpacity&quot;: 1, &quot;fillRule&quot;: &quot;evenodd&quot;, &quot;lineCap&quot;: &quot;round&quot;, &quot;lineJoin&quot;: &quot;round&quot;, &quot;opacity&quot;: 1.0, &quot;radius&quot;: 8, &quot;stroke&quot;: true, &quot;weight&quot;: 3}\n",
       "            ).addTo(map_e48d64a438bd82a9247c4da155ea8fef);\n",
       "        \n",
       "    \n",
       "            circle_marker_3bace1ae05e6ed04fb845143d7957284.bindTooltip(\n",
       "                `&lt;div&gt;\n",
       "                     Zipcode: 91386, Ranking: 18.0\n",
       "                 &lt;/div&gt;`,\n",
       "                {&quot;sticky&quot;: true}\n",
       "            );\n",
       "        \n",
       "    \n",
       "            var circle_marker_ea499205817bb7dd6d133ec4504dfb0b = L.circleMarker(\n",
       "                [34.43305833333333, -118.37323333333333],\n",
       "                {&quot;bubblingMouseEvents&quot;: true, &quot;color&quot;: &quot;#ffc100ff&quot;, &quot;dashArray&quot;: null, &quot;dashOffset&quot;: null, &quot;fill&quot;: true, &quot;fillColor&quot;: &quot;#ffc100ff&quot;, &quot;fillOpacity&quot;: 1, &quot;fillRule&quot;: &quot;evenodd&quot;, &quot;lineCap&quot;: &quot;round&quot;, &quot;lineJoin&quot;: &quot;round&quot;, &quot;opacity&quot;: 1.0, &quot;radius&quot;: 8, &quot;stroke&quot;: true, &quot;weight&quot;: 3}\n",
       "            ).addTo(map_e48d64a438bd82a9247c4da155ea8fef);\n",
       "        \n",
       "    \n",
       "            circle_marker_ea499205817bb7dd6d133ec4504dfb0b.bindTooltip(\n",
       "                `&lt;div&gt;\n",
       "                     Zipcode: 91351, Ranking: 16.75\n",
       "                 &lt;/div&gt;`,\n",
       "                {&quot;sticky&quot;: true}\n",
       "            );\n",
       "        \n",
       "    \n",
       "            var circle_marker_5489fbb58a58e94f88b9802fb2edbc5d = L.circleMarker(\n",
       "                [34.44785833333332, -118.47663333333333],\n",
       "                {&quot;bubblingMouseEvents&quot;: true, &quot;color&quot;: &quot;#17fc00ff&quot;, &quot;dashArray&quot;: null, &quot;dashOffset&quot;: null, &quot;fill&quot;: true, &quot;fillColor&quot;: &quot;#17fc00ff&quot;, &quot;fillOpacity&quot;: 1, &quot;fillRule&quot;: &quot;evenodd&quot;, &quot;lineCap&quot;: &quot;round&quot;, &quot;lineJoin&quot;: &quot;round&quot;, &quot;opacity&quot;: 1.0, &quot;radius&quot;: 8, &quot;stroke&quot;: true, &quot;weight&quot;: 3}\n",
       "            ).addTo(map_e48d64a438bd82a9247c4da155ea8fef);\n",
       "        \n",
       "    \n",
       "            circle_marker_5489fbb58a58e94f88b9802fb2edbc5d.bindTooltip(\n",
       "                `&lt;div&gt;\n",
       "                     Zipcode: 91350, Ranking: 12.75\n",
       "                 &lt;/div&gt;`,\n",
       "                {&quot;sticky&quot;: true}\n",
       "            );\n",
       "        \n",
       "    \n",
       "            var circle_marker_a3e693b28c7fbd54f8b30e75f2db0620 = L.circleMarker(\n",
       "                [34.47385833333332, -118.55003333333335],\n",
       "                {&quot;bubblingMouseEvents&quot;: true, &quot;color&quot;: &quot;#ffa500ff&quot;, &quot;dashArray&quot;: null, &quot;dashOffset&quot;: null, &quot;fill&quot;: true, &quot;fillColor&quot;: &quot;#ffa500ff&quot;, &quot;fillOpacity&quot;: 1, &quot;fillRule&quot;: &quot;evenodd&quot;, &quot;lineCap&quot;: &quot;round&quot;, &quot;lineJoin&quot;: &quot;round&quot;, &quot;opacity&quot;: 1.0, &quot;radius&quot;: 8, &quot;stroke&quot;: true, &quot;weight&quot;: 3}\n",
       "            ).addTo(map_e48d64a438bd82a9247c4da155ea8fef);\n",
       "        \n",
       "    \n",
       "            circle_marker_a3e693b28c7fbd54f8b30e75f2db0620.bindTooltip(\n",
       "                `&lt;div&gt;\n",
       "                     Zipcode: 91354, Ranking: 18.4\n",
       "                 &lt;/div&gt;`,\n",
       "                {&quot;sticky&quot;: true}\n",
       "            );\n",
       "        \n",
       "    \n",
       "            var circle_marker_f842b33eaf1f22862e3792ddb828ca17 = L.circleMarker(\n",
       "                [34.51745833333333, -118.52743333333333],\n",
       "                {&quot;bubblingMouseEvents&quot;: true, &quot;color&quot;: &quot;#0036ffff&quot;, &quot;dashArray&quot;: null, &quot;dashOffset&quot;: null, &quot;fill&quot;: true, &quot;fillColor&quot;: &quot;#0036ffff&quot;, &quot;fillOpacity&quot;: 1, &quot;fillRule&quot;: &quot;evenodd&quot;, &quot;lineCap&quot;: &quot;round&quot;, &quot;lineJoin&quot;: &quot;round&quot;, &quot;opacity&quot;: 1.0, &quot;radius&quot;: 8, &quot;stroke&quot;: true, &quot;weight&quot;: 3}\n",
       "            ).addTo(map_e48d64a438bd82a9247c4da155ea8fef);\n",
       "        \n",
       "    \n",
       "            circle_marker_f842b33eaf1f22862e3792ddb828ca17.bindTooltip(\n",
       "                `&lt;div&gt;\n",
       "                     Zipcode: 91390, Ranking: 7.4\n",
       "                 &lt;/div&gt;`,\n",
       "                {&quot;sticky&quot;: true}\n",
       "            );\n",
       "        \n",
       "    \n",
       "            var circle_marker_f1d6f014e6e6032b8572c674c771b354 = L.circleMarker(\n",
       "                [34.55845833333333, -118.72103333333334],\n",
       "                {&quot;bubblingMouseEvents&quot;: true, &quot;color&quot;: &quot;#00f918ff&quot;, &quot;dashArray&quot;: null, &quot;dashOffset&quot;: null, &quot;fill&quot;: true, &quot;fillColor&quot;: &quot;#00f918ff&quot;, &quot;fillOpacity&quot;: 1, &quot;fillRule&quot;: &quot;evenodd&quot;, &quot;lineCap&quot;: &quot;round&quot;, &quot;lineJoin&quot;: &quot;round&quot;, &quot;opacity&quot;: 1.0, &quot;radius&quot;: 8, &quot;stroke&quot;: true, &quot;weight&quot;: 3}\n",
       "            ).addTo(map_e48d64a438bd82a9247c4da155ea8fef);\n",
       "        \n",
       "    \n",
       "            circle_marker_f1d6f014e6e6032b8572c674c771b354.bindTooltip(\n",
       "                `&lt;div&gt;\n",
       "                     Zipcode: 91310, Ranking: 12.2\n",
       "                 &lt;/div&gt;`,\n",
       "                {&quot;sticky&quot;: true}\n",
       "            );\n",
       "        \n",
       "    \n",
       "            var circle_marker_130c182582471715d2f7e382fc662645 = L.circleMarker(\n",
       "                [34.4262, -118.449],\n",
       "                {&quot;bubblingMouseEvents&quot;: true, &quot;color&quot;: &quot;#FF0000&quot;, &quot;dashArray&quot;: null, &quot;dashOffset&quot;: null, &quot;fill&quot;: true, &quot;fillColor&quot;: &quot;#FF0000&quot;, &quot;fillOpacity&quot;: 1, &quot;fillRule&quot;: &quot;evenodd&quot;, &quot;lineCap&quot;: &quot;round&quot;, &quot;lineJoin&quot;: &quot;round&quot;, &quot;opacity&quot;: 1.0, &quot;radius&quot;: 8, &quot;stroke&quot;: true, &quot;weight&quot;: 3}\n",
       "            ).addTo(map_e48d64a438bd82a9247c4da155ea8fef);\n",
       "        \n",
       "    \n",
       "            circle_marker_130c182582471715d2f7e382fc662645.bindTooltip(\n",
       "                `&lt;div&gt;\n",
       "                     Zipcode: 91351, Keywords: 1\n",
       "                 &lt;/div&gt;`,\n",
       "                {&quot;sticky&quot;: true}\n",
       "            );\n",
       "        \n",
       "    \n",
       "            var circle_marker_86c11fda57b52158f7344aeea03f353c = L.circleMarker(\n",
       "                [34.4336, -118.5007],\n",
       "                {&quot;bubblingMouseEvents&quot;: true, &quot;color&quot;: &quot;#FF0000&quot;, &quot;dashArray&quot;: null, &quot;dashOffset&quot;: null, &quot;fill&quot;: true, &quot;fillColor&quot;: &quot;#FF0000&quot;, &quot;fillOpacity&quot;: 1, &quot;fillRule&quot;: &quot;evenodd&quot;, &quot;lineCap&quot;: &quot;round&quot;, &quot;lineJoin&quot;: &quot;round&quot;, &quot;opacity&quot;: 1.0, &quot;radius&quot;: 8, &quot;stroke&quot;: true, &quot;weight&quot;: 3}\n",
       "            ).addTo(map_e48d64a438bd82a9247c4da155ea8fef);\n",
       "        \n",
       "    \n",
       "            circle_marker_86c11fda57b52158f7344aeea03f353c.bindTooltip(\n",
       "                `&lt;div&gt;\n",
       "                     Zipcode: 91350, Keywords: 1\n",
       "                 &lt;/div&gt;`,\n",
       "                {&quot;sticky&quot;: true}\n",
       "            );\n",
       "        \n",
       "    \n",
       "            tile_layer_c4d71ed62061d1e822cf7e5c1dc9b299.addTo(map_e48d64a438bd82a9247c4da155ea8fef);\n",
       "        \n",
       "    \n",
       "            heat_map_06f10f3cfe746acacc6fcf943168170d.addTo(map_e48d64a438bd82a9247c4da155ea8fef);\n",
       "        \n",
       "    \n",
       "            heat_map_ee88845f8473b9f48dac61cd955f0ff5.addTo(map_e48d64a438bd82a9247c4da155ea8fef);\n",
       "        \n",
       "&lt;/script&gt;\n",
       "&lt;/html&gt;\" style=\"position:absolute;width:100%;height:100%;left:0;top:0;border:none !important;\" allowfullscreen webkitallowfullscreen mozallowfullscreen></iframe></div></div>"
      ]
     },
     "execution_count": 57,
     "metadata": {},
     "output_type": "execute_result"
    }
   ],
   "execution_count": 57
  }
 ]
}
