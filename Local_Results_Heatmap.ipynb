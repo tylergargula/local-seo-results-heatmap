{
 "nbformat": 4,
 "nbformat_minor": 0,
 "metadata": {
  "colab": {
   "provenance": []
  },
  "kernelspec": {
   "name": "python3",
   "display_name": "Python 3 (ipykernel)",
   "language": "python"
  },
  "language_info": {
   "name": "python"
  }
 },
 "cells": [
  {
   "metadata": {},
   "cell_type": "markdown",
   "source": [
    "# Local Results Performance Heatmap\n",
    "Using a city and state, generate surrounding zipcodes and run a SERP API query for each keyword and zipcode.<br>The results are then visualized on a heatmap to show performance of the client's website in the local results.<br><br>NOTE: The API runs queries against Google \"Places\" and is not measuring performance of local pack results."
   ]
  },
  {
   "cell_type": "code",
   "metadata": {
    "id": "qdl-4axXlmWe",
    "ExecuteTime": {
     "end_time": "2024-09-17T21:36:53.138373Z",
     "start_time": "2024-09-17T21:36:53.136792Z"
    }
   },
   "source": [
    "VALUE_SERP_KEY = ''\n",
    "VALUE_SERP_ENDPOINT='https://api.valueserp.com/search'"
   ],
   "outputs": [],
   "execution_count": 1
  },
  {
   "metadata": {},
   "cell_type": "markdown",
   "source": "### Retrieve Surrounding Zipcodes"
  },
  {
   "metadata": {},
   "cell_type": "code",
   "outputs": [],
   "execution_count": null,
   "source": [
    "city = \"Santa Clarita\"\n",
    "state = \"CA\"\n",
    "distance_threshold = 6  # in miles, adjust as needed"
   ]
  },
  {
   "cell_type": "code",
   "source": [
    "import pgeocode\n",
    "import tqdm\n",
    "import zipcodes\n",
    "from geopy.distance import geodesic\n",
    "from tqdm.notebook import tqdm\n",
    "\n",
    "def get_surrounding_zipcodes(city, state, distance_threshold):\n",
    "\n",
    "    city_zips = zipcodes.filter_by(city=city, state=state)\n",
    "\n",
    "    if not city_zips:\n",
    "        return []\n",
    "\n",
    "    surrounding_zips = set()\n",
    "    \n",
    "    for zip_info in tqdm(city_zips, desc='Generating surrounding zipcodes'):\n",
    "        origin = (zip_info['lat'], zip_info['long'])\n",
    "\n",
    "        # all zip codes by state and city\n",
    "        all_zips = zipcodes.list_all()\n",
    "\n",
    "        for target_zip in all_zips:\n",
    "            target = (target_zip['lat'], target_zip['long'])\n",
    "\n",
    "            # calculate distance\n",
    "            distance = geodesic(origin, target).miles\n",
    "\n",
    "            if distance <= distance_threshold:\n",
    "                surrounding_zips.add(target_zip['zip_code'])\n",
    "\n",
    "    # keep original city zipcodes\n",
    "    surrounding_zips.update([zip_info['zip_code'] for zip_info in city_zips])\n",
    "\n",
    "    return list(surrounding_zips)"
   ],
   "metadata": {
    "colab": {
     "base_uri": "https://localhost:8080/"
    },
    "id": "75QQR0mA30Ny",
    "outputId": "f3eb47ea-69c5-419e-f9b6-17c70e2d252f",
    "ExecuteTime": {
     "end_time": "2024-09-17T22:38:24.569155Z",
     "start_time": "2024-09-17T22:38:24.550500Z"
    }
   },
   "outputs": [],
   "execution_count": 52
  },
  {
   "metadata": {
    "ExecuteTime": {
     "end_time": "2024-09-17T22:38:39.548004Z",
     "start_time": "2024-09-17T22:38:25.942455Z"
    }
   },
   "cell_type": "code",
   "source": [
    "surrounding_zipcodes = get_surrounding_zipcodes(city, state, distance_threshold)\n",
    "print(f\"Surrounding zipcodes within {distance_threshold} miles of {city}, {state}:\")\n",
    "print(surrounding_zipcodes)"
   ],
   "outputs": [
    {
     "data": {
      "text/plain": [
       "Generating surrounding zipcodes:   0%|          | 0/5 [00:00<?, ?it/s]"
      ],
      "application/vnd.jupyter.widget-view+json": {
       "version_major": 2,
       "version_minor": 0,
       "model_id": "36fcdeea57704e54896fe0eccbec3efe"
      }
     },
     "metadata": {},
     "output_type": "display_data"
    },
    {
     "name": "stdout",
     "output_type": "stream",
     "text": [
      "Surrounding zipcodes within 6 miles of Santa Clarita, CA:\n",
      "['91354', '91387', '91322', '91383', '91380', '91382', '91386', '91390', '91381', '91351', '91321', '91350', '91355', '91310']\n"
     ]
    }
   ],
   "execution_count": 53
  },
  {
   "metadata": {},
   "cell_type": "markdown",
   "source": "### Run SERP API Queries"
  },
  {
   "metadata": {
    "ExecuteTime": {
     "end_time": "2024-09-17T21:50:52.393143Z",
     "start_time": "2024-09-17T21:50:52.365042Z"
    }
   },
   "cell_type": "code",
   "source": [
    "import pandas as pd \n",
    "\n",
    "# enter keywords separated by new line \n",
    "kws= '''dentist\n",
    "dentist near me\n",
    "dentist santa clarita\n",
    "santa clarita dentist\n",
    "santa clarita dental'''\n",
    "\n",
    "kws = kws.split('\\n')\n",
    "df = pd.DataFrame(columns=['keywords', 'zipcode'])\n",
    "\n",
    "for kw in kws:\n",
    "    for zipcode in surrounding_zipcodes:\n",
    "        df = pd.concat([df, pd.DataFrame({'keywords': kw, 'zipcode': zipcode}, index=[0])], ignore_index=True)       \n",
    "df.head()"
   ],
   "outputs": [
    {
     "data": {
      "text/plain": [
       "  keywords zipcode\n",
       "0  dentist   91354\n",
       "1  dentist   91387\n",
       "2  dentist   91322\n",
       "3  dentist   91383\n",
       "4  dentist   91380"
      ],
      "text/html": [
       "<div>\n",
       "<style scoped>\n",
       "    .dataframe tbody tr th:only-of-type {\n",
       "        vertical-align: middle;\n",
       "    }\n",
       "\n",
       "    .dataframe tbody tr th {\n",
       "        vertical-align: top;\n",
       "    }\n",
       "\n",
       "    .dataframe thead th {\n",
       "        text-align: right;\n",
       "    }\n",
       "</style>\n",
       "<table border=\"1\" class=\"dataframe\">\n",
       "  <thead>\n",
       "    <tr style=\"text-align: right;\">\n",
       "      <th></th>\n",
       "      <th>keywords</th>\n",
       "      <th>zipcode</th>\n",
       "    </tr>\n",
       "  </thead>\n",
       "  <tbody>\n",
       "    <tr>\n",
       "      <th>0</th>\n",
       "      <td>dentist</td>\n",
       "      <td>91354</td>\n",
       "    </tr>\n",
       "    <tr>\n",
       "      <th>1</th>\n",
       "      <td>dentist</td>\n",
       "      <td>91387</td>\n",
       "    </tr>\n",
       "    <tr>\n",
       "      <th>2</th>\n",
       "      <td>dentist</td>\n",
       "      <td>91322</td>\n",
       "    </tr>\n",
       "    <tr>\n",
       "      <th>3</th>\n",
       "      <td>dentist</td>\n",
       "      <td>91383</td>\n",
       "    </tr>\n",
       "    <tr>\n",
       "      <th>4</th>\n",
       "      <td>dentist</td>\n",
       "      <td>91380</td>\n",
       "    </tr>\n",
       "  </tbody>\n",
       "</table>\n",
       "</div>"
      ]
     },
     "execution_count": 13,
     "metadata": {},
     "output_type": "execute_result"
    }
   ],
   "execution_count": 13
  },
  {
   "metadata": {
    "ExecuteTime": {
     "end_time": "2024-09-17T21:50:58.493031Z",
     "start_time": "2024-09-17T21:50:58.489617Z"
    }
   },
   "cell_type": "code",
   "source": [
    "import requests\n",
    "\n",
    "def run_serp_query(keyword, zipcode, state, country, search_type, client_title):\n",
    "    params = {\n",
    "        'api_key': VALUE_SERP_KEY,\n",
    "        'search_type': search_type,\n",
    "        'q': keyword,\n",
    "        'location': f'{zipcode},{state},{country}',\n",
    "        'gl': 'us',\n",
    "        'hl': 'en',\n",
    "        'num': '20',\n",
    "    }\n",
    "    \n",
    "    response = requests.get(VALUE_SERP_ENDPOINT, params=params)\n",
    "    organic_results = response.json().get('places_results', [])\n",
    "    \n",
    "    result = {f'pos {i+1}': result['title'] for i, result in enumerate(organic_results, start=1)}\n",
    "    \n",
    "    client_position = next((r['position'] for r in organic_results if client_title in r['title']), \n",
    "                           f'{client_title} not found in top 20 results')\n",
    "    \n",
    "    result[f'{client_title}_pos'] = client_position\n",
    "    \n",
    "    return pd.DataFrame([result])"
   ],
   "outputs": [],
   "execution_count": 14
  },
  {
   "metadata": {
    "ExecuteTime": {
     "end_time": "2024-09-17T21:58:32.693716Z",
     "start_time": "2024-09-17T21:51:07.835424Z"
    }
   },
   "cell_type": "code",
   "source": [
    "import pandas as pd\n",
    "tqdm.pandas()\n",
    "\n",
    "client_domain = 'dentalcsv.com'\n",
    "client_title = 'Aesthetic Dental'  # client name, found in listing title\n",
    "search_type = 'places'  # local results\n",
    "\n",
    "\n",
    "results = df.progress_apply(\n",
    "    lambda row: run_serp_query(row['keywords'], row['zipcode'], 'California', 'United States', search_type, client_title), \n",
    "    axis=1\n",
    ")\n",
    "\n",
    "df_results = pd.concat(results.tolist(), ignore_index=True)"
   ],
   "outputs": [
    {
     "data": {
      "text/plain": [
       "  0%|          | 0/70 [00:00<?, ?it/s]"
      ],
      "application/vnd.jupyter.widget-view+json": {
       "version_major": 2,
       "version_minor": 0,
       "model_id": "e1a356a03a5a46158ca223a383a1f555"
      }
     },
     "metadata": {},
     "output_type": "display_data"
    }
   ],
   "execution_count": 15
  },
  {
   "metadata": {
    "ExecuteTime": {
     "end_time": "2024-09-17T21:59:56.019179Z",
     "start_time": "2024-09-17T21:59:55.990133Z"
    }
   },
   "cell_type": "code",
   "source": [
    "merged_df = pd.concat([df, df_results], axis=1)\n",
    "merged_df.to_csv('export/kw_zipcode_df_aesthetic_dental.csv', index=False, encoding='utf-8')\n",
    "print('########### Exported DataFrame to CSV ###########')\n",
    "merged_df.head()"
   ],
   "outputs": [
    {
     "name": "stdout",
     "output_type": "stream",
     "text": [
      "########### Exported DataFrame to CSV ###########\n"
     ]
    },
    {
     "data": {
      "text/plain": [
       "  keywords zipcode                                              pos 2  \\\n",
       "0  dentist   91354                   Santa Clarita Advanced Dentistry   \n",
       "1  dentist   91387  Lost Canyon Family Dental: Clayton R. Clark DD...   \n",
       "2  dentist   91322                              Three Sixty Dentistry   \n",
       "3  dentist   91383                   Santa Clarita Advanced Dentistry   \n",
       "4  dentist   91380                   Santa Clarita Advanced Dentistry   \n",
       "\n",
       "                                               pos 3  \\\n",
       "0  Valencia Advanced Dentistry at Copperhill Smil...   \n",
       "1                            Golden Canyon Dentistry   \n",
       "2                                Newhall Dental Arts   \n",
       "3  Smilebody Holistic Dental Wellbeing (formerly ...   \n",
       "4  Lost Canyon Family Dental: Clayton R. Clark DD...   \n",
       "\n",
       "                                               pos 4  \\\n",
       "0                                  Smile City Dental   \n",
       "1  Adventure Dental and Orthodontics - Santa Clarita   \n",
       "2                Aesthetic Dental & Specialty Center   \n",
       "3                            Copper Canyon Dentistry   \n",
       "4                       Harmony Dental Santa Clarita   \n",
       "\n",
       "                                               pos 5  \\\n",
       "0                            Copper Canyon Dentistry   \n",
       "1                      Dentistry For Kids and Adults   \n",
       "2                   Santa Clarita Advanced Dentistry   \n",
       "3                         Hasley Canyon Dental Group   \n",
       "4  Adventure Dental and Orthodontics - Santa Clarita   \n",
       "\n",
       "                                 pos 6                          pos 7  \\\n",
       "0                         Crest Dental            Canyon Dental Group   \n",
       "1     Santa Clarita Advanced Dentistry   Harmony Dental Santa Clarita   \n",
       "2            SANTA CLARITA DENTAL CARE          Dr. David S. Kim, DDS   \n",
       "3  Aesthetic Dental & Specialty Center            Canyon Dental Group   \n",
       "4              Golden Canyon Dentistry  Dentistry For Kids and Adults   \n",
       "\n",
       "                                               pos 8  \\\n",
       "0  Smilebody Holistic Dental Wellbeing (formerly ...   \n",
       "1                        Canyon Country Dental Group   \n",
       "2                     Santa Clarita Family Dentistry   \n",
       "3                                       Crest Dental   \n",
       "4                    Villar Dentistry & Orthodontics   \n",
       "\n",
       "                               pos 9  ...  \\\n",
       "0                          Go Dental  ...   \n",
       "1    Canyon Country Family Dentistry  ...   \n",
       "2        Smile Design: Santa Clarita  ...   \n",
       "3    Villar Dentistry & Orthodontics  ...   \n",
       "4  Bright Now! Dental & Orthodontics  ...   \n",
       "\n",
       "                                    pos 14  \\\n",
       "0  Valencia cosmetic and implant dentistry   \n",
       "1      Aesthetic Dental & Specialty Center   \n",
       "2                           Enhancedentist   \n",
       "3   Valencia Dental Group and Orthodontics   \n",
       "4                  Copper Canyon Dentistry   \n",
       "\n",
       "                                             pos 15  \\\n",
       "0              Valencia Dental Group at Copper Hill   \n",
       "1  Family Tree Dentistry, Sarah J. Phillips, D.D.S.   \n",
       "2                             Zak Dental - Valencia   \n",
       "3                  Santa Clarita Valley Dental Care   \n",
       "4                   Canyon Country Family Dentistry   \n",
       "\n",
       "                                    pos 16  \\\n",
       "0                      C Squared Dentistry   \n",
       "1             Perfect Smiles Dental Studio   \n",
       "2          Villar Dentistry & Orthodontics   \n",
       "3  Valencia cosmetic and implant dentistry   \n",
       "4                         Kidz Dental Care   \n",
       "\n",
       "                                              pos 17  \\\n",
       "0                                         Noa Dental   \n",
       "1                    Villar Dentistry & Orthodontics   \n",
       "2  Smilebody Holistic Dental Wellbeing (formerly ...   \n",
       "3                                C Squared Dentistry   \n",
       "4                        Canyon Country Dental Group   \n",
       "\n",
       "                                   pos 18  \\\n",
       "0                    Baywood Dental Group   \n",
       "1             A New Smile CC Dental Group   \n",
       "2                     Rex Baumgartner DDS   \n",
       "3       iHeartDDS - Santa Clarita Dentist   \n",
       "4  Valencia Dental Group and Orthodontics   \n",
       "\n",
       "                                              pos 19  \\\n",
       "0                                 White Crown Dental   \n",
       "1                                  California Dental   \n",
       "2  Smile Republic Pediatric Dentistry (previously...   \n",
       "3                                Dr. Marvin Tong DDS   \n",
       "4  Valencia Advanced Dentistry at Copperhill Smil...   \n",
       "\n",
       "                                pos 20  \\\n",
       "0  Aesthetic Dental & Specialty Center   \n",
       "1          Wellness Family Dental Care   \n",
       "2                    Lyons Dental Care   \n",
       "3                   White Crown Dental   \n",
       "4                         Crest Dental   \n",
       "\n",
       "                                              pos 21 Aesthetic Dental_pos  \\\n",
       "0                             Valencia Dental Office                   19   \n",
       "1                                  Navarro Dentistry                   13   \n",
       "2         Newhall Oral & Maxillofacial Surgery Group                    3   \n",
       "3  Valencia Advanced Dentistry at Copperhill Smil...                    5   \n",
       "4                                Canyon Dental Group                    9   \n",
       "\n",
       "  pos 22  \n",
       "0    NaN  \n",
       "1    NaN  \n",
       "2    NaN  \n",
       "3    NaN  \n",
       "4    NaN  \n",
       "\n",
       "[5 rows x 24 columns]"
      ],
      "text/html": [
       "<div>\n",
       "<style scoped>\n",
       "    .dataframe tbody tr th:only-of-type {\n",
       "        vertical-align: middle;\n",
       "    }\n",
       "\n",
       "    .dataframe tbody tr th {\n",
       "        vertical-align: top;\n",
       "    }\n",
       "\n",
       "    .dataframe thead th {\n",
       "        text-align: right;\n",
       "    }\n",
       "</style>\n",
       "<table border=\"1\" class=\"dataframe\">\n",
       "  <thead>\n",
       "    <tr style=\"text-align: right;\">\n",
       "      <th></th>\n",
       "      <th>keywords</th>\n",
       "      <th>zipcode</th>\n",
       "      <th>pos 2</th>\n",
       "      <th>pos 3</th>\n",
       "      <th>pos 4</th>\n",
       "      <th>pos 5</th>\n",
       "      <th>pos 6</th>\n",
       "      <th>pos 7</th>\n",
       "      <th>pos 8</th>\n",
       "      <th>pos 9</th>\n",
       "      <th>...</th>\n",
       "      <th>pos 14</th>\n",
       "      <th>pos 15</th>\n",
       "      <th>pos 16</th>\n",
       "      <th>pos 17</th>\n",
       "      <th>pos 18</th>\n",
       "      <th>pos 19</th>\n",
       "      <th>pos 20</th>\n",
       "      <th>pos 21</th>\n",
       "      <th>Aesthetic Dental_pos</th>\n",
       "      <th>pos 22</th>\n",
       "    </tr>\n",
       "  </thead>\n",
       "  <tbody>\n",
       "    <tr>\n",
       "      <th>0</th>\n",
       "      <td>dentist</td>\n",
       "      <td>91354</td>\n",
       "      <td>Santa Clarita Advanced Dentistry</td>\n",
       "      <td>Valencia Advanced Dentistry at Copperhill Smil...</td>\n",
       "      <td>Smile City Dental</td>\n",
       "      <td>Copper Canyon Dentistry</td>\n",
       "      <td>Crest Dental</td>\n",
       "      <td>Canyon Dental Group</td>\n",
       "      <td>Smilebody Holistic Dental Wellbeing (formerly ...</td>\n",
       "      <td>Go Dental</td>\n",
       "      <td>...</td>\n",
       "      <td>Valencia cosmetic and implant dentistry</td>\n",
       "      <td>Valencia Dental Group at Copper Hill</td>\n",
       "      <td>C Squared Dentistry</td>\n",
       "      <td>Noa Dental</td>\n",
       "      <td>Baywood Dental Group</td>\n",
       "      <td>White Crown Dental</td>\n",
       "      <td>Aesthetic Dental &amp; Specialty Center</td>\n",
       "      <td>Valencia Dental Office</td>\n",
       "      <td>19</td>\n",
       "      <td>NaN</td>\n",
       "    </tr>\n",
       "    <tr>\n",
       "      <th>1</th>\n",
       "      <td>dentist</td>\n",
       "      <td>91387</td>\n",
       "      <td>Lost Canyon Family Dental: Clayton R. Clark DD...</td>\n",
       "      <td>Golden Canyon Dentistry</td>\n",
       "      <td>Adventure Dental and Orthodontics - Santa Clarita</td>\n",
       "      <td>Dentistry For Kids and Adults</td>\n",
       "      <td>Santa Clarita Advanced Dentistry</td>\n",
       "      <td>Harmony Dental Santa Clarita</td>\n",
       "      <td>Canyon Country Dental Group</td>\n",
       "      <td>Canyon Country Family Dentistry</td>\n",
       "      <td>...</td>\n",
       "      <td>Aesthetic Dental &amp; Specialty Center</td>\n",
       "      <td>Family Tree Dentistry, Sarah J. Phillips, D.D.S.</td>\n",
       "      <td>Perfect Smiles Dental Studio</td>\n",
       "      <td>Villar Dentistry &amp; Orthodontics</td>\n",
       "      <td>A New Smile CC Dental Group</td>\n",
       "      <td>California Dental</td>\n",
       "      <td>Wellness Family Dental Care</td>\n",
       "      <td>Navarro Dentistry</td>\n",
       "      <td>13</td>\n",
       "      <td>NaN</td>\n",
       "    </tr>\n",
       "    <tr>\n",
       "      <th>2</th>\n",
       "      <td>dentist</td>\n",
       "      <td>91322</td>\n",
       "      <td>Three Sixty Dentistry</td>\n",
       "      <td>Newhall Dental Arts</td>\n",
       "      <td>Aesthetic Dental &amp; Specialty Center</td>\n",
       "      <td>Santa Clarita Advanced Dentistry</td>\n",
       "      <td>SANTA CLARITA DENTAL CARE</td>\n",
       "      <td>Dr. David S. Kim, DDS</td>\n",
       "      <td>Santa Clarita Family Dentistry</td>\n",
       "      <td>Smile Design: Santa Clarita</td>\n",
       "      <td>...</td>\n",
       "      <td>Enhancedentist</td>\n",
       "      <td>Zak Dental - Valencia</td>\n",
       "      <td>Villar Dentistry &amp; Orthodontics</td>\n",
       "      <td>Smilebody Holistic Dental Wellbeing (formerly ...</td>\n",
       "      <td>Rex Baumgartner DDS</td>\n",
       "      <td>Smile Republic Pediatric Dentistry (previously...</td>\n",
       "      <td>Lyons Dental Care</td>\n",
       "      <td>Newhall Oral &amp; Maxillofacial Surgery Group</td>\n",
       "      <td>3</td>\n",
       "      <td>NaN</td>\n",
       "    </tr>\n",
       "    <tr>\n",
       "      <th>3</th>\n",
       "      <td>dentist</td>\n",
       "      <td>91383</td>\n",
       "      <td>Santa Clarita Advanced Dentistry</td>\n",
       "      <td>Smilebody Holistic Dental Wellbeing (formerly ...</td>\n",
       "      <td>Copper Canyon Dentistry</td>\n",
       "      <td>Hasley Canyon Dental Group</td>\n",
       "      <td>Aesthetic Dental &amp; Specialty Center</td>\n",
       "      <td>Canyon Dental Group</td>\n",
       "      <td>Crest Dental</td>\n",
       "      <td>Villar Dentistry &amp; Orthodontics</td>\n",
       "      <td>...</td>\n",
       "      <td>Valencia Dental Group and Orthodontics</td>\n",
       "      <td>Santa Clarita Valley Dental Care</td>\n",
       "      <td>Valencia cosmetic and implant dentistry</td>\n",
       "      <td>C Squared Dentistry</td>\n",
       "      <td>iHeartDDS - Santa Clarita Dentist</td>\n",
       "      <td>Dr. Marvin Tong DDS</td>\n",
       "      <td>White Crown Dental</td>\n",
       "      <td>Valencia Advanced Dentistry at Copperhill Smil...</td>\n",
       "      <td>5</td>\n",
       "      <td>NaN</td>\n",
       "    </tr>\n",
       "    <tr>\n",
       "      <th>4</th>\n",
       "      <td>dentist</td>\n",
       "      <td>91380</td>\n",
       "      <td>Santa Clarita Advanced Dentistry</td>\n",
       "      <td>Lost Canyon Family Dental: Clayton R. Clark DD...</td>\n",
       "      <td>Harmony Dental Santa Clarita</td>\n",
       "      <td>Adventure Dental and Orthodontics - Santa Clarita</td>\n",
       "      <td>Golden Canyon Dentistry</td>\n",
       "      <td>Dentistry For Kids and Adults</td>\n",
       "      <td>Villar Dentistry &amp; Orthodontics</td>\n",
       "      <td>Bright Now! Dental &amp; Orthodontics</td>\n",
       "      <td>...</td>\n",
       "      <td>Copper Canyon Dentistry</td>\n",
       "      <td>Canyon Country Family Dentistry</td>\n",
       "      <td>Kidz Dental Care</td>\n",
       "      <td>Canyon Country Dental Group</td>\n",
       "      <td>Valencia Dental Group and Orthodontics</td>\n",
       "      <td>Valencia Advanced Dentistry at Copperhill Smil...</td>\n",
       "      <td>Crest Dental</td>\n",
       "      <td>Canyon Dental Group</td>\n",
       "      <td>9</td>\n",
       "      <td>NaN</td>\n",
       "    </tr>\n",
       "  </tbody>\n",
       "</table>\n",
       "<p>5 rows × 24 columns</p>\n",
       "</div>"
      ]
     },
     "execution_count": 16,
     "metadata": {},
     "output_type": "execute_result"
    }
   ],
   "execution_count": 16
  },
  {
   "metadata": {},
   "cell_type": "markdown",
   "source": "### Visualize Results - Plotly"
  },
  {
   "cell_type": "code",
   "source": [
    "nomi = pgeocode.Nominatim('us')\n",
    "\n",
    "merged_df['zipcode'] = merged_df['zipcode'].astype(str)\n",
    "merged_df['Latitude'] = nomi.query_postal_code(merged_df['zipcode'].tolist()).latitude\n",
    "merged_df['Longitude'] = nomi.query_postal_code(merged_df['zipcode'].tolist()).longitude\n",
    "\n",
    "merged_df_not_ranking = merged_df[merged_df['Aesthetic Dental_pos'].str.contains('Aesthetic', na=False)]\n",
    "merged_df_ranking = merged_df[~merged_df['Aesthetic Dental_pos'].str.contains('Aesthetic', na=False)]"
   ],
   "metadata": {
    "id": "lkuSkIcBmEnb",
    "ExecuteTime": {
     "end_time": "2024-09-17T22:10:59.087976Z",
     "start_time": "2024-09-17T22:10:58.971205Z"
    }
   },
   "outputs": [],
   "execution_count": 24
  },
  {
   "cell_type": "code",
   "source": [
    "merged_df_ranking = merged_df_ranking.copy()\n",
    "merged_df_ranking['Aesthetic Dental_pos'] = merged_df_ranking['Aesthetic Dental_pos'].astype(int)\n",
    "group_ranking = merged_df_ranking.groupby(['Latitude', 'Longitude']).agg({'Aesthetic Dental_pos': 'mean',\n",
    "                                                                          'keywords': 'count',\n",
    "                                                                          'zipcode': 'first'}).reset_index()"
   ],
   "metadata": {
    "colab": {
     "base_uri": "https://localhost:8080/"
    },
    "id": "piWt7Hs3o2DU",
    "outputId": "7f932774-7cae-42c0-92d7-3212ca817e5f",
    "ExecuteTime": {
     "end_time": "2024-09-17T22:12:04.611836Z",
     "start_time": "2024-09-17T22:12:04.590354Z"
    }
   },
   "outputs": [],
   "execution_count": 26
  },
  {
   "cell_type": "code",
   "source": [
    "group_not_ranking = merged_df_not_ranking.groupby(['Latitude', 'Longitude']).agg({'keywords': 'count',\n",
    "                                                                                  'zipcode': 'first'}).reset_index()\n",
    "group_not_ranking['ranking_pos'] = 1000 # used for folium mapping"
   ],
   "metadata": {
    "id": "ms-1R71bHYaQ",
    "ExecuteTime": {
     "end_time": "2024-09-17T22:12:30.914020Z",
     "start_time": "2024-09-17T22:12:30.900957Z"
    }
   },
   "outputs": [],
   "execution_count": 27
  },
  {
   "cell_type": "code",
   "source": [
    "# function for improved visualization\n",
    "def expand_coordinates(df, lat_col='Latitude', lon_col='Longitude', factor=2): \n",
    "    \n",
    "    # calculate the center\n",
    "    center_lat = df[lat_col].mean()\n",
    "    center_lon = df[lon_col].mean()\n",
    "\n",
    "    # center the coordinates\n",
    "    df['centered_lat'] = df[lat_col] - center_lat\n",
    "    df['centered_lon'] = df[lon_col] - center_lon\n",
    "\n",
    "    # expand the range\n",
    "    df['expanded_lat'] = df['centered_lat'] * factor\n",
    "    df['expanded_lon'] = df['centered_lon'] * factor\n",
    "\n",
    "    # shift back to original scale\n",
    "    df['new_lat'] = df['expanded_lat'] + center_lat\n",
    "    df['new_lon'] = df['expanded_lon'] + center_lon\n",
    "\n",
    "    return df\n",
    "\n",
    "expanded_df = expand_coordinates(group_ranking, factor=2)"
   ],
   "metadata": {
    "id": "XXdXSkEbSDKt",
    "ExecuteTime": {
     "end_time": "2024-09-17T22:13:02.312164Z",
     "start_time": "2024-09-17T22:13:02.299213Z"
    }
   },
   "outputs": [],
   "execution_count": 28
  },
  {
   "cell_type": "code",
   "source": [
    "def ranking_bucket(pos):\n",
    "  if pos <= 3:\n",
    "    return \"top 3\"\n",
    "  elif pos <= 10:\n",
    "    return \"4-10\"\n",
    "  elif pos < 20:\n",
    "    return \"page 2\"\n",
    "  else:\n",
    "    return \"page 3+\"\n",
    "\n",
    "expanded_df['position_bucket'] = expanded_df['Aesthetic Dental_pos'].apply(ranking_bucket)"
   ],
   "metadata": {
    "id": "QNOe0bouSEHn",
    "ExecuteTime": {
     "end_time": "2024-09-17T22:13:09.954434Z",
     "start_time": "2024-09-17T22:13:09.951480Z"
    }
   },
   "outputs": [],
   "execution_count": 29
  },
  {
   "metadata": {
    "ExecuteTime": {
     "end_time": "2024-09-17T22:28:36.997152Z",
     "start_time": "2024-09-17T22:28:36.992093Z"
    }
   },
   "cell_type": "code",
   "source": [
    "import plotly_express as px\n",
    "import plotly.graph_objects as go\n",
    "import datetime\n",
    "\n",
    "date_time = datetime.datetime.now().strftime(\"%Y%m%d_%H%M%S\")\n",
    "\n",
    "px_colors = px.colors.qualitative\n",
    "\n",
    "color_map_position_bucket = {\n",
    "    'top 3': px_colors.Plotly[2],\n",
    "    '4-10': px_colors.Plotly[0],\n",
    "    'page 2': px_colors.Plotly[4],\n",
    "    'page 3+': px_colors.T10[9],\n",
    "}\n",
    "\n",
    "legend_order = ['top 3', \n",
    "                '4-10', \n",
    "                'page 2', \n",
    "                'page 3+']"
   ],
   "outputs": [],
   "execution_count": 36
  },
  {
   "cell_type": "code",
   "source": [
    "# density map with ranking locations, adjust as needed\n",
    "fig = px.scatter_mapbox(\n",
    "    expanded_df,\n",
    "    lat='new_lat',\n",
    "    lon='new_lon',\n",
    "    color='position_bucket',\n",
    "    size='keywords',\n",
    "    size_max=30,\n",
    "    color_continuous_scale=\"speed_r\",\n",
    "    zoom=10, # adjust as needed\n",
    "    center=dict(lat=expanded_df['new_lat'].mean(), lon=expanded_df['new_lon'].mean()),\n",
    "    mapbox_style='open-street-map',\n",
    "    hover_name='zipcode',\n",
    "    color_discrete_map=color_map_position_bucket,\n",
    "    category_orders={'position_bucket': legend_order},\n",
    "    text='zipcode'\n",
    ")\n",
    "\n",
    "# non-ranking locations with red markers, adjust as needed\n",
    "fig.add_trace(go.Scattermapbox(\n",
    "    lat=group_not_ranking['Latitude'],\n",
    "    lon=group_not_ranking['Longitude'],\n",
    "    mode='markers',\n",
    "    marker=go.scattermapbox.Marker(\n",
    "        size=50,\n",
    "        color=px_colors.Plotly[1],\n",
    "        opacity=0.8\n",
    "    ),\n",
    "    hoverinfo='text',\n",
    "    text=\"Zipcode=\" + group_not_ranking['zipcode'] + \", Keywords=\" + group_not_ranking['keywords'].astype(str),\n",
    "    name=\"Low Rankings\",\n",
    "    showlegend=True\n",
    ")\n",
    ")\n",
    "\n",
    "# layout updates, configure as needed\n",
    "fig.update_layout(\n",
    "    mapbox=dict(\n",
    "        zoom=10,\n",
    "        center=dict(\n",
    "            lat=expanded_df['new_lat'].mean(),\n",
    "            lon=expanded_df['new_lon'].mean(),\n",
    "        ),\n",
    "        style=\"open-street-map\",\n",
    "    ),\n",
    "    title=f\"Dentist-related 'Near Me' Ranking Zipcodes ({city}, {state})\",\n",
    "    title_x=0.5,\n",
    "    width=1200,\n",
    "    height=700,\n",
    "    legend=dict(\n",
    "        yanchor=\"top\",\n",
    "        y=0.99,\n",
    "        xanchor=\"left\",\n",
    "        x=0.01,\n",
    "        title=\"Ranking Bucket\"\n",
    "    )\n",
    ")\n",
    "\n",
    "fig.write_image(f\"plots/plotly_heatmap_{date_time}.png\")\n",
    "fig.show()"
   ],
   "metadata": {
    "colab": {
     "base_uri": "https://localhost:8080/",
     "height": 717
    },
    "id": "mlBlTM-tRLam",
    "outputId": "54ffe1b0-884f-4c97-e0a7-3ed100d295fc",
    "ExecuteTime": {
     "end_time": "2024-09-17T22:47:53.566121Z",
     "start_time": "2024-09-17T22:47:52.024089Z"
    }
   },
   "outputs": [
    {
     "data": {
      "application/vnd.plotly.v1+json": {
       "data": [
        {
         "hovertemplate": "<b>%{hovertext}</b><br><br>position_bucket=4-10<br>keywords=%{marker.size}<br>zipcode=%{text}<br>new_lat=%{lat}<br>new_lon=%{lon}<extra></extra>",
         "hovertext": [
          "91381",
          "91321",
          "91322",
          "91383",
          "91390"
         ],
         "lat": [
          34.33565833333332,
          34.339658333333325,
          34.35005833333333,
          34.364058333333325,
          34.51745833333333
         ],
         "legendgroup": "4-10",
         "lon": [
          -118.70143333333334,
          -118.52123333333333,
          -118.53703333333334,
          -118.56043333333332,
          -118.52743333333333
         ],
         "marker": {
          "color": "#636EFA",
          "size": [
           5,
           5,
           5,
           15,
           5
          ],
          "sizemode": "area",
          "sizeref": 0.016666666666666666
         },
         "mode": "markers+text",
         "name": "4-10",
         "showlegend": true,
         "subplot": "mapbox",
         "text": [
          "91381",
          "91321",
          "91322",
          "91383",
          "91390"
         ],
         "type": "scattermapbox"
        },
        {
         "hovertemplate": "<b>%{hovertext}</b><br><br>position_bucket=page 2<br>keywords=%{marker.size}<br>zipcode=%{text}<br>new_lat=%{lat}<br>new_lon=%{lon}<extra></extra>",
         "hovertext": [
          "91355",
          "91387",
          "91386",
          "91351",
          "91350",
          "91354",
          "91310"
         ],
         "lat": [
          34.37765833333332,
          34.40705833333333,
          34.42725833333332,
          34.43305833333333,
          34.44785833333332,
          34.47385833333332,
          34.55845833333333
         ],
         "legendgroup": "page 2",
         "lon": [
          -118.58223333333333,
          -118.32723333333334,
          -118.41923333333332,
          -118.37323333333333,
          -118.47663333333333,
          -118.55003333333335,
          -118.72103333333334
         ],
         "marker": {
          "color": "#FFA15A",
          "size": [
           5,
           5,
           5,
           4,
           4,
           5,
           5
          ],
          "sizemode": "area",
          "sizeref": 0.016666666666666666
         },
         "mode": "markers+text",
         "name": "page 2",
         "showlegend": true,
         "subplot": "mapbox",
         "text": [
          "91355",
          "91387",
          "91386",
          "91351",
          "91350",
          "91354",
          "91310"
         ],
         "type": "scattermapbox"
        },
        {
         "hoverinfo": "text",
         "lat": [
          34.4262,
          34.4336
         ],
         "lon": [
          -118.449,
          -118.5007
         ],
         "marker": {
          "color": "#EF553B",
          "opacity": 0.8,
          "size": 50
         },
         "mode": "markers",
         "name": "Low Rankings",
         "showlegend": true,
         "text": [
          "Zipcode=91351, Keywords=1",
          "Zipcode=91350, Keywords=1"
         ],
         "type": "scattermapbox"
        }
       ],
       "layout": {
        "template": {
         "data": {
          "histogram2dcontour": [
           {
            "type": "histogram2dcontour",
            "colorbar": {
             "outlinewidth": 0,
             "ticks": ""
            },
            "colorscale": [
             [
              0.0,
              "#0d0887"
             ],
             [
              0.1111111111111111,
              "#46039f"
             ],
             [
              0.2222222222222222,
              "#7201a8"
             ],
             [
              0.3333333333333333,
              "#9c179e"
             ],
             [
              0.4444444444444444,
              "#bd3786"
             ],
             [
              0.5555555555555556,
              "#d8576b"
             ],
             [
              0.6666666666666666,
              "#ed7953"
             ],
             [
              0.7777777777777778,
              "#fb9f3a"
             ],
             [
              0.8888888888888888,
              "#fdca26"
             ],
             [
              1.0,
              "#f0f921"
             ]
            ]
           }
          ],
          "choropleth": [
           {
            "type": "choropleth",
            "colorbar": {
             "outlinewidth": 0,
             "ticks": ""
            }
           }
          ],
          "histogram2d": [
           {
            "type": "histogram2d",
            "colorbar": {
             "outlinewidth": 0,
             "ticks": ""
            },
            "colorscale": [
             [
              0.0,
              "#0d0887"
             ],
             [
              0.1111111111111111,
              "#46039f"
             ],
             [
              0.2222222222222222,
              "#7201a8"
             ],
             [
              0.3333333333333333,
              "#9c179e"
             ],
             [
              0.4444444444444444,
              "#bd3786"
             ],
             [
              0.5555555555555556,
              "#d8576b"
             ],
             [
              0.6666666666666666,
              "#ed7953"
             ],
             [
              0.7777777777777778,
              "#fb9f3a"
             ],
             [
              0.8888888888888888,
              "#fdca26"
             ],
             [
              1.0,
              "#f0f921"
             ]
            ]
           }
          ],
          "heatmap": [
           {
            "type": "heatmap",
            "colorbar": {
             "outlinewidth": 0,
             "ticks": ""
            },
            "colorscale": [
             [
              0.0,
              "#0d0887"
             ],
             [
              0.1111111111111111,
              "#46039f"
             ],
             [
              0.2222222222222222,
              "#7201a8"
             ],
             [
              0.3333333333333333,
              "#9c179e"
             ],
             [
              0.4444444444444444,
              "#bd3786"
             ],
             [
              0.5555555555555556,
              "#d8576b"
             ],
             [
              0.6666666666666666,
              "#ed7953"
             ],
             [
              0.7777777777777778,
              "#fb9f3a"
             ],
             [
              0.8888888888888888,
              "#fdca26"
             ],
             [
              1.0,
              "#f0f921"
             ]
            ]
           }
          ],
          "heatmapgl": [
           {
            "type": "heatmapgl",
            "colorbar": {
             "outlinewidth": 0,
             "ticks": ""
            },
            "colorscale": [
             [
              0.0,
              "#0d0887"
             ],
             [
              0.1111111111111111,
              "#46039f"
             ],
             [
              0.2222222222222222,
              "#7201a8"
             ],
             [
              0.3333333333333333,
              "#9c179e"
             ],
             [
              0.4444444444444444,
              "#bd3786"
             ],
             [
              0.5555555555555556,
              "#d8576b"
             ],
             [
              0.6666666666666666,
              "#ed7953"
             ],
             [
              0.7777777777777778,
              "#fb9f3a"
             ],
             [
              0.8888888888888888,
              "#fdca26"
             ],
             [
              1.0,
              "#f0f921"
             ]
            ]
           }
          ],
          "contourcarpet": [
           {
            "type": "contourcarpet",
            "colorbar": {
             "outlinewidth": 0,
             "ticks": ""
            }
           }
          ],
          "contour": [
           {
            "type": "contour",
            "colorbar": {
             "outlinewidth": 0,
             "ticks": ""
            },
            "colorscale": [
             [
              0.0,
              "#0d0887"
             ],
             [
              0.1111111111111111,
              "#46039f"
             ],
             [
              0.2222222222222222,
              "#7201a8"
             ],
             [
              0.3333333333333333,
              "#9c179e"
             ],
             [
              0.4444444444444444,
              "#bd3786"
             ],
             [
              0.5555555555555556,
              "#d8576b"
             ],
             [
              0.6666666666666666,
              "#ed7953"
             ],
             [
              0.7777777777777778,
              "#fb9f3a"
             ],
             [
              0.8888888888888888,
              "#fdca26"
             ],
             [
              1.0,
              "#f0f921"
             ]
            ]
           }
          ],
          "surface": [
           {
            "type": "surface",
            "colorbar": {
             "outlinewidth": 0,
             "ticks": ""
            },
            "colorscale": [
             [
              0.0,
              "#0d0887"
             ],
             [
              0.1111111111111111,
              "#46039f"
             ],
             [
              0.2222222222222222,
              "#7201a8"
             ],
             [
              0.3333333333333333,
              "#9c179e"
             ],
             [
              0.4444444444444444,
              "#bd3786"
             ],
             [
              0.5555555555555556,
              "#d8576b"
             ],
             [
              0.6666666666666666,
              "#ed7953"
             ],
             [
              0.7777777777777778,
              "#fb9f3a"
             ],
             [
              0.8888888888888888,
              "#fdca26"
             ],
             [
              1.0,
              "#f0f921"
             ]
            ]
           }
          ],
          "mesh3d": [
           {
            "type": "mesh3d",
            "colorbar": {
             "outlinewidth": 0,
             "ticks": ""
            }
           }
          ],
          "scatter": [
           {
            "marker": {
             "line": {
              "color": "#283442"
             }
            },
            "type": "scatter"
           }
          ],
          "parcoords": [
           {
            "type": "parcoords",
            "line": {
             "colorbar": {
              "outlinewidth": 0,
              "ticks": ""
             }
            }
           }
          ],
          "scatterpolargl": [
           {
            "type": "scatterpolargl",
            "marker": {
             "colorbar": {
              "outlinewidth": 0,
              "ticks": ""
             }
            }
           }
          ],
          "bar": [
           {
            "error_x": {
             "color": "#f2f5fa"
            },
            "error_y": {
             "color": "#f2f5fa"
            },
            "marker": {
             "line": {
              "color": "rgb(17,17,17)",
              "width": 0.5
             },
             "pattern": {
              "fillmode": "overlay",
              "size": 10,
              "solidity": 0.2
             }
            },
            "type": "bar"
           }
          ],
          "scattergeo": [
           {
            "type": "scattergeo",
            "marker": {
             "colorbar": {
              "outlinewidth": 0,
              "ticks": ""
             }
            }
           }
          ],
          "scatterpolar": [
           {
            "type": "scatterpolar",
            "marker": {
             "colorbar": {
              "outlinewidth": 0,
              "ticks": ""
             }
            }
           }
          ],
          "histogram": [
           {
            "marker": {
             "pattern": {
              "fillmode": "overlay",
              "size": 10,
              "solidity": 0.2
             }
            },
            "type": "histogram"
           }
          ],
          "scattergl": [
           {
            "marker": {
             "line": {
              "color": "#283442"
             }
            },
            "type": "scattergl"
           }
          ],
          "scatter3d": [
           {
            "type": "scatter3d",
            "line": {
             "colorbar": {
              "outlinewidth": 0,
              "ticks": ""
             }
            },
            "marker": {
             "colorbar": {
              "outlinewidth": 0,
              "ticks": ""
             }
            }
           }
          ],
          "scattermapbox": [
           {
            "type": "scattermapbox",
            "marker": {
             "colorbar": {
              "outlinewidth": 0,
              "ticks": ""
             }
            }
           }
          ],
          "scatterternary": [
           {
            "type": "scatterternary",
            "marker": {
             "colorbar": {
              "outlinewidth": 0,
              "ticks": ""
             }
            }
           }
          ],
          "scattercarpet": [
           {
            "type": "scattercarpet",
            "marker": {
             "colorbar": {
              "outlinewidth": 0,
              "ticks": ""
             }
            }
           }
          ],
          "carpet": [
           {
            "aaxis": {
             "endlinecolor": "#A2B1C6",
             "gridcolor": "#506784",
             "linecolor": "#506784",
             "minorgridcolor": "#506784",
             "startlinecolor": "#A2B1C6"
            },
            "baxis": {
             "endlinecolor": "#A2B1C6",
             "gridcolor": "#506784",
             "linecolor": "#506784",
             "minorgridcolor": "#506784",
             "startlinecolor": "#A2B1C6"
            },
            "type": "carpet"
           }
          ],
          "table": [
           {
            "cells": {
             "fill": {
              "color": "#506784"
             },
             "line": {
              "color": "rgb(17,17,17)"
             }
            },
            "header": {
             "fill": {
              "color": "#2a3f5f"
             },
             "line": {
              "color": "rgb(17,17,17)"
             }
            },
            "type": "table"
           }
          ],
          "barpolar": [
           {
            "marker": {
             "line": {
              "color": "rgb(17,17,17)",
              "width": 0.5
             },
             "pattern": {
              "fillmode": "overlay",
              "size": 10,
              "solidity": 0.2
             }
            },
            "type": "barpolar"
           }
          ],
          "pie": [
           {
            "automargin": true,
            "type": "pie"
           }
          ]
         },
         "layout": {
          "autotypenumbers": "strict",
          "colorway": [
           "#636efa",
           "#EF553B",
           "#00cc96",
           "#ab63fa",
           "#FFA15A",
           "#19d3f3",
           "#FF6692",
           "#B6E880",
           "#FF97FF",
           "#FECB52"
          ],
          "font": {
           "color": "#f2f5fa"
          },
          "hovermode": "closest",
          "hoverlabel": {
           "align": "left"
          },
          "paper_bgcolor": "rgb(17,17,17)",
          "plot_bgcolor": "rgb(17,17,17)",
          "polar": {
           "bgcolor": "rgb(17,17,17)",
           "angularaxis": {
            "gridcolor": "#506784",
            "linecolor": "#506784",
            "ticks": ""
           },
           "radialaxis": {
            "gridcolor": "#506784",
            "linecolor": "#506784",
            "ticks": ""
           }
          },
          "ternary": {
           "bgcolor": "rgb(17,17,17)",
           "aaxis": {
            "gridcolor": "#506784",
            "linecolor": "#506784",
            "ticks": ""
           },
           "baxis": {
            "gridcolor": "#506784",
            "linecolor": "#506784",
            "ticks": ""
           },
           "caxis": {
            "gridcolor": "#506784",
            "linecolor": "#506784",
            "ticks": ""
           }
          },
          "coloraxis": {
           "colorbar": {
            "outlinewidth": 0,
            "ticks": ""
           }
          },
          "colorscale": {
           "sequential": [
            [
             0.0,
             "#0d0887"
            ],
            [
             0.1111111111111111,
             "#46039f"
            ],
            [
             0.2222222222222222,
             "#7201a8"
            ],
            [
             0.3333333333333333,
             "#9c179e"
            ],
            [
             0.4444444444444444,
             "#bd3786"
            ],
            [
             0.5555555555555556,
             "#d8576b"
            ],
            [
             0.6666666666666666,
             "#ed7953"
            ],
            [
             0.7777777777777778,
             "#fb9f3a"
            ],
            [
             0.8888888888888888,
             "#fdca26"
            ],
            [
             1.0,
             "#f0f921"
            ]
           ],
           "sequentialminus": [
            [
             0.0,
             "#0d0887"
            ],
            [
             0.1111111111111111,
             "#46039f"
            ],
            [
             0.2222222222222222,
             "#7201a8"
            ],
            [
             0.3333333333333333,
             "#9c179e"
            ],
            [
             0.4444444444444444,
             "#bd3786"
            ],
            [
             0.5555555555555556,
             "#d8576b"
            ],
            [
             0.6666666666666666,
             "#ed7953"
            ],
            [
             0.7777777777777778,
             "#fb9f3a"
            ],
            [
             0.8888888888888888,
             "#fdca26"
            ],
            [
             1.0,
             "#f0f921"
            ]
           ],
           "diverging": [
            [
             0,
             "#8e0152"
            ],
            [
             0.1,
             "#c51b7d"
            ],
            [
             0.2,
             "#de77ae"
            ],
            [
             0.3,
             "#f1b6da"
            ],
            [
             0.4,
             "#fde0ef"
            ],
            [
             0.5,
             "#f7f7f7"
            ],
            [
             0.6,
             "#e6f5d0"
            ],
            [
             0.7,
             "#b8e186"
            ],
            [
             0.8,
             "#7fbc41"
            ],
            [
             0.9,
             "#4d9221"
            ],
            [
             1,
             "#276419"
            ]
           ]
          },
          "xaxis": {
           "gridcolor": "#283442",
           "linecolor": "#506784",
           "ticks": "",
           "title": {
            "standoff": 15
           },
           "zerolinecolor": "#283442",
           "automargin": true,
           "zerolinewidth": 2
          },
          "yaxis": {
           "gridcolor": "#283442",
           "linecolor": "#506784",
           "ticks": "",
           "title": {
            "standoff": 15
           },
           "zerolinecolor": "#283442",
           "automargin": true,
           "zerolinewidth": 2
          },
          "scene": {
           "xaxis": {
            "backgroundcolor": "rgb(17,17,17)",
            "gridcolor": "#506784",
            "linecolor": "#506784",
            "showbackground": true,
            "ticks": "",
            "zerolinecolor": "#C8D4E3",
            "gridwidth": 2
           },
           "yaxis": {
            "backgroundcolor": "rgb(17,17,17)",
            "gridcolor": "#506784",
            "linecolor": "#506784",
            "showbackground": true,
            "ticks": "",
            "zerolinecolor": "#C8D4E3",
            "gridwidth": 2
           },
           "zaxis": {
            "backgroundcolor": "rgb(17,17,17)",
            "gridcolor": "#506784",
            "linecolor": "#506784",
            "showbackground": true,
            "ticks": "",
            "zerolinecolor": "#C8D4E3",
            "gridwidth": 2
           }
          },
          "shapedefaults": {
           "line": {
            "color": "#f2f5fa"
           }
          },
          "annotationdefaults": {
           "arrowcolor": "#f2f5fa",
           "arrowhead": 0,
           "arrowwidth": 1
          },
          "geo": {
           "bgcolor": "rgb(17,17,17)",
           "landcolor": "rgb(17,17,17)",
           "subunitcolor": "#506784",
           "showland": true,
           "showlakes": true,
           "lakecolor": "rgb(17,17,17)"
          },
          "title": {
           "x": 0.05
          },
          "updatemenudefaults": {
           "bgcolor": "#506784",
           "borderwidth": 0
          },
          "sliderdefaults": {
           "bgcolor": "#C8D4E3",
           "borderwidth": 1,
           "bordercolor": "rgb(17,17,17)",
           "tickwidth": 0
          },
          "mapbox": {
           "style": "dark"
          }
         }
        },
        "mapbox": {
         "domain": {
          "x": [
           0.0,
           1.0
          ],
          "y": [
           0.0,
           1.0
          ]
         },
         "center": {
          "lat": 34.41934166666666,
          "lon": -118.52476666666668
         },
         "zoom": 10,
         "style": "open-street-map"
        },
        "legend": {
         "title": {
          "text": "Ranking Bucket"
         },
         "tracegroupgap": 0,
         "itemsizing": "constant",
         "yanchor": "top",
         "y": 0.99,
         "xanchor": "left",
         "x": 0.01
        },
        "margin": {
         "t": 60
        },
        "title": {
         "text": "Dentist-related 'Near Me' Ranking Zipcodes (Santa Clarita, CA)",
         "x": 0.5
        },
        "width": 1200,
        "height": 700
       },
       "config": {
        "plotlyServerURL": "https://plot.ly"
       }
      },
      "text/html": [
       "<div>                            <div id=\"2a18d6c9-a290-4d81-834a-85cdcb360f29\" class=\"plotly-graph-div\" style=\"height:700px; width:1200px;\"></div>            <script type=\"text/javascript\">                require([\"plotly\"], function(Plotly) {                    window.PLOTLYENV=window.PLOTLYENV || {};                                    if (document.getElementById(\"2a18d6c9-a290-4d81-834a-85cdcb360f29\")) {                    Plotly.newPlot(                        \"2a18d6c9-a290-4d81-834a-85cdcb360f29\",                        [{\"hovertemplate\":\"\\u003cb\\u003e%{hovertext}\\u003c\\u002fb\\u003e\\u003cbr\\u003e\\u003cbr\\u003eposition_bucket=4-10\\u003cbr\\u003ekeywords=%{marker.size}\\u003cbr\\u003ezipcode=%{text}\\u003cbr\\u003enew_lat=%{lat}\\u003cbr\\u003enew_lon=%{lon}\\u003cextra\\u003e\\u003c\\u002fextra\\u003e\",\"hovertext\":[\"91381\",\"91321\",\"91322\",\"91383\",\"91390\"],\"lat\":[34.33565833333332,34.339658333333325,34.35005833333333,34.364058333333325,34.51745833333333],\"legendgroup\":\"4-10\",\"lon\":[-118.70143333333334,-118.52123333333333,-118.53703333333334,-118.56043333333332,-118.52743333333333],\"marker\":{\"color\":\"#636EFA\",\"size\":[5,5,5,15,5],\"sizemode\":\"area\",\"sizeref\":0.016666666666666666},\"mode\":\"markers+text\",\"name\":\"4-10\",\"showlegend\":true,\"subplot\":\"mapbox\",\"text\":[\"91381\",\"91321\",\"91322\",\"91383\",\"91390\"],\"type\":\"scattermapbox\"},{\"hovertemplate\":\"\\u003cb\\u003e%{hovertext}\\u003c\\u002fb\\u003e\\u003cbr\\u003e\\u003cbr\\u003eposition_bucket=page 2\\u003cbr\\u003ekeywords=%{marker.size}\\u003cbr\\u003ezipcode=%{text}\\u003cbr\\u003enew_lat=%{lat}\\u003cbr\\u003enew_lon=%{lon}\\u003cextra\\u003e\\u003c\\u002fextra\\u003e\",\"hovertext\":[\"91355\",\"91387\",\"91386\",\"91351\",\"91350\",\"91354\",\"91310\"],\"lat\":[34.37765833333332,34.40705833333333,34.42725833333332,34.43305833333333,34.44785833333332,34.47385833333332,34.55845833333333],\"legendgroup\":\"page 2\",\"lon\":[-118.58223333333333,-118.32723333333334,-118.41923333333332,-118.37323333333333,-118.47663333333333,-118.55003333333335,-118.72103333333334],\"marker\":{\"color\":\"#FFA15A\",\"size\":[5,5,5,4,4,5,5],\"sizemode\":\"area\",\"sizeref\":0.016666666666666666},\"mode\":\"markers+text\",\"name\":\"page 2\",\"showlegend\":true,\"subplot\":\"mapbox\",\"text\":[\"91355\",\"91387\",\"91386\",\"91351\",\"91350\",\"91354\",\"91310\"],\"type\":\"scattermapbox\"},{\"hoverinfo\":\"text\",\"lat\":[34.4262,34.4336],\"lon\":[-118.449,-118.5007],\"marker\":{\"color\":\"#EF553B\",\"opacity\":0.8,\"size\":50},\"mode\":\"markers\",\"name\":\"Low Rankings\",\"showlegend\":true,\"text\":[\"Zipcode=91351, Keywords=1\",\"Zipcode=91350, Keywords=1\"],\"type\":\"scattermapbox\"}],                        {\"template\":{\"data\":{\"histogram2dcontour\":[{\"type\":\"histogram2dcontour\",\"colorbar\":{\"outlinewidth\":0,\"ticks\":\"\"},\"colorscale\":[[0.0,\"#0d0887\"],[0.1111111111111111,\"#46039f\"],[0.2222222222222222,\"#7201a8\"],[0.3333333333333333,\"#9c179e\"],[0.4444444444444444,\"#bd3786\"],[0.5555555555555556,\"#d8576b\"],[0.6666666666666666,\"#ed7953\"],[0.7777777777777778,\"#fb9f3a\"],[0.8888888888888888,\"#fdca26\"],[1.0,\"#f0f921\"]]}],\"choropleth\":[{\"type\":\"choropleth\",\"colorbar\":{\"outlinewidth\":0,\"ticks\":\"\"}}],\"histogram2d\":[{\"type\":\"histogram2d\",\"colorbar\":{\"outlinewidth\":0,\"ticks\":\"\"},\"colorscale\":[[0.0,\"#0d0887\"],[0.1111111111111111,\"#46039f\"],[0.2222222222222222,\"#7201a8\"],[0.3333333333333333,\"#9c179e\"],[0.4444444444444444,\"#bd3786\"],[0.5555555555555556,\"#d8576b\"],[0.6666666666666666,\"#ed7953\"],[0.7777777777777778,\"#fb9f3a\"],[0.8888888888888888,\"#fdca26\"],[1.0,\"#f0f921\"]]}],\"heatmap\":[{\"type\":\"heatmap\",\"colorbar\":{\"outlinewidth\":0,\"ticks\":\"\"},\"colorscale\":[[0.0,\"#0d0887\"],[0.1111111111111111,\"#46039f\"],[0.2222222222222222,\"#7201a8\"],[0.3333333333333333,\"#9c179e\"],[0.4444444444444444,\"#bd3786\"],[0.5555555555555556,\"#d8576b\"],[0.6666666666666666,\"#ed7953\"],[0.7777777777777778,\"#fb9f3a\"],[0.8888888888888888,\"#fdca26\"],[1.0,\"#f0f921\"]]}],\"heatmapgl\":[{\"type\":\"heatmapgl\",\"colorbar\":{\"outlinewidth\":0,\"ticks\":\"\"},\"colorscale\":[[0.0,\"#0d0887\"],[0.1111111111111111,\"#46039f\"],[0.2222222222222222,\"#7201a8\"],[0.3333333333333333,\"#9c179e\"],[0.4444444444444444,\"#bd3786\"],[0.5555555555555556,\"#d8576b\"],[0.6666666666666666,\"#ed7953\"],[0.7777777777777778,\"#fb9f3a\"],[0.8888888888888888,\"#fdca26\"],[1.0,\"#f0f921\"]]}],\"contourcarpet\":[{\"type\":\"contourcarpet\",\"colorbar\":{\"outlinewidth\":0,\"ticks\":\"\"}}],\"contour\":[{\"type\":\"contour\",\"colorbar\":{\"outlinewidth\":0,\"ticks\":\"\"},\"colorscale\":[[0.0,\"#0d0887\"],[0.1111111111111111,\"#46039f\"],[0.2222222222222222,\"#7201a8\"],[0.3333333333333333,\"#9c179e\"],[0.4444444444444444,\"#bd3786\"],[0.5555555555555556,\"#d8576b\"],[0.6666666666666666,\"#ed7953\"],[0.7777777777777778,\"#fb9f3a\"],[0.8888888888888888,\"#fdca26\"],[1.0,\"#f0f921\"]]}],\"surface\":[{\"type\":\"surface\",\"colorbar\":{\"outlinewidth\":0,\"ticks\":\"\"},\"colorscale\":[[0.0,\"#0d0887\"],[0.1111111111111111,\"#46039f\"],[0.2222222222222222,\"#7201a8\"],[0.3333333333333333,\"#9c179e\"],[0.4444444444444444,\"#bd3786\"],[0.5555555555555556,\"#d8576b\"],[0.6666666666666666,\"#ed7953\"],[0.7777777777777778,\"#fb9f3a\"],[0.8888888888888888,\"#fdca26\"],[1.0,\"#f0f921\"]]}],\"mesh3d\":[{\"type\":\"mesh3d\",\"colorbar\":{\"outlinewidth\":0,\"ticks\":\"\"}}],\"scatter\":[{\"marker\":{\"line\":{\"color\":\"#283442\"}},\"type\":\"scatter\"}],\"parcoords\":[{\"type\":\"parcoords\",\"line\":{\"colorbar\":{\"outlinewidth\":0,\"ticks\":\"\"}}}],\"scatterpolargl\":[{\"type\":\"scatterpolargl\",\"marker\":{\"colorbar\":{\"outlinewidth\":0,\"ticks\":\"\"}}}],\"bar\":[{\"error_x\":{\"color\":\"#f2f5fa\"},\"error_y\":{\"color\":\"#f2f5fa\"},\"marker\":{\"line\":{\"color\":\"rgb(17,17,17)\",\"width\":0.5},\"pattern\":{\"fillmode\":\"overlay\",\"size\":10,\"solidity\":0.2}},\"type\":\"bar\"}],\"scattergeo\":[{\"type\":\"scattergeo\",\"marker\":{\"colorbar\":{\"outlinewidth\":0,\"ticks\":\"\"}}}],\"scatterpolar\":[{\"type\":\"scatterpolar\",\"marker\":{\"colorbar\":{\"outlinewidth\":0,\"ticks\":\"\"}}}],\"histogram\":[{\"marker\":{\"pattern\":{\"fillmode\":\"overlay\",\"size\":10,\"solidity\":0.2}},\"type\":\"histogram\"}],\"scattergl\":[{\"marker\":{\"line\":{\"color\":\"#283442\"}},\"type\":\"scattergl\"}],\"scatter3d\":[{\"type\":\"scatter3d\",\"line\":{\"colorbar\":{\"outlinewidth\":0,\"ticks\":\"\"}},\"marker\":{\"colorbar\":{\"outlinewidth\":0,\"ticks\":\"\"}}}],\"scattermapbox\":[{\"type\":\"scattermapbox\",\"marker\":{\"colorbar\":{\"outlinewidth\":0,\"ticks\":\"\"}}}],\"scatterternary\":[{\"type\":\"scatterternary\",\"marker\":{\"colorbar\":{\"outlinewidth\":0,\"ticks\":\"\"}}}],\"scattercarpet\":[{\"type\":\"scattercarpet\",\"marker\":{\"colorbar\":{\"outlinewidth\":0,\"ticks\":\"\"}}}],\"carpet\":[{\"aaxis\":{\"endlinecolor\":\"#A2B1C6\",\"gridcolor\":\"#506784\",\"linecolor\":\"#506784\",\"minorgridcolor\":\"#506784\",\"startlinecolor\":\"#A2B1C6\"},\"baxis\":{\"endlinecolor\":\"#A2B1C6\",\"gridcolor\":\"#506784\",\"linecolor\":\"#506784\",\"minorgridcolor\":\"#506784\",\"startlinecolor\":\"#A2B1C6\"},\"type\":\"carpet\"}],\"table\":[{\"cells\":{\"fill\":{\"color\":\"#506784\"},\"line\":{\"color\":\"rgb(17,17,17)\"}},\"header\":{\"fill\":{\"color\":\"#2a3f5f\"},\"line\":{\"color\":\"rgb(17,17,17)\"}},\"type\":\"table\"}],\"barpolar\":[{\"marker\":{\"line\":{\"color\":\"rgb(17,17,17)\",\"width\":0.5},\"pattern\":{\"fillmode\":\"overlay\",\"size\":10,\"solidity\":0.2}},\"type\":\"barpolar\"}],\"pie\":[{\"automargin\":true,\"type\":\"pie\"}]},\"layout\":{\"autotypenumbers\":\"strict\",\"colorway\":[\"#636efa\",\"#EF553B\",\"#00cc96\",\"#ab63fa\",\"#FFA15A\",\"#19d3f3\",\"#FF6692\",\"#B6E880\",\"#FF97FF\",\"#FECB52\"],\"font\":{\"color\":\"#f2f5fa\"},\"hovermode\":\"closest\",\"hoverlabel\":{\"align\":\"left\"},\"paper_bgcolor\":\"rgb(17,17,17)\",\"plot_bgcolor\":\"rgb(17,17,17)\",\"polar\":{\"bgcolor\":\"rgb(17,17,17)\",\"angularaxis\":{\"gridcolor\":\"#506784\",\"linecolor\":\"#506784\",\"ticks\":\"\"},\"radialaxis\":{\"gridcolor\":\"#506784\",\"linecolor\":\"#506784\",\"ticks\":\"\"}},\"ternary\":{\"bgcolor\":\"rgb(17,17,17)\",\"aaxis\":{\"gridcolor\":\"#506784\",\"linecolor\":\"#506784\",\"ticks\":\"\"},\"baxis\":{\"gridcolor\":\"#506784\",\"linecolor\":\"#506784\",\"ticks\":\"\"},\"caxis\":{\"gridcolor\":\"#506784\",\"linecolor\":\"#506784\",\"ticks\":\"\"}},\"coloraxis\":{\"colorbar\":{\"outlinewidth\":0,\"ticks\":\"\"}},\"colorscale\":{\"sequential\":[[0.0,\"#0d0887\"],[0.1111111111111111,\"#46039f\"],[0.2222222222222222,\"#7201a8\"],[0.3333333333333333,\"#9c179e\"],[0.4444444444444444,\"#bd3786\"],[0.5555555555555556,\"#d8576b\"],[0.6666666666666666,\"#ed7953\"],[0.7777777777777778,\"#fb9f3a\"],[0.8888888888888888,\"#fdca26\"],[1.0,\"#f0f921\"]],\"sequentialminus\":[[0.0,\"#0d0887\"],[0.1111111111111111,\"#46039f\"],[0.2222222222222222,\"#7201a8\"],[0.3333333333333333,\"#9c179e\"],[0.4444444444444444,\"#bd3786\"],[0.5555555555555556,\"#d8576b\"],[0.6666666666666666,\"#ed7953\"],[0.7777777777777778,\"#fb9f3a\"],[0.8888888888888888,\"#fdca26\"],[1.0,\"#f0f921\"]],\"diverging\":[[0,\"#8e0152\"],[0.1,\"#c51b7d\"],[0.2,\"#de77ae\"],[0.3,\"#f1b6da\"],[0.4,\"#fde0ef\"],[0.5,\"#f7f7f7\"],[0.6,\"#e6f5d0\"],[0.7,\"#b8e186\"],[0.8,\"#7fbc41\"],[0.9,\"#4d9221\"],[1,\"#276419\"]]},\"xaxis\":{\"gridcolor\":\"#283442\",\"linecolor\":\"#506784\",\"ticks\":\"\",\"title\":{\"standoff\":15},\"zerolinecolor\":\"#283442\",\"automargin\":true,\"zerolinewidth\":2},\"yaxis\":{\"gridcolor\":\"#283442\",\"linecolor\":\"#506784\",\"ticks\":\"\",\"title\":{\"standoff\":15},\"zerolinecolor\":\"#283442\",\"automargin\":true,\"zerolinewidth\":2},\"scene\":{\"xaxis\":{\"backgroundcolor\":\"rgb(17,17,17)\",\"gridcolor\":\"#506784\",\"linecolor\":\"#506784\",\"showbackground\":true,\"ticks\":\"\",\"zerolinecolor\":\"#C8D4E3\",\"gridwidth\":2},\"yaxis\":{\"backgroundcolor\":\"rgb(17,17,17)\",\"gridcolor\":\"#506784\",\"linecolor\":\"#506784\",\"showbackground\":true,\"ticks\":\"\",\"zerolinecolor\":\"#C8D4E3\",\"gridwidth\":2},\"zaxis\":{\"backgroundcolor\":\"rgb(17,17,17)\",\"gridcolor\":\"#506784\",\"linecolor\":\"#506784\",\"showbackground\":true,\"ticks\":\"\",\"zerolinecolor\":\"#C8D4E3\",\"gridwidth\":2}},\"shapedefaults\":{\"line\":{\"color\":\"#f2f5fa\"}},\"annotationdefaults\":{\"arrowcolor\":\"#f2f5fa\",\"arrowhead\":0,\"arrowwidth\":1},\"geo\":{\"bgcolor\":\"rgb(17,17,17)\",\"landcolor\":\"rgb(17,17,17)\",\"subunitcolor\":\"#506784\",\"showland\":true,\"showlakes\":true,\"lakecolor\":\"rgb(17,17,17)\"},\"title\":{\"x\":0.05},\"updatemenudefaults\":{\"bgcolor\":\"#506784\",\"borderwidth\":0},\"sliderdefaults\":{\"bgcolor\":\"#C8D4E3\",\"borderwidth\":1,\"bordercolor\":\"rgb(17,17,17)\",\"tickwidth\":0},\"mapbox\":{\"style\":\"dark\"}}},\"mapbox\":{\"domain\":{\"x\":[0.0,1.0],\"y\":[0.0,1.0]},\"center\":{\"lat\":34.41934166666666,\"lon\":-118.52476666666668},\"zoom\":10,\"style\":\"open-street-map\"},\"legend\":{\"title\":{\"text\":\"Ranking Bucket\"},\"tracegroupgap\":0,\"itemsizing\":\"constant\",\"yanchor\":\"top\",\"y\":0.99,\"xanchor\":\"left\",\"x\":0.01},\"margin\":{\"t\":60},\"title\":{\"text\":\"Dentist-related 'Near Me' Ranking Zipcodes (Santa Clarita, CA)\",\"x\":0.5},\"width\":1200,\"height\":700},                        {\"responsive\": true}                    ).then(function(){\n",
       "                            \n",
       "var gd = document.getElementById('2a18d6c9-a290-4d81-834a-85cdcb360f29');\n",
       "var x = new MutationObserver(function (mutations, observer) {{\n",
       "        var display = window.getComputedStyle(gd).display;\n",
       "        if (!display || display === 'none') {{\n",
       "            console.log([gd, 'removed!']);\n",
       "            Plotly.purge(gd);\n",
       "            observer.disconnect();\n",
       "        }}\n",
       "}});\n",
       "\n",
       "// Listen for the removal of the full notebook cells\n",
       "var notebookContainer = gd.closest('#notebook-container');\n",
       "if (notebookContainer) {{\n",
       "    x.observe(notebookContainer, {childList: true});\n",
       "}}\n",
       "\n",
       "// Listen for the clearing of the current output cell\n",
       "var outputEl = gd.closest('.output');\n",
       "if (outputEl) {{\n",
       "    x.observe(outputEl, {childList: true});\n",
       "}}\n",
       "\n",
       "                        })                };                });            </script>        </div>"
      ]
     },
     "metadata": {},
     "output_type": "display_data"
    }
   ],
   "execution_count": 54
  },
  {
   "metadata": {},
   "cell_type": "markdown",
   "source": "### Visualize Results - Folium (optional)"
  },
  {
   "cell_type": "code",
   "source": [
    "import folium\n",
    "from folium.plugins import HeatMap\n",
    "import branca.colormap as cm\n",
    "\n",
    "\n",
    "loc = 'Dentist-related \"Near Me\" Ranking Zipcodes ({}, {})'.format(city, state)\n",
    "title_html = '''\n",
    "             <h3 align=\"center\" style=\"font-size:16px\"><b>{}</b></h3>\n",
    "             '''.format(loc)   \n",
    "\n",
    "# Initialize the map\n",
    "folium_fig = folium.Map(\n",
    "    location=[expanded_df['new_lat'].mean(), expanded_df['new_lon'].mean()],\n",
    "    zoom_start=11\n",
    ")\n",
    "\n",
    "folium_fig.get_root().html.add_child(folium.Element(title_html))\n",
    "\n",
    "# prepare the data\n",
    "map_values = expanded_df[['new_lat', 'new_lon', 'Aesthetic Dental_pos']]\n",
    "map_missing_values = group_not_ranking[['Latitude', 'Longitude', 'ranking_pos']]\n",
    "\n",
    "data = map_values.values.tolist()\n",
    "data_missing = map_missing_values.values.tolist()\n",
    "\n",
    "data = [x for x in data if str(x[0]) != 'nan']\n",
    "data_missing = [x for x in data_missing if str(x[0]) != 'nan']\n",
    "\n",
    "# gradient for rankings\n",
    "gradient = {\n",
    "    0.0: '#4B0082',  # indigo (lower rankings)\n",
    "    0.2: '#0000FF',\n",
    "    0.4: '#00BFFF',\n",
    "    0.6: '#00FF00',\n",
    "    0.8: '#FFD700',\n",
    "    1.0: '#FFA500'   # orange (higher rankings)\n",
    "}\n",
    "\n",
    "# HeatMap for ranking data\n",
    "hm_ranking = HeatMap(data,\n",
    "                     min_opacity=0.55,\n",
    "                     max_opacity=0.9,\n",
    "                     radius=35,\n",
    "                     gradient=gradient,\n",
    "                     tooltip='Ranking',\n",
    "                     ).add_to(folium_fig)\n",
    "\n",
    "# gradient for missing rankings\n",
    "gradient_not_ranking = {\n",
    "    0.0: '#FFCCCB',\n",
    "    0.25: '#FF9999',\n",
    "    0.5: '#FF6666',\n",
    "    0.75: '#FF3333',\n",
    "    1.0: '#FF0000',\n",
    "}\n",
    "\n",
    "# HeatMap for missing ranking data\n",
    "hm_not_ranking = HeatMap(data_missing,\n",
    "                         min_opacity=0.55,\n",
    "                         max_opacity=0.9,\n",
    "                         radius=35,\n",
    "                         gradient=gradient_not_ranking,\n",
    "                         tooltip='Ranking',\n",
    "                         ).add_to(folium_fig)\n",
    "\n",
    "\n",
    "# color legend\n",
    "colormap = cm.LinearColormap(\n",
    "    colors=['#0000FF', \n",
    "            '#0000FF', \n",
    "            '#00BFFF', \n",
    "            '#00FF00', \n",
    "            '#FFD700', \n",
    "            '#FFA500'],\n",
    "    vmin=min(expanded_df['Aesthetic Dental_pos']),\n",
    "    vmax=max(expanded_df['Aesthetic Dental_pos']),\n",
    "    caption='Ranking Position for Localized \"Dental\" Searches (Red = Not Ranking)',\n",
    "\n",
    ")\n",
    "\n",
    "colormap.add_to(folium_fig)\n",
    "\n",
    "# optional, add color markers for greater precision\n",
    "for idx, row in expanded_df.iterrows():\n",
    "    folium.CircleMarker(\n",
    "        location=[row['new_lat'], row['new_lon']],\n",
    "        radius=8,  # size of the circle\n",
    "        color=colormap(row['Aesthetic Dental_pos']),  # color based on ranking position\n",
    "        fill=True,\n",
    "        fill_opacity=1,\n",
    "        tooltip=f\"Zipcode: {row['zipcode']}, Ranking: {row['Aesthetic Dental_pos']}\",\n",
    "    ).add_to(folium_fig)\n",
    "    \n",
    "\n",
    "for idx, row in group_not_ranking.iterrows():\n",
    "    folium.CircleMarker(\n",
    "        location=[row['Latitude'], row['Longitude']],\n",
    "        radius=8,  \n",
    "        color='#FF0000',  # red\n",
    "        fill=True,\n",
    "        fill_opacity=1,\n",
    "        tooltip=f\"Zipcode: {row['zipcode']}, Keywords: {row['keywords']}\",\n",
    "    ).add_to(folium_fig)\n",
    "\n",
    "\n",
    "    \n",
    "# save html file\n",
    "folium_fig.save(f'plots/folium_map_{date_time}.html')\n",
    "\n",
    "folium_fig"
   ],
   "metadata": {
    "colab": {
     "base_uri": "https://localhost:8080/",
     "height": 739
    },
    "id": "QY6lEloox0oE",
    "outputId": "9037abc0-5902-498e-f2be-7214fd8503e0",
    "ExecuteTime": {
     "end_time": "2024-09-17T22:50:01.490656Z",
     "start_time": "2024-09-17T22:50:00.066283Z"
    }
   },
   "outputs": [
    {
     "ename": "ModuleNotFoundError",
     "evalue": "No module named 'selenium'",
     "output_type": "error",
     "traceback": [
      "\u001B[0;31m---------------------------------------------------------------------------\u001B[0m",
      "\u001B[0;31mModuleNotFoundError\u001B[0m                       Traceback (most recent call last)",
      "Cell \u001B[0;32mIn[56], line 113\u001B[0m\n\u001B[1;32m    111\u001B[0m \u001B[38;5;28;01mimport\u001B[39;00m \u001B[38;5;21;01mio\u001B[39;00m\n\u001B[1;32m    112\u001B[0m \u001B[38;5;28;01mfrom\u001B[39;00m \u001B[38;5;21;01mPIL\u001B[39;00m \u001B[38;5;28;01mimport\u001B[39;00m Image\n\u001B[0;32m--> 113\u001B[0m img_data \u001B[38;5;241m=\u001B[39m \u001B[43mfolium_fig\u001B[49m\u001B[38;5;241;43m.\u001B[39;49m\u001B[43m_to_png\u001B[49m\u001B[43m(\u001B[49m\u001B[38;5;241;43m5\u001B[39;49m\u001B[43m)\u001B[49m\n\u001B[1;32m    114\u001B[0m img \u001B[38;5;241m=\u001B[39m Image\u001B[38;5;241m.\u001B[39mopen(io\u001B[38;5;241m.\u001B[39mBytesIO(img_data))\n\u001B[1;32m    115\u001B[0m img\u001B[38;5;241m.\u001B[39msave(\u001B[38;5;124mf\u001B[39m\u001B[38;5;124m'\u001B[39m\u001B[38;5;124mplots/folium_heatmap_\u001B[39m\u001B[38;5;132;01m{\u001B[39;00mdate_time\u001B[38;5;132;01m}\u001B[39;00m\u001B[38;5;124m.png\u001B[39m\u001B[38;5;124m'\u001B[39m)\n",
      "File \u001B[0;32m~/PycharmProjects/local_seo_mapplot/.venv/lib/python3.12/site-packages/folium/folium.py:355\u001B[0m, in \u001B[0;36mMap._to_png\u001B[0;34m(self, delay, driver)\u001B[0m\n\u001B[1;32m    353\u001B[0m \u001B[38;5;28;01mif\u001B[39;00m \u001B[38;5;28mself\u001B[39m\u001B[38;5;241m.\u001B[39m_png_image \u001B[38;5;129;01mis\u001B[39;00m \u001B[38;5;28;01mNone\u001B[39;00m:\n\u001B[1;32m    354\u001B[0m     \u001B[38;5;28;01mif\u001B[39;00m driver \u001B[38;5;129;01mis\u001B[39;00m \u001B[38;5;28;01mNone\u001B[39;00m:\n\u001B[0;32m--> 355\u001B[0m         \u001B[38;5;28;01mfrom\u001B[39;00m \u001B[38;5;21;01mselenium\u001B[39;00m \u001B[38;5;28;01mimport\u001B[39;00m webdriver\n\u001B[1;32m    357\u001B[0m         options \u001B[38;5;241m=\u001B[39m webdriver\u001B[38;5;241m.\u001B[39mfirefox\u001B[38;5;241m.\u001B[39moptions\u001B[38;5;241m.\u001B[39mOptions()\n\u001B[1;32m    358\u001B[0m         options\u001B[38;5;241m.\u001B[39madd_argument(\u001B[38;5;124m\"\u001B[39m\u001B[38;5;124m--headless\u001B[39m\u001B[38;5;124m\"\u001B[39m)\n",
      "\u001B[0;31mModuleNotFoundError\u001B[0m: No module named 'selenium'"
     ]
    }
   ],
   "execution_count": 56
  }
 ]
}
