{
 "nbformat": 4,
 "nbformat_minor": 0,
 "metadata": {
  "colab": {
   "provenance": []
  },
  "kernelspec": {
   "name": "python3",
   "display_name": "Python 3 (ipykernel)",
   "language": "python"
  },
  "language_info": {
   "name": "python"
  }
 },
 "cells": [
  {
   "metadata": {},
   "cell_type": "markdown",
   "source": [
    "# Local Results Performance Heatmap\n",
    "Using a city and state, generate surrounding zipcodes and run a SERP API query for each keyword and zipcode.<br>The results are then visualized on a heatmap to show performance of the client's website in the local results.<br><br>NOTE: The API runs queries against Google \"Places\" and is not measuring performance of local pack results."
   ]
  },
  {
   "cell_type": "code",
   "metadata": {
    "id": "qdl-4axXlmWe",
    "ExecuteTime": {
     "end_time": "2024-09-17T21:36:53.138373Z",
     "start_time": "2024-09-17T21:36:53.136792Z"
    }
   },
   "source": [
    "VALUE_SERP_KEY = 'YOUR_API_KEY'\n",
    "VALUE_SERP_ENDPOINT='https://api.valueserp.com/search'"
   ],
   "outputs": [],
   "execution_count": 1
  },
  {
   "metadata": {},
   "cell_type": "markdown",
   "source": "### Retrieve Surrounding Zipcodes"
  },
  {
   "metadata": {
    "ExecuteTime": {
     "end_time": "2024-09-18T16:28:38.737535Z",
     "start_time": "2024-09-18T16:28:38.248858Z"
    }
   },
   "cell_type": "code",
   "source": [
    "city = \"Santa Clarita\"\n",
    "state = \"CA\"\n",
    "distance_threshold = 6  # in miles, adjust as needed"
   ],
   "outputs": [],
   "execution_count": 5
  },
  {
   "cell_type": "code",
   "source": [
    "import pgeocode\n",
    "import tqdm\n",
    "import zipcodes\n",
    "from geopy.distance import geodesic\n",
    "from tqdm.notebook import tqdm\n",
    "\n",
    "def get_surrounding_zipcodes(city, state, distance_threshold):\n",
    "\n",
    "    city_zips = zipcodes.filter_by(city=city, state=state)\n",
    "\n",
    "    if not city_zips:\n",
    "        return []\n",
    "\n",
    "    surrounding_zips = set()\n",
    "    \n",
    "    for zip_info in tqdm(city_zips, desc='Generating surrounding zipcodes'):\n",
    "        origin = (zip_info['lat'], zip_info['long'])\n",
    "\n",
    "        # all zip codes by state and city\n",
    "        all_zips = zipcodes.list_all()\n",
    "\n",
    "        for target_zip in all_zips:\n",
    "            target = (target_zip['lat'], target_zip['long'])\n",
    "\n",
    "            # calculate distance\n",
    "            distance = geodesic(origin, target).miles\n",
    "\n",
    "            if distance <= distance_threshold:\n",
    "                surrounding_zips.add(target_zip['zip_code'])\n",
    "\n",
    "    # keep original city zipcodes\n",
    "    surrounding_zips.update([zip_info['zip_code'] for zip_info in city_zips])\n",
    "\n",
    "    return list(surrounding_zips)"
   ],
   "metadata": {
    "colab": {
     "base_uri": "https://localhost:8080/"
    },
    "id": "75QQR0mA30Ny",
    "outputId": "f3eb47ea-69c5-419e-f9b6-17c70e2d252f",
    "ExecuteTime": {
     "end_time": "2024-09-17T22:38:24.569155Z",
     "start_time": "2024-09-17T22:38:24.550500Z"
    }
   },
   "outputs": [],
   "execution_count": 52
  },
  {
   "metadata": {
    "ExecuteTime": {
     "end_time": "2024-09-17T22:38:39.548004Z",
     "start_time": "2024-09-17T22:38:25.942455Z"
    }
   },
   "cell_type": "code",
   "source": [
    "surrounding_zipcodes = get_surrounding_zipcodes(city, state, distance_threshold)\n",
    "print(f\"Surrounding zipcodes within {distance_threshold} miles of {city}, {state}:\")\n",
    "print(surrounding_zipcodes)"
   ],
   "outputs": [
    {
     "data": {
      "text/plain": [
       "Generating surrounding zipcodes:   0%|          | 0/5 [00:00<?, ?it/s]"
      ],
      "application/vnd.jupyter.widget-view+json": {
       "version_major": 2,
       "version_minor": 0,
       "model_id": "36fcdeea57704e54896fe0eccbec3efe"
      }
     },
     "metadata": {},
     "output_type": "display_data"
    },
    {
     "name": "stdout",
     "output_type": "stream",
     "text": [
      "Surrounding zipcodes within 6 miles of Santa Clarita, CA:\n",
      "['91354', '91387', '91322', '91383', '91380', '91382', '91386', '91390', '91381', '91351', '91321', '91350', '91355', '91310']\n"
     ]
    }
   ],
   "execution_count": 53
  },
  {
   "metadata": {},
   "cell_type": "markdown",
   "source": "### Run SERP API Queries"
  },
  {
   "metadata": {
    "ExecuteTime": {
     "end_time": "2024-09-18T16:28:19.223828Z",
     "start_time": "2024-09-18T16:28:18.347237Z"
    }
   },
   "cell_type": "code",
   "source": [
    "import pandas as pd \n",
    "\n",
    "# enter keywords separated by new line \n",
    "kws= '''dentist\n",
    "dentist near me\n",
    "dentist santa clarita\n",
    "santa clarita dentist\n",
    "santa clarita dental'''\n",
    "\n",
    "kws = kws.split('\\n')\n",
    "df = pd.DataFrame(columns=['keywords', 'zipcode'])\n",
    "\n",
    "for kw in kws:\n",
    "    for zipcode in surrounding_zipcodes:\n",
    "        df = pd.concat([df, pd.DataFrame({'keywords': kw, 'zipcode': zipcode}, index=[0])], ignore_index=True)       \n",
    "df.head()"
   ],
   "outputs": [
    {
     "ename": "NameError",
     "evalue": "name 'surrounding_zipcodes' is not defined",
     "output_type": "error",
     "traceback": [
      "\u001B[0;31m---------------------------------------------------------------------------\u001B[0m",
      "\u001B[0;31mNameError\u001B[0m                                 Traceback (most recent call last)",
      "Cell \u001B[0;32mIn[2], line 14\u001B[0m\n\u001B[1;32m     11\u001B[0m df \u001B[38;5;241m=\u001B[39m pd\u001B[38;5;241m.\u001B[39mDataFrame(columns\u001B[38;5;241m=\u001B[39m[\u001B[38;5;124m'\u001B[39m\u001B[38;5;124mkeywords\u001B[39m\u001B[38;5;124m'\u001B[39m, \u001B[38;5;124m'\u001B[39m\u001B[38;5;124mzipcode\u001B[39m\u001B[38;5;124m'\u001B[39m])\n\u001B[1;32m     13\u001B[0m \u001B[38;5;28;01mfor\u001B[39;00m kw \u001B[38;5;129;01min\u001B[39;00m kws:\n\u001B[0;32m---> 14\u001B[0m     \u001B[38;5;28;01mfor\u001B[39;00m zipcode \u001B[38;5;129;01min\u001B[39;00m \u001B[43msurrounding_zipcodes\u001B[49m:\n\u001B[1;32m     15\u001B[0m         df \u001B[38;5;241m=\u001B[39m pd\u001B[38;5;241m.\u001B[39mconcat([df, pd\u001B[38;5;241m.\u001B[39mDataFrame({\u001B[38;5;124m'\u001B[39m\u001B[38;5;124mkeywords\u001B[39m\u001B[38;5;124m'\u001B[39m: kw, \u001B[38;5;124m'\u001B[39m\u001B[38;5;124mzipcode\u001B[39m\u001B[38;5;124m'\u001B[39m: zipcode}, index\u001B[38;5;241m=\u001B[39m[\u001B[38;5;241m0\u001B[39m])], ignore_index\u001B[38;5;241m=\u001B[39m\u001B[38;5;28;01mTrue\u001B[39;00m)       \n\u001B[1;32m     16\u001B[0m df\u001B[38;5;241m.\u001B[39mhead()\n",
      "\u001B[0;31mNameError\u001B[0m: name 'surrounding_zipcodes' is not defined"
     ]
    }
   ],
   "execution_count": 2
  },
  {
   "metadata": {
    "ExecuteTime": {
     "end_time": "2024-09-17T21:50:58.493031Z",
     "start_time": "2024-09-17T21:50:58.489617Z"
    }
   },
   "cell_type": "code",
   "source": [
    "import requests\n",
    "\n",
    "def run_serp_query(keyword, zipcode, state, country, search_type, client_title):\n",
    "    params = {\n",
    "        'api_key': VALUE_SERP_KEY,\n",
    "        'search_type': search_type,\n",
    "        'q': keyword,\n",
    "        'location': f'{zipcode},{state},{country}',\n",
    "        'gl': 'us',\n",
    "        'hl': 'en',\n",
    "        'num': '20',\n",
    "    }\n",
    "    \n",
    "    response = requests.get(VALUE_SERP_ENDPOINT, params=params)\n",
    "    organic_results = response.json().get('places_results', [])\n",
    "    \n",
    "    result = {f'pos {i+1}': result['title'] for i, result in enumerate(organic_results, start=1)}\n",
    "    \n",
    "    client_position = next((r['position'] for r in organic_results if client_title in r['title']), \n",
    "                           f'{client_title} not found in top 20 results')\n",
    "    \n",
    "    result[f'{client_title}_pos'] = client_position\n",
    "    \n",
    "    return pd.DataFrame([result])"
   ],
   "outputs": [],
   "execution_count": 14
  },
  {
   "metadata": {
    "ExecuteTime": {
     "end_time": "2024-09-17T21:58:32.693716Z",
     "start_time": "2024-09-17T21:51:07.835424Z"
    }
   },
   "cell_type": "code",
   "source": [
    "tqdm.pandas()\n",
    "\n",
    "client_domain = '' # example.com\n",
    "client_title = ''  # use client/company name\n",
    "search_type = 'places'  # local results\n",
    "\n",
    "\n",
    "results = df.progress_apply(\n",
    "    lambda row: run_serp_query(row['keywords'], row['zipcode'], 'California', 'United States', search_type, client_title), \n",
    "    axis=1\n",
    ")\n",
    "\n",
    "df_results = pd.concat(results.tolist(), ignore_index=True)"
   ],
   "outputs": [
    {
     "data": {
      "text/plain": [
       "  0%|          | 0/70 [00:00<?, ?it/s]"
      ],
      "application/vnd.jupyter.widget-view+json": {
       "version_major": 2,
       "version_minor": 0,
       "model_id": "e1a356a03a5a46158ca223a383a1f555"
      }
     },
     "metadata": {},
     "output_type": "display_data"
    }
   ],
   "execution_count": 15
  },
  {
   "metadata": {
    "ExecuteTime": {
     "end_time": "2024-09-17T21:59:56.019179Z",
     "start_time": "2024-09-17T21:59:55.990133Z"
    }
   },
   "cell_type": "code",
   "source": [
    "merged_df = pd.concat([df, df_results], axis=1)\n",
    "merged_df.to_csv('export/kw_zipcode_data.csv', index=False, encoding='utf-8')\n",
    "print('########### Exported DataFrame to CSV ###########')\n",
    "merged_df.head()"
   ],
   "outputs": [
    {
     "name": "stdout",
     "output_type": "stream",
     "text": [
      "########### Exported DataFrame to CSV ###########\n"
     ]
    },
    {
     "data": {
      "text/plain": [
       "  keywords zipcode                                              pos 2  \\\n",
       "0  dentist   91354                   Santa Clarita Advanced Dentistry   \n",
       "1  dentist   91387  Lost Canyon Family Dental: Clayton R. Clark DD...   \n",
       "2  dentist   91322                              Three Sixty Dentistry   \n",
       "3  dentist   91383                   Santa Clarita Advanced Dentistry   \n",
       "4  dentist   91380                   Santa Clarita Advanced Dentistry   \n",
       "\n",
       "                                               pos 3  \\\n",
       "0  Valencia Advanced Dentistry at Copperhill Smil...   \n",
       "1                            Golden Canyon Dentistry   \n",
       "2                                Newhall Dental Arts   \n",
       "3  Smilebody Holistic Dental Wellbeing (formerly ...   \n",
       "4  Lost Canyon Family Dental: Clayton R. Clark DD...   \n",
       "\n",
       "                                               pos 4  \\\n",
       "0                                  Smile City Dental   \n",
       "1  Adventure Dental and Orthodontics - Santa Clarita   \n",
       "2                Aesthetic Dental & Specialty Center   \n",
       "3                            Copper Canyon Dentistry   \n",
       "4                       Harmony Dental Santa Clarita   \n",
       "\n",
       "                                               pos 5  \\\n",
       "0                            Copper Canyon Dentistry   \n",
       "1                      Dentistry For Kids and Adults   \n",
       "2                   Santa Clarita Advanced Dentistry   \n",
       "3                         Hasley Canyon Dental Group   \n",
       "4  Adventure Dental and Orthodontics - Santa Clarita   \n",
       "\n",
       "                                 pos 6                          pos 7  \\\n",
       "0                         Crest Dental            Canyon Dental Group   \n",
       "1     Santa Clarita Advanced Dentistry   Harmony Dental Santa Clarita   \n",
       "2            SANTA CLARITA DENTAL CARE          Dr. David S. Kim, DDS   \n",
       "3  Aesthetic Dental & Specialty Center            Canyon Dental Group   \n",
       "4              Golden Canyon Dentistry  Dentistry For Kids and Adults   \n",
       "\n",
       "                                               pos 8  \\\n",
       "0  Smilebody Holistic Dental Wellbeing (formerly ...   \n",
       "1                        Canyon Country Dental Group   \n",
       "2                     Santa Clarita Family Dentistry   \n",
       "3                                       Crest Dental   \n",
       "4                    Villar Dentistry & Orthodontics   \n",
       "\n",
       "                               pos 9  ...  \\\n",
       "0                          Go Dental  ...   \n",
       "1    Canyon Country Family Dentistry  ...   \n",
       "2        Smile Design: Santa Clarita  ...   \n",
       "3    Villar Dentistry & Orthodontics  ...   \n",
       "4  Bright Now! Dental & Orthodontics  ...   \n",
       "\n",
       "                                    pos 14  \\\n",
       "0  Valencia cosmetic and implant dentistry   \n",
       "1      Aesthetic Dental & Specialty Center   \n",
       "2                           Enhancedentist   \n",
       "3   Valencia Dental Group and Orthodontics   \n",
       "4                  Copper Canyon Dentistry   \n",
       "\n",
       "                                             pos 15  \\\n",
       "0              Valencia Dental Group at Copper Hill   \n",
       "1  Family Tree Dentistry, Sarah J. Phillips, D.D.S.   \n",
       "2                             Zak Dental - Valencia   \n",
       "3                  Santa Clarita Valley Dental Care   \n",
       "4                   Canyon Country Family Dentistry   \n",
       "\n",
       "                                    pos 16  \\\n",
       "0                      C Squared Dentistry   \n",
       "1             Perfect Smiles Dental Studio   \n",
       "2          Villar Dentistry & Orthodontics   \n",
       "3  Valencia cosmetic and implant dentistry   \n",
       "4                         Kidz Dental Care   \n",
       "\n",
       "                                              pos 17  \\\n",
       "0                                         Noa Dental   \n",
       "1                    Villar Dentistry & Orthodontics   \n",
       "2  Smilebody Holistic Dental Wellbeing (formerly ...   \n",
       "3                                C Squared Dentistry   \n",
       "4                        Canyon Country Dental Group   \n",
       "\n",
       "                                   pos 18  \\\n",
       "0                    Baywood Dental Group   \n",
       "1             A New Smile CC Dental Group   \n",
       "2                     Rex Baumgartner DDS   \n",
       "3       iHeartDDS - Santa Clarita Dentist   \n",
       "4  Valencia Dental Group and Orthodontics   \n",
       "\n",
       "                                              pos 19  \\\n",
       "0                                 White Crown Dental   \n",
       "1                                  California Dental   \n",
       "2  Smile Republic Pediatric Dentistry (previously...   \n",
       "3                                Dr. Marvin Tong DDS   \n",
       "4  Valencia Advanced Dentistry at Copperhill Smil...   \n",
       "\n",
       "                                pos 20  \\\n",
       "0  Aesthetic Dental & Specialty Center   \n",
       "1          Wellness Family Dental Care   \n",
       "2                    Lyons Dental Care   \n",
       "3                   White Crown Dental   \n",
       "4                         Crest Dental   \n",
       "\n",
       "                                              pos 21 Aesthetic Dental_pos  \\\n",
       "0                             Valencia Dental Office                   19   \n",
       "1                                  Navarro Dentistry                   13   \n",
       "2         Newhall Oral & Maxillofacial Surgery Group                    3   \n",
       "3  Valencia Advanced Dentistry at Copperhill Smil...                    5   \n",
       "4                                Canyon Dental Group                    9   \n",
       "\n",
       "  pos 22  \n",
       "0    NaN  \n",
       "1    NaN  \n",
       "2    NaN  \n",
       "3    NaN  \n",
       "4    NaN  \n",
       "\n",
       "[5 rows x 24 columns]"
      ],
      "text/html": [
       "<div>\n",
       "<style scoped>\n",
       "    .dataframe tbody tr th:only-of-type {\n",
       "        vertical-align: middle;\n",
       "    }\n",
       "\n",
       "    .dataframe tbody tr th {\n",
       "        vertical-align: top;\n",
       "    }\n",
       "\n",
       "    .dataframe thead th {\n",
       "        text-align: right;\n",
       "    }\n",
       "</style>\n",
       "<table border=\"1\" class=\"dataframe\">\n",
       "  <thead>\n",
       "    <tr style=\"text-align: right;\">\n",
       "      <th></th>\n",
       "      <th>keywords</th>\n",
       "      <th>zipcode</th>\n",
       "      <th>pos 2</th>\n",
       "      <th>pos 3</th>\n",
       "      <th>pos 4</th>\n",
       "      <th>pos 5</th>\n",
       "      <th>pos 6</th>\n",
       "      <th>pos 7</th>\n",
       "      <th>pos 8</th>\n",
       "      <th>pos 9</th>\n",
       "      <th>...</th>\n",
       "      <th>pos 14</th>\n",
       "      <th>pos 15</th>\n",
       "      <th>pos 16</th>\n",
       "      <th>pos 17</th>\n",
       "      <th>pos 18</th>\n",
       "      <th>pos 19</th>\n",
       "      <th>pos 20</th>\n",
       "      <th>pos 21</th>\n",
       "      <th>Aesthetic Dental_pos</th>\n",
       "      <th>pos 22</th>\n",
       "    </tr>\n",
       "  </thead>\n",
       "  <tbody>\n",
       "    <tr>\n",
       "      <th>0</th>\n",
       "      <td>dentist</td>\n",
       "      <td>91354</td>\n",
       "      <td>Santa Clarita Advanced Dentistry</td>\n",
       "      <td>Valencia Advanced Dentistry at Copperhill Smil...</td>\n",
       "      <td>Smile City Dental</td>\n",
       "      <td>Copper Canyon Dentistry</td>\n",
       "      <td>Crest Dental</td>\n",
       "      <td>Canyon Dental Group</td>\n",
       "      <td>Smilebody Holistic Dental Wellbeing (formerly ...</td>\n",
       "      <td>Go Dental</td>\n",
       "      <td>...</td>\n",
       "      <td>Valencia cosmetic and implant dentistry</td>\n",
       "      <td>Valencia Dental Group at Copper Hill</td>\n",
       "      <td>C Squared Dentistry</td>\n",
       "      <td>Noa Dental</td>\n",
       "      <td>Baywood Dental Group</td>\n",
       "      <td>White Crown Dental</td>\n",
       "      <td>Aesthetic Dental &amp; Specialty Center</td>\n",
       "      <td>Valencia Dental Office</td>\n",
       "      <td>19</td>\n",
       "      <td>NaN</td>\n",
       "    </tr>\n",
       "    <tr>\n",
       "      <th>1</th>\n",
       "      <td>dentist</td>\n",
       "      <td>91387</td>\n",
       "      <td>Lost Canyon Family Dental: Clayton R. Clark DD...</td>\n",
       "      <td>Golden Canyon Dentistry</td>\n",
       "      <td>Adventure Dental and Orthodontics - Santa Clarita</td>\n",
       "      <td>Dentistry For Kids and Adults</td>\n",
       "      <td>Santa Clarita Advanced Dentistry</td>\n",
       "      <td>Harmony Dental Santa Clarita</td>\n",
       "      <td>Canyon Country Dental Group</td>\n",
       "      <td>Canyon Country Family Dentistry</td>\n",
       "      <td>...</td>\n",
       "      <td>Aesthetic Dental &amp; Specialty Center</td>\n",
       "      <td>Family Tree Dentistry, Sarah J. Phillips, D.D.S.</td>\n",
       "      <td>Perfect Smiles Dental Studio</td>\n",
       "      <td>Villar Dentistry &amp; Orthodontics</td>\n",
       "      <td>A New Smile CC Dental Group</td>\n",
       "      <td>California Dental</td>\n",
       "      <td>Wellness Family Dental Care</td>\n",
       "      <td>Navarro Dentistry</td>\n",
       "      <td>13</td>\n",
       "      <td>NaN</td>\n",
       "    </tr>\n",
       "    <tr>\n",
       "      <th>2</th>\n",
       "      <td>dentist</td>\n",
       "      <td>91322</td>\n",
       "      <td>Three Sixty Dentistry</td>\n",
       "      <td>Newhall Dental Arts</td>\n",
       "      <td>Aesthetic Dental &amp; Specialty Center</td>\n",
       "      <td>Santa Clarita Advanced Dentistry</td>\n",
       "      <td>SANTA CLARITA DENTAL CARE</td>\n",
       "      <td>Dr. David S. Kim, DDS</td>\n",
       "      <td>Santa Clarita Family Dentistry</td>\n",
       "      <td>Smile Design: Santa Clarita</td>\n",
       "      <td>...</td>\n",
       "      <td>Enhancedentist</td>\n",
       "      <td>Zak Dental - Valencia</td>\n",
       "      <td>Villar Dentistry &amp; Orthodontics</td>\n",
       "      <td>Smilebody Holistic Dental Wellbeing (formerly ...</td>\n",
       "      <td>Rex Baumgartner DDS</td>\n",
       "      <td>Smile Republic Pediatric Dentistry (previously...</td>\n",
       "      <td>Lyons Dental Care</td>\n",
       "      <td>Newhall Oral &amp; Maxillofacial Surgery Group</td>\n",
       "      <td>3</td>\n",
       "      <td>NaN</td>\n",
       "    </tr>\n",
       "    <tr>\n",
       "      <th>3</th>\n",
       "      <td>dentist</td>\n",
       "      <td>91383</td>\n",
       "      <td>Santa Clarita Advanced Dentistry</td>\n",
       "      <td>Smilebody Holistic Dental Wellbeing (formerly ...</td>\n",
       "      <td>Copper Canyon Dentistry</td>\n",
       "      <td>Hasley Canyon Dental Group</td>\n",
       "      <td>Aesthetic Dental &amp; Specialty Center</td>\n",
       "      <td>Canyon Dental Group</td>\n",
       "      <td>Crest Dental</td>\n",
       "      <td>Villar Dentistry &amp; Orthodontics</td>\n",
       "      <td>...</td>\n",
       "      <td>Valencia Dental Group and Orthodontics</td>\n",
       "      <td>Santa Clarita Valley Dental Care</td>\n",
       "      <td>Valencia cosmetic and implant dentistry</td>\n",
       "      <td>C Squared Dentistry</td>\n",
       "      <td>iHeartDDS - Santa Clarita Dentist</td>\n",
       "      <td>Dr. Marvin Tong DDS</td>\n",
       "      <td>White Crown Dental</td>\n",
       "      <td>Valencia Advanced Dentistry at Copperhill Smil...</td>\n",
       "      <td>5</td>\n",
       "      <td>NaN</td>\n",
       "    </tr>\n",
       "    <tr>\n",
       "      <th>4</th>\n",
       "      <td>dentist</td>\n",
       "      <td>91380</td>\n",
       "      <td>Santa Clarita Advanced Dentistry</td>\n",
       "      <td>Lost Canyon Family Dental: Clayton R. Clark DD...</td>\n",
       "      <td>Harmony Dental Santa Clarita</td>\n",
       "      <td>Adventure Dental and Orthodontics - Santa Clarita</td>\n",
       "      <td>Golden Canyon Dentistry</td>\n",
       "      <td>Dentistry For Kids and Adults</td>\n",
       "      <td>Villar Dentistry &amp; Orthodontics</td>\n",
       "      <td>Bright Now! Dental &amp; Orthodontics</td>\n",
       "      <td>...</td>\n",
       "      <td>Copper Canyon Dentistry</td>\n",
       "      <td>Canyon Country Family Dentistry</td>\n",
       "      <td>Kidz Dental Care</td>\n",
       "      <td>Canyon Country Dental Group</td>\n",
       "      <td>Valencia Dental Group and Orthodontics</td>\n",
       "      <td>Valencia Advanced Dentistry at Copperhill Smil...</td>\n",
       "      <td>Crest Dental</td>\n",
       "      <td>Canyon Dental Group</td>\n",
       "      <td>9</td>\n",
       "      <td>NaN</td>\n",
       "    </tr>\n",
       "  </tbody>\n",
       "</table>\n",
       "<p>5 rows × 24 columns</p>\n",
       "</div>"
      ]
     },
     "execution_count": 16,
     "metadata": {},
     "output_type": "execute_result"
    }
   ],
   "execution_count": 16
  },
  {
   "metadata": {},
   "cell_type": "markdown",
   "source": "### Visualize Results - Plotly"
  },
  {
   "cell_type": "code",
   "source": [
    "nomi = pgeocode.Nominatim('us')\n",
    "\n",
    "merged_df['zipcode'] = merged_df['zipcode'].astype(str)\n",
    "merged_df['Latitude'] = nomi.query_postal_code(merged_df['zipcode'].tolist()).latitude\n",
    "merged_df['Longitude'] = nomi.query_postal_code(merged_df['zipcode'].tolist()).longitude\n",
    "\n",
    "merged_df_not_ranking = merged_df[merged_df['Company_pos'].str.contains('Aesthetic', na=False)]\n",
    "merged_df_ranking = merged_df[~merged_df['Company_pos'].str.contains('Aesthetic', na=False)]"
   ],
   "metadata": {
    "id": "lkuSkIcBmEnb",
    "ExecuteTime": {
     "end_time": "2024-09-18T16:29:07.319569Z",
     "start_time": "2024-09-18T16:29:07.203970Z"
    }
   },
   "outputs": [],
   "execution_count": 6
  },
  {
   "cell_type": "code",
   "source": [
    "merged_df_ranking = merged_df_ranking.copy()\n",
    "merged_df_ranking['Company_pos'] = merged_df_ranking['Company_pos'].astype(int)\n",
    "group_ranking = merged_df_ranking.groupby(['Latitude', 'Longitude']).agg({'Company_pos': 'mean',\n",
    "                                                                          'keywords': 'count',\n",
    "                                                                          'zipcode': 'first'}).reset_index()"
   ],
   "metadata": {
    "colab": {
     "base_uri": "https://localhost:8080/"
    },
    "id": "piWt7Hs3o2DU",
    "outputId": "7f932774-7cae-42c0-92d7-3212ca817e5f",
    "ExecuteTime": {
     "end_time": "2024-09-18T16:29:10.653646Z",
     "start_time": "2024-09-18T16:29:10.641642Z"
    }
   },
   "outputs": [],
   "execution_count": 7
  },
  {
   "cell_type": "code",
   "source": [
    "group_not_ranking = merged_df_not_ranking.groupby(['Latitude', 'Longitude']).agg({'keywords': 'count',\n",
    "                                                                                  'zipcode': 'first'}).reset_index()\n",
    "group_not_ranking['ranking_pos'] = 1000 # used for folium mapping"
   ],
   "metadata": {
    "id": "ms-1R71bHYaQ",
    "ExecuteTime": {
     "end_time": "2024-09-18T16:29:12.154502Z",
     "start_time": "2024-09-18T16:29:12.149871Z"
    }
   },
   "outputs": [],
   "execution_count": 8
  },
  {
   "cell_type": "code",
   "source": [
    "# function for improved visualization\n",
    "def expand_coordinates(df, lat_col='Latitude', lon_col='Longitude', factor=2): \n",
    "    \n",
    "    # calculate the center\n",
    "    center_lat = df[lat_col].mean()\n",
    "    center_lon = df[lon_col].mean()\n",
    "\n",
    "    # center the coordinates\n",
    "    df['centered_lat'] = df[lat_col] - center_lat\n",
    "    df['centered_lon'] = df[lon_col] - center_lon\n",
    "\n",
    "    # expand the range\n",
    "    df['expanded_lat'] = df['centered_lat'] * factor\n",
    "    df['expanded_lon'] = df['centered_lon'] * factor\n",
    "\n",
    "    # shift back to original scale\n",
    "    df['new_lat'] = df['expanded_lat'] + center_lat\n",
    "    df['new_lon'] = df['expanded_lon'] + center_lon\n",
    "\n",
    "    return df\n",
    "\n",
    "expanded_df = expand_coordinates(group_ranking, factor=2)"
   ],
   "metadata": {
    "id": "XXdXSkEbSDKt",
    "ExecuteTime": {
     "end_time": "2024-09-18T16:29:15.002859Z",
     "start_time": "2024-09-18T16:29:14.997921Z"
    }
   },
   "outputs": [],
   "execution_count": 9
  },
  {
   "cell_type": "code",
   "source": [
    "def ranking_bucket(pos):\n",
    "  if pos <= 3:\n",
    "    return \"top 3\"\n",
    "  elif pos <= 10:\n",
    "    return \"4-10\"\n",
    "  elif pos < 20:\n",
    "    return \"page 2\"\n",
    "  else:\n",
    "    return \"page 3+\"\n",
    "\n",
    "expanded_df['position_bucket'] = expanded_df['Company_pos'].apply(ranking_bucket)"
   ],
   "metadata": {
    "id": "QNOe0bouSEHn",
    "ExecuteTime": {
     "end_time": "2024-09-18T16:29:16.765555Z",
     "start_time": "2024-09-18T16:29:16.762517Z"
    }
   },
   "outputs": [],
   "execution_count": 10
  },
  {
   "metadata": {
    "ExecuteTime": {
     "end_time": "2024-09-18T16:29:19.659671Z",
     "start_time": "2024-09-18T16:29:19.543979Z"
    }
   },
   "cell_type": "code",
   "source": [
    "import plotly_express as px\n",
    "import plotly.graph_objects as go\n",
    "import datetime\n",
    "\n",
    "date_time = datetime.datetime.now().strftime(\"%Y%m%d_%H%M%S\")\n",
    "\n",
    "px_colors = px.colors.qualitative\n",
    "\n",
    "color_map_position_bucket = {\n",
    "    'top 3': px_colors.Plotly[2],\n",
    "    '4-10': px_colors.Plotly[0],\n",
    "    'page 2': px_colors.Plotly[4],\n",
    "    'page 3+': px_colors.T10[9],\n",
    "}\n",
    "\n",
    "legend_order = ['top 3', \n",
    "                '4-10', \n",
    "                'page 2', \n",
    "                'page 3+']"
   ],
   "outputs": [],
   "execution_count": 11
  },
  {
   "cell_type": "code",
   "source": [
    "# density map with ranking locations, adjust as needed\n",
    "fig = px.scatter_mapbox(\n",
    "    expanded_df,\n",
    "    lat='new_lat',\n",
    "    lon='new_lon',\n",
    "    color='position_bucket',\n",
    "    size='keywords',\n",
    "    size_max=50,\n",
    "    color_continuous_scale=\"speed_r\",\n",
    "    zoom=10, # adjust as needed\n",
    "    center=dict(lat=expanded_df['new_lat'].mean(), lon=expanded_df['new_lon'].mean()),\n",
    "    mapbox_style='open-street-map',\n",
    "    hover_name='zipcode',\n",
    "    color_discrete_map=color_map_position_bucket,\n",
    "    category_orders={'position_bucket': legend_order},\n",
    "    text='zipcode'\n",
    ")\n",
    "\n",
    "# non-ranking locations with red markers, adjust as needed\n",
    "fig.add_trace(go.Scattermapbox(\n",
    "    lat=group_not_ranking['Latitude'],\n",
    "    lon=group_not_ranking['Longitude'],\n",
    "    mode='markers+text',\n",
    "    marker=go.scattermapbox.Marker(\n",
    "        size=50,\n",
    "        color=px_colors.Plotly[1],\n",
    "        opacity=0.8\n",
    "    ),\n",
    "    hoverinfo='text',\n",
    "    text=group_not_ranking['zipcode'],\n",
    "    name=\"Low Rankings\",\n",
    "    showlegend=True,\n",
    ")\n",
    ")\n",
    "\n",
    "# layout updates, configure as needed\n",
    "fig.update_layout(\n",
    "    mapbox=dict(\n",
    "        zoom=10,\n",
    "        center=dict(\n",
    "            lat=expanded_df['new_lat'].mean(),\n",
    "            lon=expanded_df['new_lon'].mean(),\n",
    "        ),\n",
    "        style=\"open-street-map\",\n",
    "    ),\n",
    "    title=f\"Dentist-related 'Near Me' Ranking Zipcodes ({city}, {state})\",\n",
    "    title_x=0.5,\n",
    "    width=1200,\n",
    "    height=700,\n",
    "    legend=dict(\n",
    "        yanchor=\"top\",\n",
    "        y=0.99,\n",
    "        xanchor=\"left\",\n",
    "        x=0.01,\n",
    "        title=\"Ranking Bucket\"\n",
    "    ),\n",
    "    # change border color\n",
    "    margin=dict(l=0, r=0, t=40, b=0),\n",
    "    paper_bgcolor=\"white\",\n",
    "    # tect color to be black\n",
    "    font=dict(color=\"black\"),\n",
    ")\n",
    "\n",
    "fig.write_image(f\"plots/plotly_heatmap_{date_time}.png\")\n",
    "fig.show()"
   ],
   "metadata": {
    "colab": {
     "base_uri": "https://localhost:8080/",
     "height": 717
    },
    "id": "mlBlTM-tRLam",
    "outputId": "54ffe1b0-884f-4c97-e0a7-3ed100d295fc",
    "ExecuteTime": {
     "end_time": "2024-09-18T16:37:28.672196Z",
     "start_time": "2024-09-18T16:37:27.303576Z"
    }
   },
   "outputs": [
    {
     "data": {
      "application/vnd.plotly.v1+json": {
       "data": [
        {
         "hovertemplate": "<b>%{hovertext}</b><br><br>position_bucket=4-10<br>keywords=%{marker.size}<br>zipcode=%{text}<br>new_lat=%{lat}<br>new_lon=%{lon}<extra></extra>",
         "hovertext": [
          "91381",
          "91321",
          "91322",
          "91382",
          "91355",
          "91387",
          "91386",
          "91350",
          "91390",
          "91310"
         ],
         "lat": [
          34.33565833333332,
          34.339658333333325,
          34.35005833333333,
          34.364058333333325,
          34.37765833333332,
          34.40705833333333,
          34.42725833333332,
          34.44785833333332,
          34.51745833333333,
          34.55845833333333
         ],
         "legendgroup": "4-10",
         "lon": [
          -118.70143333333334,
          -118.52123333333333,
          -118.53703333333334,
          -118.56043333333332,
          -118.58223333333333,
          -118.32723333333334,
          -118.41923333333332,
          -118.47663333333333,
          -118.52743333333333,
          -118.72103333333334
         ],
         "marker": {
          "color": "#636EFA",
          "size": [
           5,
           5,
           4,
           13,
           4,
           5,
           4,
           4,
           5,
           5
          ],
          "sizemode": "area",
          "sizeref": 0.0052
         },
         "mode": "markers+text",
         "name": "4-10",
         "showlegend": true,
         "subplot": "mapbox",
         "text": [
          "91381",
          "91321",
          "91322",
          "91382",
          "91355",
          "91387",
          "91386",
          "91350",
          "91390",
          "91310"
         ],
         "type": "scattermapbox"
        },
        {
         "hovertemplate": "<b>%{hovertext}</b><br><br>position_bucket=page 2<br>keywords=%{marker.size}<br>zipcode=%{text}<br>new_lat=%{lat}<br>new_lon=%{lon}<extra></extra>",
         "hovertext": [
          "91351",
          "91354"
         ],
         "lat": [
          34.43305833333333,
          34.47385833333332
         ],
         "legendgroup": "page 2",
         "lon": [
          -118.37323333333333,
          -118.55003333333335
         ],
         "marker": {
          "color": "#FFA15A",
          "size": [
           4,
           5
          ],
          "sizemode": "area",
          "sizeref": 0.0052
         },
         "mode": "markers+text",
         "name": "page 2",
         "showlegend": true,
         "subplot": "mapbox",
         "text": [
          "91351",
          "91354"
         ],
         "type": "scattermapbox"
        },
        {
         "hoverinfo": "text",
         "lat": [
          34.3847,
          34.3917,
          34.3985,
          34.4233,
          34.4262,
          34.4336
         ],
         "lon": [
          -118.5309,
          -118.5426,
          -118.5535,
          -118.472,
          -118.449,
          -118.5007
         ],
         "marker": {
          "color": "#EF553B",
          "opacity": 0.8,
          "size": 50
         },
         "mode": "markers+text",
         "name": "Low Rankings",
         "showlegend": true,
         "text": [
          "91322",
          "91383",
          "91355",
          "91386",
          "91351",
          "91350"
         ],
         "type": "scattermapbox"
        }
       ],
       "layout": {
        "template": {
         "data": {
          "histogram2dcontour": [
           {
            "type": "histogram2dcontour",
            "colorbar": {
             "outlinewidth": 0,
             "ticks": ""
            },
            "colorscale": [
             [
              0.0,
              "#0d0887"
             ],
             [
              0.1111111111111111,
              "#46039f"
             ],
             [
              0.2222222222222222,
              "#7201a8"
             ],
             [
              0.3333333333333333,
              "#9c179e"
             ],
             [
              0.4444444444444444,
              "#bd3786"
             ],
             [
              0.5555555555555556,
              "#d8576b"
             ],
             [
              0.6666666666666666,
              "#ed7953"
             ],
             [
              0.7777777777777778,
              "#fb9f3a"
             ],
             [
              0.8888888888888888,
              "#fdca26"
             ],
             [
              1.0,
              "#f0f921"
             ]
            ]
           }
          ],
          "choropleth": [
           {
            "type": "choropleth",
            "colorbar": {
             "outlinewidth": 0,
             "ticks": ""
            }
           }
          ],
          "histogram2d": [
           {
            "type": "histogram2d",
            "colorbar": {
             "outlinewidth": 0,
             "ticks": ""
            },
            "colorscale": [
             [
              0.0,
              "#0d0887"
             ],
             [
              0.1111111111111111,
              "#46039f"
             ],
             [
              0.2222222222222222,
              "#7201a8"
             ],
             [
              0.3333333333333333,
              "#9c179e"
             ],
             [
              0.4444444444444444,
              "#bd3786"
             ],
             [
              0.5555555555555556,
              "#d8576b"
             ],
             [
              0.6666666666666666,
              "#ed7953"
             ],
             [
              0.7777777777777778,
              "#fb9f3a"
             ],
             [
              0.8888888888888888,
              "#fdca26"
             ],
             [
              1.0,
              "#f0f921"
             ]
            ]
           }
          ],
          "heatmap": [
           {
            "type": "heatmap",
            "colorbar": {
             "outlinewidth": 0,
             "ticks": ""
            },
            "colorscale": [
             [
              0.0,
              "#0d0887"
             ],
             [
              0.1111111111111111,
              "#46039f"
             ],
             [
              0.2222222222222222,
              "#7201a8"
             ],
             [
              0.3333333333333333,
              "#9c179e"
             ],
             [
              0.4444444444444444,
              "#bd3786"
             ],
             [
              0.5555555555555556,
              "#d8576b"
             ],
             [
              0.6666666666666666,
              "#ed7953"
             ],
             [
              0.7777777777777778,
              "#fb9f3a"
             ],
             [
              0.8888888888888888,
              "#fdca26"
             ],
             [
              1.0,
              "#f0f921"
             ]
            ]
           }
          ],
          "heatmapgl": [
           {
            "type": "heatmapgl",
            "colorbar": {
             "outlinewidth": 0,
             "ticks": ""
            },
            "colorscale": [
             [
              0.0,
              "#0d0887"
             ],
             [
              0.1111111111111111,
              "#46039f"
             ],
             [
              0.2222222222222222,
              "#7201a8"
             ],
             [
              0.3333333333333333,
              "#9c179e"
             ],
             [
              0.4444444444444444,
              "#bd3786"
             ],
             [
              0.5555555555555556,
              "#d8576b"
             ],
             [
              0.6666666666666666,
              "#ed7953"
             ],
             [
              0.7777777777777778,
              "#fb9f3a"
             ],
             [
              0.8888888888888888,
              "#fdca26"
             ],
             [
              1.0,
              "#f0f921"
             ]
            ]
           }
          ],
          "contourcarpet": [
           {
            "type": "contourcarpet",
            "colorbar": {
             "outlinewidth": 0,
             "ticks": ""
            }
           }
          ],
          "contour": [
           {
            "type": "contour",
            "colorbar": {
             "outlinewidth": 0,
             "ticks": ""
            },
            "colorscale": [
             [
              0.0,
              "#0d0887"
             ],
             [
              0.1111111111111111,
              "#46039f"
             ],
             [
              0.2222222222222222,
              "#7201a8"
             ],
             [
              0.3333333333333333,
              "#9c179e"
             ],
             [
              0.4444444444444444,
              "#bd3786"
             ],
             [
              0.5555555555555556,
              "#d8576b"
             ],
             [
              0.6666666666666666,
              "#ed7953"
             ],
             [
              0.7777777777777778,
              "#fb9f3a"
             ],
             [
              0.8888888888888888,
              "#fdca26"
             ],
             [
              1.0,
              "#f0f921"
             ]
            ]
           }
          ],
          "surface": [
           {
            "type": "surface",
            "colorbar": {
             "outlinewidth": 0,
             "ticks": ""
            },
            "colorscale": [
             [
              0.0,
              "#0d0887"
             ],
             [
              0.1111111111111111,
              "#46039f"
             ],
             [
              0.2222222222222222,
              "#7201a8"
             ],
             [
              0.3333333333333333,
              "#9c179e"
             ],
             [
              0.4444444444444444,
              "#bd3786"
             ],
             [
              0.5555555555555556,
              "#d8576b"
             ],
             [
              0.6666666666666666,
              "#ed7953"
             ],
             [
              0.7777777777777778,
              "#fb9f3a"
             ],
             [
              0.8888888888888888,
              "#fdca26"
             ],
             [
              1.0,
              "#f0f921"
             ]
            ]
           }
          ],
          "mesh3d": [
           {
            "type": "mesh3d",
            "colorbar": {
             "outlinewidth": 0,
             "ticks": ""
            }
           }
          ],
          "scatter": [
           {
            "marker": {
             "line": {
              "color": "#283442"
             }
            },
            "type": "scatter"
           }
          ],
          "parcoords": [
           {
            "type": "parcoords",
            "line": {
             "colorbar": {
              "outlinewidth": 0,
              "ticks": ""
             }
            }
           }
          ],
          "scatterpolargl": [
           {
            "type": "scatterpolargl",
            "marker": {
             "colorbar": {
              "outlinewidth": 0,
              "ticks": ""
             }
            }
           }
          ],
          "bar": [
           {
            "error_x": {
             "color": "#f2f5fa"
            },
            "error_y": {
             "color": "#f2f5fa"
            },
            "marker": {
             "line": {
              "color": "rgb(17,17,17)",
              "width": 0.5
             },
             "pattern": {
              "fillmode": "overlay",
              "size": 10,
              "solidity": 0.2
             }
            },
            "type": "bar"
           }
          ],
          "scattergeo": [
           {
            "type": "scattergeo",
            "marker": {
             "colorbar": {
              "outlinewidth": 0,
              "ticks": ""
             }
            }
           }
          ],
          "scatterpolar": [
           {
            "type": "scatterpolar",
            "marker": {
             "colorbar": {
              "outlinewidth": 0,
              "ticks": ""
             }
            }
           }
          ],
          "histogram": [
           {
            "marker": {
             "pattern": {
              "fillmode": "overlay",
              "size": 10,
              "solidity": 0.2
             }
            },
            "type": "histogram"
           }
          ],
          "scattergl": [
           {
            "marker": {
             "line": {
              "color": "#283442"
             }
            },
            "type": "scattergl"
           }
          ],
          "scatter3d": [
           {
            "type": "scatter3d",
            "line": {
             "colorbar": {
              "outlinewidth": 0,
              "ticks": ""
             }
            },
            "marker": {
             "colorbar": {
              "outlinewidth": 0,
              "ticks": ""
             }
            }
           }
          ],
          "scattermapbox": [
           {
            "type": "scattermapbox",
            "marker": {
             "colorbar": {
              "outlinewidth": 0,
              "ticks": ""
             }
            }
           }
          ],
          "scatterternary": [
           {
            "type": "scatterternary",
            "marker": {
             "colorbar": {
              "outlinewidth": 0,
              "ticks": ""
             }
            }
           }
          ],
          "scattercarpet": [
           {
            "type": "scattercarpet",
            "marker": {
             "colorbar": {
              "outlinewidth": 0,
              "ticks": ""
             }
            }
           }
          ],
          "carpet": [
           {
            "aaxis": {
             "endlinecolor": "#A2B1C6",
             "gridcolor": "#506784",
             "linecolor": "#506784",
             "minorgridcolor": "#506784",
             "startlinecolor": "#A2B1C6"
            },
            "baxis": {
             "endlinecolor": "#A2B1C6",
             "gridcolor": "#506784",
             "linecolor": "#506784",
             "minorgridcolor": "#506784",
             "startlinecolor": "#A2B1C6"
            },
            "type": "carpet"
           }
          ],
          "table": [
           {
            "cells": {
             "fill": {
              "color": "#506784"
             },
             "line": {
              "color": "rgb(17,17,17)"
             }
            },
            "header": {
             "fill": {
              "color": "#2a3f5f"
             },
             "line": {
              "color": "rgb(17,17,17)"
             }
            },
            "type": "table"
           }
          ],
          "barpolar": [
           {
            "marker": {
             "line": {
              "color": "rgb(17,17,17)",
              "width": 0.5
             },
             "pattern": {
              "fillmode": "overlay",
              "size": 10,
              "solidity": 0.2
             }
            },
            "type": "barpolar"
           }
          ],
          "pie": [
           {
            "automargin": true,
            "type": "pie"
           }
          ]
         },
         "layout": {
          "autotypenumbers": "strict",
          "colorway": [
           "#636efa",
           "#EF553B",
           "#00cc96",
           "#ab63fa",
           "#FFA15A",
           "#19d3f3",
           "#FF6692",
           "#B6E880",
           "#FF97FF",
           "#FECB52"
          ],
          "font": {
           "color": "#f2f5fa"
          },
          "hovermode": "closest",
          "hoverlabel": {
           "align": "left"
          },
          "paper_bgcolor": "rgb(17,17,17)",
          "plot_bgcolor": "rgb(17,17,17)",
          "polar": {
           "bgcolor": "rgb(17,17,17)",
           "angularaxis": {
            "gridcolor": "#506784",
            "linecolor": "#506784",
            "ticks": ""
           },
           "radialaxis": {
            "gridcolor": "#506784",
            "linecolor": "#506784",
            "ticks": ""
           }
          },
          "ternary": {
           "bgcolor": "rgb(17,17,17)",
           "aaxis": {
            "gridcolor": "#506784",
            "linecolor": "#506784",
            "ticks": ""
           },
           "baxis": {
            "gridcolor": "#506784",
            "linecolor": "#506784",
            "ticks": ""
           },
           "caxis": {
            "gridcolor": "#506784",
            "linecolor": "#506784",
            "ticks": ""
           }
          },
          "coloraxis": {
           "colorbar": {
            "outlinewidth": 0,
            "ticks": ""
           }
          },
          "colorscale": {
           "sequential": [
            [
             0.0,
             "#0d0887"
            ],
            [
             0.1111111111111111,
             "#46039f"
            ],
            [
             0.2222222222222222,
             "#7201a8"
            ],
            [
             0.3333333333333333,
             "#9c179e"
            ],
            [
             0.4444444444444444,
             "#bd3786"
            ],
            [
             0.5555555555555556,
             "#d8576b"
            ],
            [
             0.6666666666666666,
             "#ed7953"
            ],
            [
             0.7777777777777778,
             "#fb9f3a"
            ],
            [
             0.8888888888888888,
             "#fdca26"
            ],
            [
             1.0,
             "#f0f921"
            ]
           ],
           "sequentialminus": [
            [
             0.0,
             "#0d0887"
            ],
            [
             0.1111111111111111,
             "#46039f"
            ],
            [
             0.2222222222222222,
             "#7201a8"
            ],
            [
             0.3333333333333333,
             "#9c179e"
            ],
            [
             0.4444444444444444,
             "#bd3786"
            ],
            [
             0.5555555555555556,
             "#d8576b"
            ],
            [
             0.6666666666666666,
             "#ed7953"
            ],
            [
             0.7777777777777778,
             "#fb9f3a"
            ],
            [
             0.8888888888888888,
             "#fdca26"
            ],
            [
             1.0,
             "#f0f921"
            ]
           ],
           "diverging": [
            [
             0,
             "#8e0152"
            ],
            [
             0.1,
             "#c51b7d"
            ],
            [
             0.2,
             "#de77ae"
            ],
            [
             0.3,
             "#f1b6da"
            ],
            [
             0.4,
             "#fde0ef"
            ],
            [
             0.5,
             "#f7f7f7"
            ],
            [
             0.6,
             "#e6f5d0"
            ],
            [
             0.7,
             "#b8e186"
            ],
            [
             0.8,
             "#7fbc41"
            ],
            [
             0.9,
             "#4d9221"
            ],
            [
             1,
             "#276419"
            ]
           ]
          },
          "xaxis": {
           "gridcolor": "#283442",
           "linecolor": "#506784",
           "ticks": "",
           "title": {
            "standoff": 15
           },
           "zerolinecolor": "#283442",
           "automargin": true,
           "zerolinewidth": 2
          },
          "yaxis": {
           "gridcolor": "#283442",
           "linecolor": "#506784",
           "ticks": "",
           "title": {
            "standoff": 15
           },
           "zerolinecolor": "#283442",
           "automargin": true,
           "zerolinewidth": 2
          },
          "scene": {
           "xaxis": {
            "backgroundcolor": "rgb(17,17,17)",
            "gridcolor": "#506784",
            "linecolor": "#506784",
            "showbackground": true,
            "ticks": "",
            "zerolinecolor": "#C8D4E3",
            "gridwidth": 2
           },
           "yaxis": {
            "backgroundcolor": "rgb(17,17,17)",
            "gridcolor": "#506784",
            "linecolor": "#506784",
            "showbackground": true,
            "ticks": "",
            "zerolinecolor": "#C8D4E3",
            "gridwidth": 2
           },
           "zaxis": {
            "backgroundcolor": "rgb(17,17,17)",
            "gridcolor": "#506784",
            "linecolor": "#506784",
            "showbackground": true,
            "ticks": "",
            "zerolinecolor": "#C8D4E3",
            "gridwidth": 2
           }
          },
          "shapedefaults": {
           "line": {
            "color": "#f2f5fa"
           }
          },
          "annotationdefaults": {
           "arrowcolor": "#f2f5fa",
           "arrowhead": 0,
           "arrowwidth": 1
          },
          "geo": {
           "bgcolor": "rgb(17,17,17)",
           "landcolor": "rgb(17,17,17)",
           "subunitcolor": "#506784",
           "showland": true,
           "showlakes": true,
           "lakecolor": "rgb(17,17,17)"
          },
          "title": {
           "x": 0.05
          },
          "updatemenudefaults": {
           "bgcolor": "#506784",
           "borderwidth": 0
          },
          "sliderdefaults": {
           "bgcolor": "#C8D4E3",
           "borderwidth": 1,
           "bordercolor": "rgb(17,17,17)",
           "tickwidth": 0
          },
          "mapbox": {
           "style": "dark"
          }
         }
        },
        "mapbox": {
         "domain": {
          "x": [
           0.0,
           1.0
          ],
          "y": [
           0.0,
           1.0
          ]
         },
         "center": {
          "lat": 34.41934166666666,
          "lon": -118.52476666666668
         },
         "zoom": 10,
         "style": "open-street-map"
        },
        "legend": {
         "title": {
          "text": "Ranking Bucket"
         },
         "tracegroupgap": 0,
         "itemsizing": "constant",
         "yanchor": "top",
         "y": 0.99,
         "xanchor": "left",
         "x": 0.01
        },
        "margin": {
         "t": 40,
         "l": 0,
         "r": 0,
         "b": 0
        },
        "title": {
         "text": "Dentist-related 'Near Me' Ranking Zipcodes (Santa Clarita, CA)",
         "x": 0.5
        },
        "font": {
         "color": "black"
        },
        "width": 1200,
        "height": 700,
        "paper_bgcolor": "white"
       },
       "config": {
        "plotlyServerURL": "https://plot.ly"
       }
      },
      "text/html": [
       "<div>                            <div id=\"dcf19bb2-8200-45af-8b73-c574c31e4f24\" class=\"plotly-graph-div\" style=\"height:700px; width:1200px;\"></div>            <script type=\"text/javascript\">                require([\"plotly\"], function(Plotly) {                    window.PLOTLYENV=window.PLOTLYENV || {};                                    if (document.getElementById(\"dcf19bb2-8200-45af-8b73-c574c31e4f24\")) {                    Plotly.newPlot(                        \"dcf19bb2-8200-45af-8b73-c574c31e4f24\",                        [{\"hovertemplate\":\"\\u003cb\\u003e%{hovertext}\\u003c\\u002fb\\u003e\\u003cbr\\u003e\\u003cbr\\u003eposition_bucket=4-10\\u003cbr\\u003ekeywords=%{marker.size}\\u003cbr\\u003ezipcode=%{text}\\u003cbr\\u003enew_lat=%{lat}\\u003cbr\\u003enew_lon=%{lon}\\u003cextra\\u003e\\u003c\\u002fextra\\u003e\",\"hovertext\":[\"91381\",\"91321\",\"91322\",\"91382\",\"91355\",\"91387\",\"91386\",\"91350\",\"91390\",\"91310\"],\"lat\":[34.33565833333332,34.339658333333325,34.35005833333333,34.364058333333325,34.37765833333332,34.40705833333333,34.42725833333332,34.44785833333332,34.51745833333333,34.55845833333333],\"legendgroup\":\"4-10\",\"lon\":[-118.70143333333334,-118.52123333333333,-118.53703333333334,-118.56043333333332,-118.58223333333333,-118.32723333333334,-118.41923333333332,-118.47663333333333,-118.52743333333333,-118.72103333333334],\"marker\":{\"color\":\"#636EFA\",\"size\":[5,5,4,13,4,5,4,4,5,5],\"sizemode\":\"area\",\"sizeref\":0.0052},\"mode\":\"markers+text\",\"name\":\"4-10\",\"showlegend\":true,\"subplot\":\"mapbox\",\"text\":[\"91381\",\"91321\",\"91322\",\"91382\",\"91355\",\"91387\",\"91386\",\"91350\",\"91390\",\"91310\"],\"type\":\"scattermapbox\"},{\"hovertemplate\":\"\\u003cb\\u003e%{hovertext}\\u003c\\u002fb\\u003e\\u003cbr\\u003e\\u003cbr\\u003eposition_bucket=page 2\\u003cbr\\u003ekeywords=%{marker.size}\\u003cbr\\u003ezipcode=%{text}\\u003cbr\\u003enew_lat=%{lat}\\u003cbr\\u003enew_lon=%{lon}\\u003cextra\\u003e\\u003c\\u002fextra\\u003e\",\"hovertext\":[\"91351\",\"91354\"],\"lat\":[34.43305833333333,34.47385833333332],\"legendgroup\":\"page 2\",\"lon\":[-118.37323333333333,-118.55003333333335],\"marker\":{\"color\":\"#FFA15A\",\"size\":[4,5],\"sizemode\":\"area\",\"sizeref\":0.0052},\"mode\":\"markers+text\",\"name\":\"page 2\",\"showlegend\":true,\"subplot\":\"mapbox\",\"text\":[\"91351\",\"91354\"],\"type\":\"scattermapbox\"},{\"hoverinfo\":\"text\",\"lat\":[34.3847,34.3917,34.3985,34.4233,34.4262,34.4336],\"lon\":[-118.5309,-118.5426,-118.5535,-118.472,-118.449,-118.5007],\"marker\":{\"color\":\"#EF553B\",\"opacity\":0.8,\"size\":50},\"mode\":\"markers+text\",\"name\":\"Low Rankings\",\"showlegend\":true,\"text\":[\"91322\",\"91383\",\"91355\",\"91386\",\"91351\",\"91350\"],\"type\":\"scattermapbox\"}],                        {\"template\":{\"data\":{\"histogram2dcontour\":[{\"type\":\"histogram2dcontour\",\"colorbar\":{\"outlinewidth\":0,\"ticks\":\"\"},\"colorscale\":[[0.0,\"#0d0887\"],[0.1111111111111111,\"#46039f\"],[0.2222222222222222,\"#7201a8\"],[0.3333333333333333,\"#9c179e\"],[0.4444444444444444,\"#bd3786\"],[0.5555555555555556,\"#d8576b\"],[0.6666666666666666,\"#ed7953\"],[0.7777777777777778,\"#fb9f3a\"],[0.8888888888888888,\"#fdca26\"],[1.0,\"#f0f921\"]]}],\"choropleth\":[{\"type\":\"choropleth\",\"colorbar\":{\"outlinewidth\":0,\"ticks\":\"\"}}],\"histogram2d\":[{\"type\":\"histogram2d\",\"colorbar\":{\"outlinewidth\":0,\"ticks\":\"\"},\"colorscale\":[[0.0,\"#0d0887\"],[0.1111111111111111,\"#46039f\"],[0.2222222222222222,\"#7201a8\"],[0.3333333333333333,\"#9c179e\"],[0.4444444444444444,\"#bd3786\"],[0.5555555555555556,\"#d8576b\"],[0.6666666666666666,\"#ed7953\"],[0.7777777777777778,\"#fb9f3a\"],[0.8888888888888888,\"#fdca26\"],[1.0,\"#f0f921\"]]}],\"heatmap\":[{\"type\":\"heatmap\",\"colorbar\":{\"outlinewidth\":0,\"ticks\":\"\"},\"colorscale\":[[0.0,\"#0d0887\"],[0.1111111111111111,\"#46039f\"],[0.2222222222222222,\"#7201a8\"],[0.3333333333333333,\"#9c179e\"],[0.4444444444444444,\"#bd3786\"],[0.5555555555555556,\"#d8576b\"],[0.6666666666666666,\"#ed7953\"],[0.7777777777777778,\"#fb9f3a\"],[0.8888888888888888,\"#fdca26\"],[1.0,\"#f0f921\"]]}],\"heatmapgl\":[{\"type\":\"heatmapgl\",\"colorbar\":{\"outlinewidth\":0,\"ticks\":\"\"},\"colorscale\":[[0.0,\"#0d0887\"],[0.1111111111111111,\"#46039f\"],[0.2222222222222222,\"#7201a8\"],[0.3333333333333333,\"#9c179e\"],[0.4444444444444444,\"#bd3786\"],[0.5555555555555556,\"#d8576b\"],[0.6666666666666666,\"#ed7953\"],[0.7777777777777778,\"#fb9f3a\"],[0.8888888888888888,\"#fdca26\"],[1.0,\"#f0f921\"]]}],\"contourcarpet\":[{\"type\":\"contourcarpet\",\"colorbar\":{\"outlinewidth\":0,\"ticks\":\"\"}}],\"contour\":[{\"type\":\"contour\",\"colorbar\":{\"outlinewidth\":0,\"ticks\":\"\"},\"colorscale\":[[0.0,\"#0d0887\"],[0.1111111111111111,\"#46039f\"],[0.2222222222222222,\"#7201a8\"],[0.3333333333333333,\"#9c179e\"],[0.4444444444444444,\"#bd3786\"],[0.5555555555555556,\"#d8576b\"],[0.6666666666666666,\"#ed7953\"],[0.7777777777777778,\"#fb9f3a\"],[0.8888888888888888,\"#fdca26\"],[1.0,\"#f0f921\"]]}],\"surface\":[{\"type\":\"surface\",\"colorbar\":{\"outlinewidth\":0,\"ticks\":\"\"},\"colorscale\":[[0.0,\"#0d0887\"],[0.1111111111111111,\"#46039f\"],[0.2222222222222222,\"#7201a8\"],[0.3333333333333333,\"#9c179e\"],[0.4444444444444444,\"#bd3786\"],[0.5555555555555556,\"#d8576b\"],[0.6666666666666666,\"#ed7953\"],[0.7777777777777778,\"#fb9f3a\"],[0.8888888888888888,\"#fdca26\"],[1.0,\"#f0f921\"]]}],\"mesh3d\":[{\"type\":\"mesh3d\",\"colorbar\":{\"outlinewidth\":0,\"ticks\":\"\"}}],\"scatter\":[{\"marker\":{\"line\":{\"color\":\"#283442\"}},\"type\":\"scatter\"}],\"parcoords\":[{\"type\":\"parcoords\",\"line\":{\"colorbar\":{\"outlinewidth\":0,\"ticks\":\"\"}}}],\"scatterpolargl\":[{\"type\":\"scatterpolargl\",\"marker\":{\"colorbar\":{\"outlinewidth\":0,\"ticks\":\"\"}}}],\"bar\":[{\"error_x\":{\"color\":\"#f2f5fa\"},\"error_y\":{\"color\":\"#f2f5fa\"},\"marker\":{\"line\":{\"color\":\"rgb(17,17,17)\",\"width\":0.5},\"pattern\":{\"fillmode\":\"overlay\",\"size\":10,\"solidity\":0.2}},\"type\":\"bar\"}],\"scattergeo\":[{\"type\":\"scattergeo\",\"marker\":{\"colorbar\":{\"outlinewidth\":0,\"ticks\":\"\"}}}],\"scatterpolar\":[{\"type\":\"scatterpolar\",\"marker\":{\"colorbar\":{\"outlinewidth\":0,\"ticks\":\"\"}}}],\"histogram\":[{\"marker\":{\"pattern\":{\"fillmode\":\"overlay\",\"size\":10,\"solidity\":0.2}},\"type\":\"histogram\"}],\"scattergl\":[{\"marker\":{\"line\":{\"color\":\"#283442\"}},\"type\":\"scattergl\"}],\"scatter3d\":[{\"type\":\"scatter3d\",\"line\":{\"colorbar\":{\"outlinewidth\":0,\"ticks\":\"\"}},\"marker\":{\"colorbar\":{\"outlinewidth\":0,\"ticks\":\"\"}}}],\"scattermapbox\":[{\"type\":\"scattermapbox\",\"marker\":{\"colorbar\":{\"outlinewidth\":0,\"ticks\":\"\"}}}],\"scatterternary\":[{\"type\":\"scatterternary\",\"marker\":{\"colorbar\":{\"outlinewidth\":0,\"ticks\":\"\"}}}],\"scattercarpet\":[{\"type\":\"scattercarpet\",\"marker\":{\"colorbar\":{\"outlinewidth\":0,\"ticks\":\"\"}}}],\"carpet\":[{\"aaxis\":{\"endlinecolor\":\"#A2B1C6\",\"gridcolor\":\"#506784\",\"linecolor\":\"#506784\",\"minorgridcolor\":\"#506784\",\"startlinecolor\":\"#A2B1C6\"},\"baxis\":{\"endlinecolor\":\"#A2B1C6\",\"gridcolor\":\"#506784\",\"linecolor\":\"#506784\",\"minorgridcolor\":\"#506784\",\"startlinecolor\":\"#A2B1C6\"},\"type\":\"carpet\"}],\"table\":[{\"cells\":{\"fill\":{\"color\":\"#506784\"},\"line\":{\"color\":\"rgb(17,17,17)\"}},\"header\":{\"fill\":{\"color\":\"#2a3f5f\"},\"line\":{\"color\":\"rgb(17,17,17)\"}},\"type\":\"table\"}],\"barpolar\":[{\"marker\":{\"line\":{\"color\":\"rgb(17,17,17)\",\"width\":0.5},\"pattern\":{\"fillmode\":\"overlay\",\"size\":10,\"solidity\":0.2}},\"type\":\"barpolar\"}],\"pie\":[{\"automargin\":true,\"type\":\"pie\"}]},\"layout\":{\"autotypenumbers\":\"strict\",\"colorway\":[\"#636efa\",\"#EF553B\",\"#00cc96\",\"#ab63fa\",\"#FFA15A\",\"#19d3f3\",\"#FF6692\",\"#B6E880\",\"#FF97FF\",\"#FECB52\"],\"font\":{\"color\":\"#f2f5fa\"},\"hovermode\":\"closest\",\"hoverlabel\":{\"align\":\"left\"},\"paper_bgcolor\":\"rgb(17,17,17)\",\"plot_bgcolor\":\"rgb(17,17,17)\",\"polar\":{\"bgcolor\":\"rgb(17,17,17)\",\"angularaxis\":{\"gridcolor\":\"#506784\",\"linecolor\":\"#506784\",\"ticks\":\"\"},\"radialaxis\":{\"gridcolor\":\"#506784\",\"linecolor\":\"#506784\",\"ticks\":\"\"}},\"ternary\":{\"bgcolor\":\"rgb(17,17,17)\",\"aaxis\":{\"gridcolor\":\"#506784\",\"linecolor\":\"#506784\",\"ticks\":\"\"},\"baxis\":{\"gridcolor\":\"#506784\",\"linecolor\":\"#506784\",\"ticks\":\"\"},\"caxis\":{\"gridcolor\":\"#506784\",\"linecolor\":\"#506784\",\"ticks\":\"\"}},\"coloraxis\":{\"colorbar\":{\"outlinewidth\":0,\"ticks\":\"\"}},\"colorscale\":{\"sequential\":[[0.0,\"#0d0887\"],[0.1111111111111111,\"#46039f\"],[0.2222222222222222,\"#7201a8\"],[0.3333333333333333,\"#9c179e\"],[0.4444444444444444,\"#bd3786\"],[0.5555555555555556,\"#d8576b\"],[0.6666666666666666,\"#ed7953\"],[0.7777777777777778,\"#fb9f3a\"],[0.8888888888888888,\"#fdca26\"],[1.0,\"#f0f921\"]],\"sequentialminus\":[[0.0,\"#0d0887\"],[0.1111111111111111,\"#46039f\"],[0.2222222222222222,\"#7201a8\"],[0.3333333333333333,\"#9c179e\"],[0.4444444444444444,\"#bd3786\"],[0.5555555555555556,\"#d8576b\"],[0.6666666666666666,\"#ed7953\"],[0.7777777777777778,\"#fb9f3a\"],[0.8888888888888888,\"#fdca26\"],[1.0,\"#f0f921\"]],\"diverging\":[[0,\"#8e0152\"],[0.1,\"#c51b7d\"],[0.2,\"#de77ae\"],[0.3,\"#f1b6da\"],[0.4,\"#fde0ef\"],[0.5,\"#f7f7f7\"],[0.6,\"#e6f5d0\"],[0.7,\"#b8e186\"],[0.8,\"#7fbc41\"],[0.9,\"#4d9221\"],[1,\"#276419\"]]},\"xaxis\":{\"gridcolor\":\"#283442\",\"linecolor\":\"#506784\",\"ticks\":\"\",\"title\":{\"standoff\":15},\"zerolinecolor\":\"#283442\",\"automargin\":true,\"zerolinewidth\":2},\"yaxis\":{\"gridcolor\":\"#283442\",\"linecolor\":\"#506784\",\"ticks\":\"\",\"title\":{\"standoff\":15},\"zerolinecolor\":\"#283442\",\"automargin\":true,\"zerolinewidth\":2},\"scene\":{\"xaxis\":{\"backgroundcolor\":\"rgb(17,17,17)\",\"gridcolor\":\"#506784\",\"linecolor\":\"#506784\",\"showbackground\":true,\"ticks\":\"\",\"zerolinecolor\":\"#C8D4E3\",\"gridwidth\":2},\"yaxis\":{\"backgroundcolor\":\"rgb(17,17,17)\",\"gridcolor\":\"#506784\",\"linecolor\":\"#506784\",\"showbackground\":true,\"ticks\":\"\",\"zerolinecolor\":\"#C8D4E3\",\"gridwidth\":2},\"zaxis\":{\"backgroundcolor\":\"rgb(17,17,17)\",\"gridcolor\":\"#506784\",\"linecolor\":\"#506784\",\"showbackground\":true,\"ticks\":\"\",\"zerolinecolor\":\"#C8D4E3\",\"gridwidth\":2}},\"shapedefaults\":{\"line\":{\"color\":\"#f2f5fa\"}},\"annotationdefaults\":{\"arrowcolor\":\"#f2f5fa\",\"arrowhead\":0,\"arrowwidth\":1},\"geo\":{\"bgcolor\":\"rgb(17,17,17)\",\"landcolor\":\"rgb(17,17,17)\",\"subunitcolor\":\"#506784\",\"showland\":true,\"showlakes\":true,\"lakecolor\":\"rgb(17,17,17)\"},\"title\":{\"x\":0.05},\"updatemenudefaults\":{\"bgcolor\":\"#506784\",\"borderwidth\":0},\"sliderdefaults\":{\"bgcolor\":\"#C8D4E3\",\"borderwidth\":1,\"bordercolor\":\"rgb(17,17,17)\",\"tickwidth\":0},\"mapbox\":{\"style\":\"dark\"}}},\"mapbox\":{\"domain\":{\"x\":[0.0,1.0],\"y\":[0.0,1.0]},\"center\":{\"lat\":34.41934166666666,\"lon\":-118.52476666666668},\"zoom\":10,\"style\":\"open-street-map\"},\"legend\":{\"title\":{\"text\":\"Ranking Bucket\"},\"tracegroupgap\":0,\"itemsizing\":\"constant\",\"yanchor\":\"top\",\"y\":0.99,\"xanchor\":\"left\",\"x\":0.01},\"margin\":{\"t\":40,\"l\":0,\"r\":0,\"b\":0},\"title\":{\"text\":\"Dentist-related 'Near Me' Ranking Zipcodes (Santa Clarita, CA)\",\"x\":0.5},\"font\":{\"color\":\"black\"},\"width\":1200,\"height\":700,\"paper_bgcolor\":\"white\"},                        {\"responsive\": true}                    ).then(function(){\n",
       "                            \n",
       "var gd = document.getElementById('dcf19bb2-8200-45af-8b73-c574c31e4f24');\n",
       "var x = new MutationObserver(function (mutations, observer) {{\n",
       "        var display = window.getComputedStyle(gd).display;\n",
       "        if (!display || display === 'none') {{\n",
       "            console.log([gd, 'removed!']);\n",
       "            Plotly.purge(gd);\n",
       "            observer.disconnect();\n",
       "        }}\n",
       "}});\n",
       "\n",
       "// Listen for the removal of the full notebook cells\n",
       "var notebookContainer = gd.closest('#notebook-container');\n",
       "if (notebookContainer) {{\n",
       "    x.observe(notebookContainer, {childList: true});\n",
       "}}\n",
       "\n",
       "// Listen for the clearing of the current output cell\n",
       "var outputEl = gd.closest('.output');\n",
       "if (outputEl) {{\n",
       "    x.observe(outputEl, {childList: true});\n",
       "}}\n",
       "\n",
       "                        })                };                });            </script>        </div>"
      ]
     },
     "metadata": {},
     "output_type": "display_data"
    }
   ],
   "execution_count": 30
  },
  {
   "metadata": {},
   "cell_type": "markdown",
   "source": "### Visualize Results - Folium (optional)"
  },
  {
   "cell_type": "code",
   "source": [
    "import folium\n",
    "from folium.plugins import HeatMap\n",
    "import branca.colormap as cm\n",
    "\n",
    "\n",
    "loc = 'Dentist-related \"Near Me\" Ranking Zipcodes ({}, {})'.format(city, state)\n",
    "title_html = '''\n",
    "             <h3 align=\"center\" style=\"font-size:16px\"><b>{}</b></h3>\n",
    "             '''.format(loc)   \n",
    "\n",
    "# Initialize the map\n",
    "folium_fig = folium.Map(\n",
    "    location=[expanded_df['new_lat'].mean(), expanded_df['new_lon'].mean()],\n",
    "    zoom_start=11\n",
    ")\n",
    "\n",
    "folium_fig.get_root().html.add_child(folium.Element(title_html))\n",
    "\n",
    "# prepare the data\n",
    "map_values = expanded_df[['new_lat', 'new_lon', 'Company_pos']]\n",
    "map_missing_values = group_not_ranking[['Latitude', 'Longitude', 'ranking_pos']]\n",
    "\n",
    "data = map_values.values.tolist()\n",
    "data_missing = map_missing_values.values.tolist()\n",
    "\n",
    "data = [x for x in data if str(x[0]) != 'nan']\n",
    "data_missing = [x for x in data_missing if str(x[0]) != 'nan']\n",
    "\n",
    "# gradient for rankings\n",
    "gradient = {\n",
    "    0.0: '#4B0082',  # indigo (lower rankings)\n",
    "    0.2: '#0000FF',\n",
    "    0.4: '#00BFFF',\n",
    "    0.6: '#00FF00',\n",
    "    0.8: '#FFD700',\n",
    "    1.0: '#FFA500'   # orange (higher rankings)\n",
    "}\n",
    "\n",
    "# HeatMap for ranking data\n",
    "hm_ranking = HeatMap(data,\n",
    "                     min_opacity=0.55,\n",
    "                     max_opacity=0.9,\n",
    "                     radius=35,\n",
    "                     gradient=gradient,\n",
    "                     tooltip='Ranking',\n",
    "                     ).add_to(folium_fig)\n",
    "\n",
    "# gradient for missing rankings\n",
    "gradient_not_ranking = {\n",
    "    1.0: '#FF0000',\n",
    "}\n",
    "\n",
    "# HeatMap for missing ranking data\n",
    "hm_not_ranking = HeatMap(data_missing,\n",
    "                         min_opacity=0.9,\n",
    "                         max_opacity=0.9,\n",
    "                         radius=35,\n",
    "                         gradient=gradient_not_ranking,\n",
    "                         tooltip='Ranking',\n",
    "                         ).add_to(folium_fig)\n",
    "\n",
    "\n",
    "# color legend\n",
    "colormap = cm.LinearColormap(\n",
    "    colors=['#0000FF', \n",
    "            '#0000FF', \n",
    "            '#00BFFF', \n",
    "            '#00FF00', \n",
    "            '#FFD700', \n",
    "            '#FFA500'],\n",
    "    vmin=min(expanded_df['Company_pos']),\n",
    "    vmax=max(expanded_df['Company_pos']),\n",
    "    caption='Ranking Position for Localized \"Dental\" Searches (Red = Not Ranking)',\n",
    "\n",
    ")\n",
    "\n",
    "colormap.add_to(folium_fig)\n",
    "\n",
    "# optional, add color markers for greater precision\n",
    "for idx, row in expanded_df.iterrows():\n",
    "    folium.CircleMarker(\n",
    "        location=[row['new_lat'], row['new_lon']],\n",
    "        radius=8,  # size of the circle\n",
    "        color=colormap(row['Company_pos']),  # color based on ranking position\n",
    "        fill=True,\n",
    "        fill_opacity=1,\n",
    "        tooltip=f\"Zipcode: {row['zipcode']}, Ranking: {row['Company_pos']}\",\n",
    "    ).add_to(folium_fig)\n",
    "    \n",
    "\n",
    "for idx, row in group_not_ranking.iterrows():\n",
    "    folium.CircleMarker(\n",
    "        location=[row['Latitude'], row['Longitude']],\n",
    "        radius=8,  \n",
    "        color='#FF0000',  # red\n",
    "        fill=True,\n",
    "        fill_opacity=1,\n",
    "        tooltip=f\"Zipcode: {row['zipcode']}, Keywords: {row['keywords']}\",\n",
    "    ).add_to(folium_fig)\n",
    "\n",
    "\n",
    "    \n",
    "# save html file\n",
    "folium_fig.save(f'plots/folium_map_{date_time}.html')\n",
    "folium_fig"
   ],
   "metadata": {
    "colab": {
     "base_uri": "https://localhost:8080/",
     "height": 739
    },
    "id": "QY6lEloox0oE",
    "outputId": "9037abc0-5902-498e-f2be-7214fd8503e0",
    "ExecuteTime": {
     "end_time": "2024-09-18T16:44:30.045210Z",
     "start_time": "2024-09-18T16:44:30.007299Z"
    }
   },
   "outputs": [
    {
     "data": {
      "text/plain": [
       "<folium.folium.Map at 0x12799deb0>"
      ],
      "text/html": [
       "<div style=\"width:100%;\"><div style=\"position:relative;width:100%;height:0;padding-bottom:60%;\"><span style=\"color:#565656\">Make this Notebook Trusted to load map: File -> Trust Notebook</span><iframe srcdoc=\"&lt;!DOCTYPE html&gt;\n",
       "&lt;html&gt;\n",
       "&lt;head&gt;\n",
       "    \n",
       "    &lt;meta http-equiv=&quot;content-type&quot; content=&quot;text/html; charset=UTF-8&quot; /&gt;\n",
       "    \n",
       "        &lt;script&gt;\n",
       "            L_NO_TOUCH = false;\n",
       "            L_DISABLE_3D = false;\n",
       "        &lt;/script&gt;\n",
       "    \n",
       "    &lt;style&gt;html, body {width: 100%;height: 100%;margin: 0;padding: 0;}&lt;/style&gt;\n",
       "    &lt;style&gt;#map {position:absolute;top:0;bottom:0;right:0;left:0;}&lt;/style&gt;\n",
       "    &lt;script src=&quot;https://cdn.jsdelivr.net/npm/leaflet@1.9.3/dist/leaflet.js&quot;&gt;&lt;/script&gt;\n",
       "    &lt;script src=&quot;https://code.jquery.com/jquery-3.7.1.min.js&quot;&gt;&lt;/script&gt;\n",
       "    &lt;script src=&quot;https://cdn.jsdelivr.net/npm/bootstrap@5.2.2/dist/js/bootstrap.bundle.min.js&quot;&gt;&lt;/script&gt;\n",
       "    &lt;script src=&quot;https://cdnjs.cloudflare.com/ajax/libs/Leaflet.awesome-markers/2.0.2/leaflet.awesome-markers.js&quot;&gt;&lt;/script&gt;\n",
       "    &lt;link rel=&quot;stylesheet&quot; href=&quot;https://cdn.jsdelivr.net/npm/leaflet@1.9.3/dist/leaflet.css&quot;/&gt;\n",
       "    &lt;link rel=&quot;stylesheet&quot; href=&quot;https://cdn.jsdelivr.net/npm/bootstrap@5.2.2/dist/css/bootstrap.min.css&quot;/&gt;\n",
       "    &lt;link rel=&quot;stylesheet&quot; href=&quot;https://netdna.bootstrapcdn.com/bootstrap/3.0.0/css/bootstrap-glyphicons.css&quot;/&gt;\n",
       "    &lt;link rel=&quot;stylesheet&quot; href=&quot;https://cdn.jsdelivr.net/npm/@fortawesome/fontawesome-free@6.2.0/css/all.min.css&quot;/&gt;\n",
       "    &lt;link rel=&quot;stylesheet&quot; href=&quot;https://cdnjs.cloudflare.com/ajax/libs/Leaflet.awesome-markers/2.0.2/leaflet.awesome-markers.css&quot;/&gt;\n",
       "    &lt;link rel=&quot;stylesheet&quot; href=&quot;https://cdn.jsdelivr.net/gh/python-visualization/folium/folium/templates/leaflet.awesome.rotate.min.css&quot;/&gt;\n",
       "    \n",
       "            &lt;meta name=&quot;viewport&quot; content=&quot;width=device-width,\n",
       "                initial-scale=1.0, maximum-scale=1.0, user-scalable=no&quot; /&gt;\n",
       "            &lt;style&gt;\n",
       "                #map_eaf58fb261e5bede683445d613f70c85 {\n",
       "                    position: relative;\n",
       "                    width: 100.0%;\n",
       "                    height: 100.0%;\n",
       "                    left: 0.0%;\n",
       "                    top: 0.0%;\n",
       "                }\n",
       "                .leaflet-container { font-size: 1rem; }\n",
       "            &lt;/style&gt;\n",
       "        \n",
       "    &lt;script src=&quot;https://cdn.jsdelivr.net/gh/python-visualization/folium@main/folium/templates/leaflet_heat.min.js&quot;&gt;&lt;/script&gt;\n",
       "    &lt;script src=&quot;https://cdnjs.cloudflare.com/ajax/libs/d3/3.5.5/d3.min.js&quot;&gt;&lt;/script&gt;\n",
       "&lt;/head&gt;\n",
       "&lt;body&gt;\n",
       "    \n",
       "    \n",
       "             &lt;h3 align=&quot;center&quot; style=&quot;font-size:16px&quot;&gt;&lt;b&gt;Dentist-related &quot;Near Me&quot; Ranking Zipcodes (Santa Clarita, CA)&lt;/b&gt;&lt;/h3&gt;\n",
       "             \n",
       "    \n",
       "            &lt;div class=&quot;folium-map&quot; id=&quot;map_eaf58fb261e5bede683445d613f70c85&quot; &gt;&lt;/div&gt;\n",
       "        \n",
       "&lt;/body&gt;\n",
       "&lt;script&gt;\n",
       "    \n",
       "    \n",
       "            var map_eaf58fb261e5bede683445d613f70c85 = L.map(\n",
       "                &quot;map_eaf58fb261e5bede683445d613f70c85&quot;,\n",
       "                {\n",
       "                    center: [34.41934166666666, -118.52476666666668],\n",
       "                    crs: L.CRS.EPSG3857,\n",
       "                    zoom: 11,\n",
       "                    zoomControl: true,\n",
       "                    preferCanvas: false,\n",
       "                }\n",
       "            );\n",
       "\n",
       "            \n",
       "\n",
       "        \n",
       "    \n",
       "            var tile_layer_70328238e4afc96d2a56c7eca5bbc9ed = L.tileLayer(\n",
       "                &quot;https://tile.openstreetmap.org/{z}/{x}/{y}.png&quot;,\n",
       "                {&quot;attribution&quot;: &quot;\\u0026copy; \\u003ca href=\\&quot;https://www.openstreetmap.org/copyright\\&quot;\\u003eOpenStreetMap\\u003c/a\\u003e contributors&quot;, &quot;detectRetina&quot;: false, &quot;maxNativeZoom&quot;: 19, &quot;maxZoom&quot;: 19, &quot;minZoom&quot;: 0, &quot;noWrap&quot;: false, &quot;opacity&quot;: 1, &quot;subdomains&quot;: &quot;abc&quot;, &quot;tms&quot;: false}\n",
       "            );\n",
       "        \n",
       "    \n",
       "            tile_layer_70328238e4afc96d2a56c7eca5bbc9ed.addTo(map_eaf58fb261e5bede683445d613f70c85);\n",
       "        \n",
       "    \n",
       "            var heat_map_90847f06480b3e448cfb305bbc54e237 = L.heatLayer(\n",
       "                [[34.33565833333332, -118.70143333333334, 3.2], [34.339658333333325, -118.52123333333333, 4.8], [34.35005833333333, -118.53703333333334, 7.5], [34.364058333333325, -118.56043333333332, 4.384615384615385], [34.37765833333332, -118.58223333333333, 8.0], [34.40705833333333, -118.32723333333334, 7.8], [34.42725833333332, -118.41923333333332, 8.25], [34.43305833333333, -118.37323333333333, 10.25], [34.44785833333332, -118.47663333333333, 8.75], [34.47385833333332, -118.55003333333335, 10.2], [34.51745833333333, -118.52743333333333, 4.6], [34.55845833333333, -118.72103333333334, 8.6]],\n",
       "                {&quot;blur&quot;: 15, &quot;gradient&quot;: {&quot;0.0&quot;: &quot;#4B0082&quot;, &quot;0.2&quot;: &quot;#0000FF&quot;, &quot;0.4&quot;: &quot;#00BFFF&quot;, &quot;0.6&quot;: &quot;#00FF00&quot;, &quot;0.8&quot;: &quot;#FFD700&quot;, &quot;1.0&quot;: &quot;#FFA500&quot;}, &quot;maxOpacity&quot;: 0.9, &quot;maxZoom&quot;: 18, &quot;minOpacity&quot;: 0.55, &quot;radius&quot;: 35, &quot;tooltip&quot;: &quot;Ranking&quot;}\n",
       "            );\n",
       "        \n",
       "    \n",
       "            heat_map_90847f06480b3e448cfb305bbc54e237.addTo(map_eaf58fb261e5bede683445d613f70c85);\n",
       "        \n",
       "    \n",
       "            var heat_map_2d937cfb0e5e7cde3fc13a79b95dca88 = L.heatLayer(\n",
       "                [[34.3847, -118.5309, 1000.0], [34.3917, -118.5426, 1000.0], [34.3985, -118.5535, 1000.0], [34.4233, -118.472, 1000.0], [34.4262, -118.449, 1000.0], [34.4336, -118.5007, 1000.0]],\n",
       "                {&quot;blur&quot;: 15, &quot;gradient&quot;: {&quot;1.0&quot;: &quot;#FF0000&quot;}, &quot;maxOpacity&quot;: 0.9, &quot;maxZoom&quot;: 18, &quot;minOpacity&quot;: 0.9, &quot;radius&quot;: 35, &quot;tooltip&quot;: &quot;Ranking&quot;}\n",
       "            );\n",
       "        \n",
       "    \n",
       "            heat_map_2d937cfb0e5e7cde3fc13a79b95dca88.addTo(map_eaf58fb261e5bede683445d613f70c85);\n",
       "        \n",
       "    \n",
       "    var color_map_18f2771e2dec4420aaebe79371b8b0f0 = {};\n",
       "\n",
       "    \n",
       "    color_map_18f2771e2dec4420aaebe79371b8b0f0.color = d3.scale.threshold()\n",
       "              .domain([3.2, 3.214128256513026, 3.2282565130260523, 3.242384769539078, 3.2565130260521045, 3.2706412825651303, 3.2847695390781566, 3.2988977955911825, 3.3130260521042088, 3.3271543086172346, 3.341282565130261, 3.3554108216432867, 3.3695390781563126, 3.383667334669339, 3.3977955911823647, 3.411923847695391, 3.426052104208417, 3.440180360721443, 3.454308617234469, 3.4684368737474953, 3.482565130260521, 3.496693386773547, 3.5108216432865733, 3.5249498997995996, 3.5390781563126255, 3.5532064128256513, 3.5673346693386776, 3.5814629258517034, 3.5955911823647297, 3.6097194388777556, 3.623847695390782, 3.6379759519038077, 3.6521042084168336, 3.66623246492986, 3.680360721442886, 3.694488977955912, 3.708617234468938, 3.722745490981964, 3.73687374749499, 3.7510020040080163, 3.765130260521042, 3.7792585170340685, 3.7933867735470943, 3.80751503006012, 3.8216432865731464, 3.8357715430861727, 3.8498997995991986, 3.8640280561122244, 3.8781563126252507, 3.8922845691382766, 3.906412825651303, 3.9205410821643287, 3.934669338677355, 3.948797595190381, 3.9629258517034067, 3.977054108216433, 3.9911823647294593, 4.005310621242485, 4.019438877755511, 4.033567134268537, 4.047695390781564, 4.061823647294589, 4.075951903807615, 4.090080160320642, 4.104208416833668, 4.118336673346693, 4.13246492985972, 4.146593186372746, 4.160721442885771, 4.174849699398798, 4.188977955911824, 4.20310621242485, 4.217234468937876, 4.231362725450902, 4.245490981963928, 4.2596192384769545, 4.27374749498998, 4.287875751503006, 4.302004008016032, 4.316132264529058, 4.330260521042084, 4.34438877755511, 4.358517034068137, 4.372645290581162, 4.386773547094188, 4.400901803607215, 4.415030060120241, 4.429158316633266, 4.443286573146293, 4.457414829659319, 4.471543086172344, 4.485671342685371, 4.499799599198397, 4.513927855711423, 4.528056112224449, 4.542184368737475, 4.556312625250501, 4.570440881763528, 4.584569138276553, 4.598697394789579, 4.612825651302606, 4.626953907815631, 4.641082164328657, 4.655210420841684, 4.669338677354709, 4.683466933867736, 4.697595190380762, 4.711723446893788, 4.725851703406814, 4.73997995991984, 4.754108216432866, 4.768236472945892, 4.7823647294589176, 4.796492985971944, 4.81062124248497, 4.824749498997996, 4.838877755511022, 4.853006012024048, 4.867134268537074, 4.881262525050101, 4.895390781563126, 4.909519038076152, 4.923647294589179, 4.937775551102204, 4.95190380761523, 4.966032064128257, 4.980160320641282, 4.994288577154309, 5.008416833667335, 5.022545090180361, 5.036673346693387, 5.050801603206413, 5.064929859719439, 5.079058116232465, 5.093186372745491, 5.107314629258517, 5.121442885771543, 5.13557114228457, 5.149699398797596, 5.163827655310621, 5.177955911823648, 5.192084168336674, 5.206212424849699, 5.2203406813627256, 5.234468937875752, 5.248597194388777, 5.2627254509018035, 5.27685370741483, 5.290981963927855, 5.305110220440882, 5.319238476953908, 5.333366733466934, 5.34749498997996, 5.361623246492986, 5.375751503006012, 5.389879759519038, 5.404008016032064, 5.41813627254509, 5.432264529058116, 5.446392785571143, 5.460521042084169, 5.474649298597194, 5.48877755511022, 5.502905811623247, 5.517034068136272, 5.531162324649299, 5.545290581162325, 5.55941883767535, 5.573547094188377, 5.587675350701403, 5.601803607214428, 5.615931863727456, 5.630060120240481, 5.644188376753506, 5.658316633266534, 5.672444889779559, 5.686573146292585, 5.7007014028056116, 5.714829659318637, 5.728957915831664, 5.7430861723446895, 5.757214428857715, 5.771342685370742, 5.7854709418837675, 5.799599198396794, 5.81372745490982, 5.8278557114228455, 5.841983967935872, 5.856112224448898, 5.8702404809619235, 5.884368737474951, 5.898496993987976, 5.9126252505010015, 5.926753507014028, 5.940881763527054, 5.95501002004008, 5.969138276553107, 5.983266533066132, 5.997394789579158, 6.011523046092185, 6.02565130260521, 6.039779559118236, 6.053907815631263, 6.068036072144288, 6.082164328657315, 6.096292585170341, 6.110420841683367, 6.124549098196393, 6.138677354709419, 6.152805611222445, 6.166933867735471, 6.181062124248497, 6.195190380761523, 6.209318637274549, 6.2234468937875755, 6.237575150300602, 6.251703406813627, 6.265831663326653, 6.27995991983968, 6.294088176352705, 6.3082164328657315, 6.322344689378758, 6.336472945891783, 6.3506012024048095, 6.364729458917836, 6.378857715430862, 6.392985971943888, 6.407114228456914, 6.421242484969939, 6.435370741482966, 6.449498997995992, 6.463627254509018, 6.477755511022044, 6.49188376753507, 6.506012024048097, 6.520140280561122, 6.534268537074148, 6.548396793587175, 6.5625250501002, 6.576653306613227, 6.590781563126253, 6.604909819639278, 6.619038076152305, 6.633166332665331, 6.647294589178356, 6.6614228456913835, 6.675551102204409, 6.689679358717434, 6.703807615230461, 6.717935871743487, 6.732064128256513, 6.7461923847695395, 6.760320641282565, 6.774448897795591, 6.7885771543086175, 6.802705410821643, 6.816833667334669, 6.8309619238476955, 6.845090180360721, 6.859218436873748, 6.8733466933867735, 6.8874749498998, 6.901603206412826, 6.9157314629258515, 6.929859719438879, 6.943987975951904, 6.9581162324649295, 6.972244488977956, 6.986372745490982, 7.000501002004008, 7.014629258517035, 7.02875751503006, 7.042885771543086, 7.057014028056113, 7.071142284569138, 7.085270541082164, 7.099398797595191, 7.113527054108216, 7.127655310621242, 7.141783567134269, 7.155911823647295, 7.170040080160321, 7.184168336673347, 7.198296593186372, 7.212424849699399, 7.226553106212425, 7.240681362725451, 7.254809619238477, 7.268937875751503, 7.283066132264529, 7.297194388777555, 7.311322645290581, 7.325450901803607, 7.339579158316633, 7.3537074148296595, 7.367835671342686, 7.381963927855711, 7.3960921843687375, 7.410220440881764, 7.424348697394789, 7.4384769539078155, 7.452605210420841, 7.466733466933868, 7.480861723446894, 7.49498997995992, 7.509118236472946, 7.5232464929859715, 7.537374749498998, 7.551503006012024, 7.5656312625250495, 7.579759519038077, 7.593887775551102, 7.608016032064128, 7.622144288577155, 7.63627254509018, 7.650400801603206, 7.664529058116232, 7.678657314629259, 7.692785571142285, 7.706913827655311, 7.721042084168337, 7.735170340681362, 7.749298597194389, 7.763426853707415, 7.77755511022044, 7.7916833667334675, 7.805811623246493, 7.819939879759519, 7.8340681362725455, 7.848196392785571, 7.862324649298597, 7.876452905811623, 7.890581162324649, 7.904709418837676, 7.9188376753507015, 7.932965931863728, 7.947094188376753, 7.9612224448897795, 7.975350701402806, 7.989478957915831, 8.003607214428857, 8.017735470941883, 8.03186372745491, 8.045991983967937, 8.060120240480963, 8.074248496993988, 8.088376753507013, 8.102505010020039, 8.116633266533066, 8.130761523046093, 8.144889779559119, 8.159018036072144, 8.17314629258517, 8.187274549098197, 8.201402805611222, 8.21553106212425, 8.229659318637275, 8.2437875751503, 8.257915831663327, 8.272044088176353, 8.28617234468938, 8.300300601202405, 8.31442885771543, 8.328557114228456, 8.342685370741483, 8.35681362725451, 8.370941883767536, 8.385070140280561, 8.399198396793587, 8.413326653306612, 8.42745490981964, 8.441583166332665, 8.455711422845692, 8.469839679358717, 8.483967935871743, 8.49809619238477, 8.512224448897795, 8.526352705410822, 8.540480961923848, 8.554609218436873, 8.5687374749499, 8.582865731462926, 8.596993987975953, 8.611122244488978, 8.625250501002004, 8.63937875751503, 8.653507014028055, 8.667635270541082, 8.681763527054109, 8.695891783567134, 8.71002004008016, 8.724148296593185, 8.738276553106212, 8.75240480961924, 8.766533066132265, 8.78066132264529, 8.794789579158316, 8.808917835671343, 8.82304609218437, 8.837174348697395, 8.851302605210421, 8.865430861723446, 8.879559118236472, 8.8936873747495, 8.907815631262526, 8.921943887775551, 8.936072144288577, 8.950200400801602, 8.96432865731463, 8.978456913827655, 8.992585170340682, 9.006713426853707, 9.020841683366733, 9.03496993987976, 9.049098196392785, 9.063226452905813, 9.077354709418838, 9.091482965931863, 9.105611222444889, 9.119739478957916, 9.133867735470943, 9.147995991983969, 9.162124248496994, 9.17625250501002, 9.190380761523045, 9.204509018036072, 9.218637274549097, 9.232765531062125, 9.24689378757515, 9.261022044088175, 9.275150300601203, 9.289278557114228, 9.303406813627255, 9.31753507014028, 9.331663326653306, 9.345791583166333, 9.359919839679359, 9.374048096192386, 9.388176352705411, 9.402304609218437, 9.416432865731462, 9.430561122244487, 9.444689378757516, 9.458817635270542, 9.472945891783567, 9.487074148296593, 9.501202404809618, 9.515330661322645, 9.529458917835672, 9.543587174348698, 9.557715430861723, 9.571843687374749, 9.585971943887776, 9.600100200400803, 9.614228456913828, 9.628356713426854, 9.64248496993988, 9.656613226452905, 9.670741482965933, 9.684869739478959, 9.698997995991984, 9.71312625250501, 9.727254509018035, 9.741382765531062, 9.755511022044088, 9.769639278557115, 9.78376753507014, 9.797895791583166, 9.812024048096193, 9.826152304609218, 9.840280561122245, 9.85440881763527, 9.868537074148296, 9.882665330661322, 9.896793587174349, 9.910921843687376, 9.925050100200401, 9.939178356713427, 9.953306613226452, 9.967434869739478, 9.981563126252505, 9.99569138276553, 10.009819639278557, 10.023947895791583, 10.038076152304608, 10.052204408817635, 10.06633266533066, 10.080460921843688, 10.094589178356713, 10.108717434869739, 10.122845691382766, 10.136973947895791, 10.151102204408819, 10.165230460921844, 10.17935871743487, 10.193486973947895, 10.20761523046092, 10.22174348697395, 10.235871743486975, 10.25])\n",
       "              .range([&#x27;#0000ffff&#x27;, &#x27;#0000ffff&#x27;, &#x27;#0000ffff&#x27;, &#x27;#0000ffff&#x27;, &#x27;#0000ffff&#x27;, &#x27;#0000ffff&#x27;, &#x27;#0000ffff&#x27;, &#x27;#0000ffff&#x27;, &#x27;#0000ffff&#x27;, &#x27;#0000ffff&#x27;, &#x27;#0000ffff&#x27;, &#x27;#0000ffff&#x27;, &#x27;#0000ffff&#x27;, &#x27;#0000ffff&#x27;, &#x27;#0000ffff&#x27;, &#x27;#0000ffff&#x27;, &#x27;#0000ffff&#x27;, &#x27;#0000ffff&#x27;, &#x27;#0000ffff&#x27;, &#x27;#0000ffff&#x27;, &#x27;#0000ffff&#x27;, &#x27;#0000ffff&#x27;, &#x27;#0000ffff&#x27;, &#x27;#0000ffff&#x27;, &#x27;#0000ffff&#x27;, &#x27;#0000ffff&#x27;, &#x27;#0000ffff&#x27;, &#x27;#0000ffff&#x27;, &#x27;#0000ffff&#x27;, &#x27;#0000ffff&#x27;, &#x27;#0000ffff&#x27;, &#x27;#0000ffff&#x27;, &#x27;#0000ffff&#x27;, &#x27;#0000ffff&#x27;, &#x27;#0000ffff&#x27;, &#x27;#0000ffff&#x27;, &#x27;#0000ffff&#x27;, &#x27;#0000ffff&#x27;, &#x27;#0000ffff&#x27;, &#x27;#0000ffff&#x27;, &#x27;#0000ffff&#x27;, &#x27;#0000ffff&#x27;, &#x27;#0000ffff&#x27;, &#x27;#0000ffff&#x27;, &#x27;#0000ffff&#x27;, &#x27;#0000ffff&#x27;, &#x27;#0000ffff&#x27;, &#x27;#0000ffff&#x27;, &#x27;#0000ffff&#x27;, &#x27;#0000ffff&#x27;, &#x27;#0000ffff&#x27;, &#x27;#0000ffff&#x27;, &#x27;#0000ffff&#x27;, &#x27;#0000ffff&#x27;, &#x27;#0000ffff&#x27;, &#x27;#0000ffff&#x27;, &#x27;#0000ffff&#x27;, &#x27;#0000ffff&#x27;, &#x27;#0000ffff&#x27;, &#x27;#0000ffff&#x27;, &#x27;#0000ffff&#x27;, &#x27;#0000ffff&#x27;, &#x27;#0000ffff&#x27;, &#x27;#0000ffff&#x27;, &#x27;#0000ffff&#x27;, &#x27;#0000ffff&#x27;, &#x27;#0000ffff&#x27;, &#x27;#0000ffff&#x27;, &#x27;#0000ffff&#x27;, &#x27;#0000ffff&#x27;, &#x27;#0000ffff&#x27;, &#x27;#0000ffff&#x27;, &#x27;#0000ffff&#x27;, &#x27;#0000ffff&#x27;, &#x27;#0000ffff&#x27;, &#x27;#0000ffff&#x27;, &#x27;#0000ffff&#x27;, &#x27;#0000ffff&#x27;, &#x27;#0000ffff&#x27;, &#x27;#0000ffff&#x27;, &#x27;#0000ffff&#x27;, &#x27;#0000ffff&#x27;, &#x27;#0000ffff&#x27;, &#x27;#0000ffff&#x27;, &#x27;#0000ffff&#x27;, &#x27;#0000ffff&#x27;, &#x27;#0000ffff&#x27;, &#x27;#0000ffff&#x27;, &#x27;#0000ffff&#x27;, &#x27;#0000ffff&#x27;, &#x27;#0000ffff&#x27;, &#x27;#0000ffff&#x27;, &#x27;#0000ffff&#x27;, &#x27;#0000ffff&#x27;, &#x27;#0000ffff&#x27;, &#x27;#0000ffff&#x27;, &#x27;#0000ffff&#x27;, &#x27;#0000ffff&#x27;, &#x27;#0000ffff&#x27;, &#x27;#0000ffff&#x27;, &#x27;#0000ffff&#x27;, &#x27;#0002ffff&#x27;, &#x27;#0004ffff&#x27;, &#x27;#0006ffff&#x27;, &#x27;#0008ffff&#x27;, &#x27;#0009ffff&#x27;, &#x27;#000bffff&#x27;, &#x27;#000dffff&#x27;, &#x27;#000fffff&#x27;, &#x27;#0011ffff&#x27;, &#x27;#0013ffff&#x27;, &#x27;#0015ffff&#x27;, &#x27;#0017ffff&#x27;, &#x27;#0019ffff&#x27;, &#x27;#001bffff&#x27;, &#x27;#001dffff&#x27;, &#x27;#001fffff&#x27;, &#x27;#0021ffff&#x27;, &#x27;#0022ffff&#x27;, &#x27;#0024ffff&#x27;, &#x27;#0026ffff&#x27;, &#x27;#0028ffff&#x27;, &#x27;#002affff&#x27;, &#x27;#002cffff&#x27;, &#x27;#002effff&#x27;, &#x27;#0030ffff&#x27;, &#x27;#0032ffff&#x27;, &#x27;#0034ffff&#x27;, &#x27;#0036ffff&#x27;, &#x27;#0038ffff&#x27;, &#x27;#003affff&#x27;, &#x27;#003bffff&#x27;, &#x27;#003dffff&#x27;, &#x27;#003fffff&#x27;, &#x27;#0041ffff&#x27;, &#x27;#0043ffff&#x27;, &#x27;#0045ffff&#x27;, &#x27;#0047ffff&#x27;, &#x27;#0049ffff&#x27;, &#x27;#004bffff&#x27;, &#x27;#004dffff&#x27;, &#x27;#004fffff&#x27;, &#x27;#0051ffff&#x27;, &#x27;#0053ffff&#x27;, &#x27;#0054ffff&#x27;, &#x27;#0056ffff&#x27;, &#x27;#0058ffff&#x27;, &#x27;#005affff&#x27;, &#x27;#005cffff&#x27;, &#x27;#005effff&#x27;, &#x27;#0060ffff&#x27;, &#x27;#0062ffff&#x27;, &#x27;#0064ffff&#x27;, &#x27;#0066ffff&#x27;, &#x27;#0068ffff&#x27;, &#x27;#006affff&#x27;, &#x27;#006bffff&#x27;, &#x27;#006dffff&#x27;, &#x27;#006fffff&#x27;, &#x27;#0071ffff&#x27;, &#x27;#0073ffff&#x27;, &#x27;#0075ffff&#x27;, &#x27;#0077ffff&#x27;, &#x27;#0079ffff&#x27;, &#x27;#007bffff&#x27;, &#x27;#007dffff&#x27;, &#x27;#007fffff&#x27;, &#x27;#0081ffff&#x27;, &#x27;#0083ffff&#x27;, &#x27;#0084ffff&#x27;, &#x27;#0086ffff&#x27;, &#x27;#0088ffff&#x27;, &#x27;#008affff&#x27;, &#x27;#008cffff&#x27;, &#x27;#008effff&#x27;, &#x27;#0090ffff&#x27;, &#x27;#0092ffff&#x27;, &#x27;#0094ffff&#x27;, &#x27;#0096ffff&#x27;, &#x27;#0098ffff&#x27;, &#x27;#009affff&#x27;, &#x27;#009cffff&#x27;, &#x27;#009dffff&#x27;, &#x27;#009fffff&#x27;, &#x27;#00a1ffff&#x27;, &#x27;#00a3ffff&#x27;, &#x27;#00a5ffff&#x27;, &#x27;#00a7ffff&#x27;, &#x27;#00a9ffff&#x27;, &#x27;#00abffff&#x27;, &#x27;#00adffff&#x27;, &#x27;#00afffff&#x27;, &#x27;#00b1ffff&#x27;, &#x27;#00b3ffff&#x27;, &#x27;#00b4ffff&#x27;, &#x27;#00b6ffff&#x27;, &#x27;#00b8ffff&#x27;, &#x27;#00baffff&#x27;, &#x27;#00bcffff&#x27;, &#x27;#00beffff&#x27;, &#x27;#00c0feff&#x27;, &#x27;#00c0fcff&#x27;, &#x27;#00c1f9ff&#x27;, &#x27;#00c1f7ff&#x27;, &#x27;#00c2f4ff&#x27;, &#x27;#00c3f2ff&#x27;, &#x27;#00c3efff&#x27;, &#x27;#00c4edff&#x27;, &#x27;#00c5eaff&#x27;, &#x27;#00c5e7ff&#x27;, &#x27;#00c6e5ff&#x27;, &#x27;#00c7e2ff&#x27;, &#x27;#00c7e0ff&#x27;, &#x27;#00c8ddff&#x27;, &#x27;#00c9dbff&#x27;, &#x27;#00c9d8ff&#x27;, &#x27;#00cad5ff&#x27;, &#x27;#00cad3ff&#x27;, &#x27;#00cbd0ff&#x27;, &#x27;#00ccceff&#x27;, &#x27;#00cccbff&#x27;, &#x27;#00cdc9ff&#x27;, &#x27;#00cec6ff&#x27;, &#x27;#00cec3ff&#x27;, &#x27;#00cfc1ff&#x27;, &#x27;#00d0beff&#x27;, &#x27;#00d0bcff&#x27;, &#x27;#00d1b9ff&#x27;, &#x27;#00d2b7ff&#x27;, &#x27;#00d2b4ff&#x27;, &#x27;#00d3b2ff&#x27;, &#x27;#00d3afff&#x27;, &#x27;#00d4acff&#x27;, &#x27;#00d5aaff&#x27;, &#x27;#00d5a7ff&#x27;, &#x27;#00d6a5ff&#x27;, &#x27;#00d7a2ff&#x27;, &#x27;#00d7a0ff&#x27;, &#x27;#00d89dff&#x27;, &#x27;#00d99aff&#x27;, &#x27;#00d998ff&#x27;, &#x27;#00da95ff&#x27;, &#x27;#00db93ff&#x27;, &#x27;#00db90ff&#x27;, &#x27;#00dc8eff&#x27;, &#x27;#00dc8bff&#x27;, &#x27;#00dd88ff&#x27;, &#x27;#00de86ff&#x27;, &#x27;#00de83ff&#x27;, &#x27;#00df81ff&#x27;, &#x27;#00e07eff&#x27;, &#x27;#00e07cff&#x27;, &#x27;#00e179ff&#x27;, &#x27;#00e277ff&#x27;, &#x27;#00e274ff&#x27;, &#x27;#00e371ff&#x27;, &#x27;#00e46fff&#x27;, &#x27;#00e46cff&#x27;, &#x27;#00e56aff&#x27;, &#x27;#00e567ff&#x27;, &#x27;#00e665ff&#x27;, &#x27;#00e762ff&#x27;, &#x27;#00e75fff&#x27;, &#x27;#00e85dff&#x27;, &#x27;#00e95aff&#x27;, &#x27;#00e958ff&#x27;, &#x27;#00ea55ff&#x27;, &#x27;#00eb53ff&#x27;, &#x27;#00eb50ff&#x27;, &#x27;#00ec4dff&#x27;, &#x27;#00ed4bff&#x27;, &#x27;#00ed48ff&#x27;, &#x27;#00ee46ff&#x27;, &#x27;#00ef43ff&#x27;, &#x27;#00ef41ff&#x27;, &#x27;#00f03eff&#x27;, &#x27;#00f03cff&#x27;, &#x27;#00f139ff&#x27;, &#x27;#00f236ff&#x27;, &#x27;#00f234ff&#x27;, &#x27;#00f331ff&#x27;, &#x27;#00f42fff&#x27;, &#x27;#00f42cff&#x27;, &#x27;#00f52aff&#x27;, &#x27;#00f627ff&#x27;, &#x27;#00f624ff&#x27;, &#x27;#00f722ff&#x27;, &#x27;#00f81fff&#x27;, &#x27;#00f81dff&#x27;, &#x27;#00f91aff&#x27;, &#x27;#00f918ff&#x27;, &#x27;#00fa15ff&#x27;, &#x27;#00fb12ff&#x27;, &#x27;#00fb10ff&#x27;, &#x27;#00fc0dff&#x27;, &#x27;#00fd0bff&#x27;, &#x27;#00fd08ff&#x27;, &#x27;#00fe06ff&#x27;, &#x27;#00ff03ff&#x27;, &#x27;#00ff01ff&#x27;, &#x27;#01ff00ff&#x27;, &#x27;#04ff00ff&#x27;, &#x27;#06fe00ff&#x27;, &#x27;#09fe00ff&#x27;, &#x27;#0bfe00ff&#x27;, &#x27;#0efd00ff&#x27;, &#x27;#10fd00ff&#x27;, &#x27;#13fc00ff&#x27;, &#x27;#16fc00ff&#x27;, &#x27;#18fc00ff&#x27;, &#x27;#1bfb00ff&#x27;, &#x27;#1dfb00ff&#x27;, &#x27;#20fa00ff&#x27;, &#x27;#22fa00ff&#x27;, &#x27;#25fa00ff&#x27;, &#x27;#28f900ff&#x27;, &#x27;#2af900ff&#x27;, &#x27;#2df800ff&#x27;, &#x27;#2ff800ff&#x27;, &#x27;#32f800ff&#x27;, &#x27;#34f700ff&#x27;, &#x27;#37f700ff&#x27;, &#x27;#39f600ff&#x27;, &#x27;#3cf600ff&#x27;, &#x27;#3ff600ff&#x27;, &#x27;#41f500ff&#x27;, &#x27;#44f500ff&#x27;, &#x27;#46f400ff&#x27;, &#x27;#49f400ff&#x27;, &#x27;#4bf400ff&#x27;, &#x27;#4ef300ff&#x27;, &#x27;#51f300ff&#x27;, &#x27;#53f200ff&#x27;, &#x27;#56f200ff&#x27;, &#x27;#58f200ff&#x27;, &#x27;#5bf100ff&#x27;, &#x27;#5df100ff&#x27;, &#x27;#60f000ff&#x27;, &#x27;#63f000ff&#x27;, &#x27;#65f000ff&#x27;, &#x27;#68ef00ff&#x27;, &#x27;#6aef00ff&#x27;, &#x27;#6dee00ff&#x27;, &#x27;#6fee00ff&#x27;, &#x27;#72ee00ff&#x27;, &#x27;#74ed00ff&#x27;, &#x27;#77ed00ff&#x27;, &#x27;#7aec00ff&#x27;, &#x27;#7cec00ff&#x27;, &#x27;#7fec00ff&#x27;, &#x27;#81eb00ff&#x27;, &#x27;#84eb00ff&#x27;, &#x27;#86ea00ff&#x27;, &#x27;#89ea00ff&#x27;, &#x27;#8cea00ff&#x27;, &#x27;#8ee900ff&#x27;, &#x27;#91e900ff&#x27;, &#x27;#93e800ff&#x27;, &#x27;#96e800ff&#x27;, &#x27;#98e800ff&#x27;, &#x27;#9be700ff&#x27;, &#x27;#9ee700ff&#x27;, &#x27;#a0e600ff&#x27;, &#x27;#a3e600ff&#x27;, &#x27;#a5e600ff&#x27;, &#x27;#a8e500ff&#x27;, &#x27;#aae500ff&#x27;, &#x27;#ade400ff&#x27;, &#x27;#afe400ff&#x27;, &#x27;#b2e300ff&#x27;, &#x27;#b5e300ff&#x27;, &#x27;#b7e300ff&#x27;, &#x27;#bae200ff&#x27;, &#x27;#bce200ff&#x27;, &#x27;#bfe100ff&#x27;, &#x27;#c1e100ff&#x27;, &#x27;#c4e100ff&#x27;, &#x27;#c7e000ff&#x27;, &#x27;#c9e000ff&#x27;, &#x27;#ccdf00ff&#x27;, &#x27;#cedf00ff&#x27;, &#x27;#d1df00ff&#x27;, &#x27;#d3de00ff&#x27;, &#x27;#d6de00ff&#x27;, &#x27;#d9dd00ff&#x27;, &#x27;#dbdd00ff&#x27;, &#x27;#dedd00ff&#x27;, &#x27;#e0dc00ff&#x27;, &#x27;#e3dc00ff&#x27;, &#x27;#e5db00ff&#x27;, &#x27;#e8db00ff&#x27;, &#x27;#eadb00ff&#x27;, &#x27;#edda00ff&#x27;, &#x27;#f0da00ff&#x27;, &#x27;#f2d900ff&#x27;, &#x27;#f5d900ff&#x27;, &#x27;#f7d900ff&#x27;, &#x27;#fad800ff&#x27;, &#x27;#fcd800ff&#x27;, &#x27;#ffd700ff&#x27;, &#x27;#ffd700ff&#x27;, &#x27;#ffd600ff&#x27;, &#x27;#ffd600ff&#x27;, &#x27;#ffd500ff&#x27;, &#x27;#ffd500ff&#x27;, &#x27;#ffd400ff&#x27;, &#x27;#ffd400ff&#x27;, &#x27;#ffd300ff&#x27;, &#x27;#ffd300ff&#x27;, &#x27;#ffd200ff&#x27;, &#x27;#ffd200ff&#x27;, &#x27;#ffd100ff&#x27;, &#x27;#ffd100ff&#x27;, &#x27;#ffd000ff&#x27;, &#x27;#ffd000ff&#x27;, &#x27;#ffcf00ff&#x27;, &#x27;#ffcf00ff&#x27;, &#x27;#ffce00ff&#x27;, &#x27;#ffce00ff&#x27;, &#x27;#ffcd00ff&#x27;, &#x27;#ffcd00ff&#x27;, &#x27;#ffcc00ff&#x27;, &#x27;#ffcc00ff&#x27;, &#x27;#ffcb00ff&#x27;, &#x27;#ffcb00ff&#x27;, &#x27;#ffca00ff&#x27;, &#x27;#ffca00ff&#x27;, &#x27;#ffc900ff&#x27;, &#x27;#ffc900ff&#x27;, &#x27;#ffc800ff&#x27;, &#x27;#ffc800ff&#x27;, &#x27;#ffc700ff&#x27;, &#x27;#ffc700ff&#x27;, &#x27;#ffc600ff&#x27;, &#x27;#ffc600ff&#x27;, &#x27;#ffc500ff&#x27;, &#x27;#ffc500ff&#x27;, &#x27;#ffc400ff&#x27;, &#x27;#ffc400ff&#x27;, &#x27;#ffc300ff&#x27;, &#x27;#ffc300ff&#x27;, &#x27;#ffc200ff&#x27;, &#x27;#ffc200ff&#x27;, &#x27;#ffc100ff&#x27;, &#x27;#ffc100ff&#x27;, &#x27;#ffc000ff&#x27;, &#x27;#ffc000ff&#x27;, &#x27;#ffbf00ff&#x27;, &#x27;#ffbf00ff&#x27;, &#x27;#ffbe00ff&#x27;, &#x27;#ffbe00ff&#x27;, &#x27;#ffbd00ff&#x27;, &#x27;#ffbd00ff&#x27;, &#x27;#ffbc00ff&#x27;, &#x27;#ffbc00ff&#x27;, &#x27;#ffbb00ff&#x27;, &#x27;#ffbb00ff&#x27;, &#x27;#ffba00ff&#x27;, &#x27;#ffba00ff&#x27;, &#x27;#ffb900ff&#x27;, &#x27;#ffb900ff&#x27;, &#x27;#ffb800ff&#x27;, &#x27;#ffb800ff&#x27;, &#x27;#ffb700ff&#x27;, &#x27;#ffb700ff&#x27;, &#x27;#ffb600ff&#x27;, &#x27;#ffb600ff&#x27;, &#x27;#ffb500ff&#x27;, &#x27;#ffb500ff&#x27;, &#x27;#ffb400ff&#x27;, &#x27;#ffb400ff&#x27;, &#x27;#ffb300ff&#x27;, &#x27;#ffb300ff&#x27;, &#x27;#ffb200ff&#x27;, &#x27;#ffb200ff&#x27;, &#x27;#ffb100ff&#x27;, &#x27;#ffb100ff&#x27;, &#x27;#ffb000ff&#x27;, &#x27;#ffb000ff&#x27;, &#x27;#ffaf00ff&#x27;, &#x27;#ffaf00ff&#x27;, &#x27;#ffae00ff&#x27;, &#x27;#ffae00ff&#x27;, &#x27;#ffad00ff&#x27;, &#x27;#ffad00ff&#x27;, &#x27;#ffac00ff&#x27;, &#x27;#ffac00ff&#x27;, &#x27;#ffab00ff&#x27;, &#x27;#ffab00ff&#x27;, &#x27;#ffaa00ff&#x27;, &#x27;#ffaa00ff&#x27;, &#x27;#ffa900ff&#x27;, &#x27;#ffa900ff&#x27;, &#x27;#ffa800ff&#x27;, &#x27;#ffa800ff&#x27;, &#x27;#ffa700ff&#x27;, &#x27;#ffa700ff&#x27;, &#x27;#ffa600ff&#x27;, &#x27;#ffa600ff&#x27;, &#x27;#ffa500ff&#x27;]);\n",
       "    \n",
       "\n",
       "    color_map_18f2771e2dec4420aaebe79371b8b0f0.x = d3.scale.linear()\n",
       "              .domain([3.2, 10.25])\n",
       "              .range([0, 450 - 50]);\n",
       "\n",
       "    color_map_18f2771e2dec4420aaebe79371b8b0f0.legend = L.control({position: &#x27;topright&#x27;});\n",
       "    color_map_18f2771e2dec4420aaebe79371b8b0f0.legend.onAdd = function (map) {var div = L.DomUtil.create(&#x27;div&#x27;, &#x27;legend&#x27;); return div};\n",
       "    color_map_18f2771e2dec4420aaebe79371b8b0f0.legend.addTo(map_eaf58fb261e5bede683445d613f70c85);\n",
       "\n",
       "    color_map_18f2771e2dec4420aaebe79371b8b0f0.xAxis = d3.svg.axis()\n",
       "        .scale(color_map_18f2771e2dec4420aaebe79371b8b0f0.x)\n",
       "        .orient(&quot;top&quot;)\n",
       "        .tickSize(1)\n",
       "        .tickValues([3.2, 4.61, 6.02, 7.43, 8.84, 10.25]);\n",
       "\n",
       "    color_map_18f2771e2dec4420aaebe79371b8b0f0.svg = d3.select(&quot;.legend.leaflet-control&quot;).append(&quot;svg&quot;)\n",
       "        .attr(&quot;id&quot;, &#x27;legend&#x27;)\n",
       "        .attr(&quot;width&quot;, 450)\n",
       "        .attr(&quot;height&quot;, 40);\n",
       "\n",
       "    color_map_18f2771e2dec4420aaebe79371b8b0f0.g = color_map_18f2771e2dec4420aaebe79371b8b0f0.svg.append(&quot;g&quot;)\n",
       "        .attr(&quot;class&quot;, &quot;key&quot;)\n",
       "        .attr(&quot;transform&quot;, &quot;translate(25,16)&quot;);\n",
       "\n",
       "    color_map_18f2771e2dec4420aaebe79371b8b0f0.g.selectAll(&quot;rect&quot;)\n",
       "        .data(color_map_18f2771e2dec4420aaebe79371b8b0f0.color.range().map(function(d, i) {\n",
       "          return {\n",
       "            x0: i ? color_map_18f2771e2dec4420aaebe79371b8b0f0.x(color_map_18f2771e2dec4420aaebe79371b8b0f0.color.domain()[i - 1]) : color_map_18f2771e2dec4420aaebe79371b8b0f0.x.range()[0],\n",
       "            x1: i &lt; color_map_18f2771e2dec4420aaebe79371b8b0f0.color.domain().length ? color_map_18f2771e2dec4420aaebe79371b8b0f0.x(color_map_18f2771e2dec4420aaebe79371b8b0f0.color.domain()[i]) : color_map_18f2771e2dec4420aaebe79371b8b0f0.x.range()[1],\n",
       "            z: d\n",
       "          };\n",
       "        }))\n",
       "      .enter().append(&quot;rect&quot;)\n",
       "        .attr(&quot;height&quot;, 40 - 30)\n",
       "        .attr(&quot;x&quot;, function(d) { return d.x0; })\n",
       "        .attr(&quot;width&quot;, function(d) { return d.x1 - d.x0; })\n",
       "        .style(&quot;fill&quot;, function(d) { return d.z; });\n",
       "\n",
       "    color_map_18f2771e2dec4420aaebe79371b8b0f0.g.call(color_map_18f2771e2dec4420aaebe79371b8b0f0.xAxis).append(&quot;text&quot;)\n",
       "        .attr(&quot;class&quot;, &quot;caption&quot;)\n",
       "        .attr(&quot;y&quot;, 21)\n",
       "        .text(&quot;Ranking Position for Localized \\&quot;Dental\\&quot; Searches (Red = Not Ranking)&quot;);\n",
       "    \n",
       "            var circle_marker_4f56208c94b24563e1e7821386198c17 = L.circleMarker(\n",
       "                [34.33565833333332, -118.70143333333334],\n",
       "                {&quot;bubblingMouseEvents&quot;: true, &quot;color&quot;: &quot;#0000ffff&quot;, &quot;dashArray&quot;: null, &quot;dashOffset&quot;: null, &quot;fill&quot;: true, &quot;fillColor&quot;: &quot;#0000ffff&quot;, &quot;fillOpacity&quot;: 1, &quot;fillRule&quot;: &quot;evenodd&quot;, &quot;lineCap&quot;: &quot;round&quot;, &quot;lineJoin&quot;: &quot;round&quot;, &quot;opacity&quot;: 1.0, &quot;radius&quot;: 8, &quot;stroke&quot;: true, &quot;weight&quot;: 3}\n",
       "            ).addTo(map_eaf58fb261e5bede683445d613f70c85);\n",
       "        \n",
       "    \n",
       "            circle_marker_4f56208c94b24563e1e7821386198c17.bindTooltip(\n",
       "                `&lt;div&gt;\n",
       "                     Zipcode: 91381, Ranking: 3.2\n",
       "                 &lt;/div&gt;`,\n",
       "                {&quot;sticky&quot;: true}\n",
       "            );\n",
       "        \n",
       "    \n",
       "            var circle_marker_4b67c2d17f9d1cfb8c79a9785208579c = L.circleMarker(\n",
       "                [34.339658333333325, -118.52123333333333],\n",
       "                {&quot;bubblingMouseEvents&quot;: true, &quot;color&quot;: &quot;#0019ffff&quot;, &quot;dashArray&quot;: null, &quot;dashOffset&quot;: null, &quot;fill&quot;: true, &quot;fillColor&quot;: &quot;#0019ffff&quot;, &quot;fillOpacity&quot;: 1, &quot;fillRule&quot;: &quot;evenodd&quot;, &quot;lineCap&quot;: &quot;round&quot;, &quot;lineJoin&quot;: &quot;round&quot;, &quot;opacity&quot;: 1.0, &quot;radius&quot;: 8, &quot;stroke&quot;: true, &quot;weight&quot;: 3}\n",
       "            ).addTo(map_eaf58fb261e5bede683445d613f70c85);\n",
       "        \n",
       "    \n",
       "            circle_marker_4b67c2d17f9d1cfb8c79a9785208579c.bindTooltip(\n",
       "                `&lt;div&gt;\n",
       "                     Zipcode: 91321, Ranking: 4.8\n",
       "                 &lt;/div&gt;`,\n",
       "                {&quot;sticky&quot;: true}\n",
       "            );\n",
       "        \n",
       "    \n",
       "            var circle_marker_62468d5033d1854b50ebc97da9e956c1 = L.circleMarker(\n",
       "                [34.35005833333333, -118.53703333333334],\n",
       "                {&quot;bubblingMouseEvents&quot;: true, &quot;color&quot;: &quot;#0cfe00ff&quot;, &quot;dashArray&quot;: null, &quot;dashOffset&quot;: null, &quot;fill&quot;: true, &quot;fillColor&quot;: &quot;#0cfe00ff&quot;, &quot;fillOpacity&quot;: 1, &quot;fillRule&quot;: &quot;evenodd&quot;, &quot;lineCap&quot;: &quot;round&quot;, &quot;lineJoin&quot;: &quot;round&quot;, &quot;opacity&quot;: 1.0, &quot;radius&quot;: 8, &quot;stroke&quot;: true, &quot;weight&quot;: 3}\n",
       "            ).addTo(map_eaf58fb261e5bede683445d613f70c85);\n",
       "        \n",
       "    \n",
       "            circle_marker_62468d5033d1854b50ebc97da9e956c1.bindTooltip(\n",
       "                `&lt;div&gt;\n",
       "                     Zipcode: 91322, Ranking: 7.5\n",
       "                 &lt;/div&gt;`,\n",
       "                {&quot;sticky&quot;: true}\n",
       "            );\n",
       "        \n",
       "    \n",
       "            var circle_marker_aaddd777ec81804854c38b62277eca68 = L.circleMarker(\n",
       "                [34.364058333333325, -118.56043333333332],\n",
       "                {&quot;bubblingMouseEvents&quot;: true, &quot;color&quot;: &quot;#0000ffff&quot;, &quot;dashArray&quot;: null, &quot;dashOffset&quot;: null, &quot;fill&quot;: true, &quot;fillColor&quot;: &quot;#0000ffff&quot;, &quot;fillOpacity&quot;: 1, &quot;fillRule&quot;: &quot;evenodd&quot;, &quot;lineCap&quot;: &quot;round&quot;, &quot;lineJoin&quot;: &quot;round&quot;, &quot;opacity&quot;: 1.0, &quot;radius&quot;: 8, &quot;stroke&quot;: true, &quot;weight&quot;: 3}\n",
       "            ).addTo(map_eaf58fb261e5bede683445d613f70c85);\n",
       "        \n",
       "    \n",
       "            circle_marker_aaddd777ec81804854c38b62277eca68.bindTooltip(\n",
       "                `&lt;div&gt;\n",
       "                     Zipcode: 91382, Ranking: 4.384615384615385\n",
       "                 &lt;/div&gt;`,\n",
       "                {&quot;sticky&quot;: true}\n",
       "            );\n",
       "        \n",
       "    \n",
       "            var circle_marker_b32cad0243116d2c7a59fe063bc67644 = L.circleMarker(\n",
       "                [34.37765833333332, -118.58223333333333],\n",
       "                {&quot;bubblingMouseEvents&quot;: true, &quot;color&quot;: &quot;#67ef00ff&quot;, &quot;dashArray&quot;: null, &quot;dashOffset&quot;: null, &quot;fill&quot;: true, &quot;fillColor&quot;: &quot;#67ef00ff&quot;, &quot;fillOpacity&quot;: 1, &quot;fillRule&quot;: &quot;evenodd&quot;, &quot;lineCap&quot;: &quot;round&quot;, &quot;lineJoin&quot;: &quot;round&quot;, &quot;opacity&quot;: 1.0, &quot;radius&quot;: 8, &quot;stroke&quot;: true, &quot;weight&quot;: 3}\n",
       "            ).addTo(map_eaf58fb261e5bede683445d613f70c85);\n",
       "        \n",
       "    \n",
       "            circle_marker_b32cad0243116d2c7a59fe063bc67644.bindTooltip(\n",
       "                `&lt;div&gt;\n",
       "                     Zipcode: 91355, Ranking: 8.0\n",
       "                 &lt;/div&gt;`,\n",
       "                {&quot;sticky&quot;: true}\n",
       "            );\n",
       "        \n",
       "    \n",
       "            var circle_marker_550f78423e4c935249cf667ecf25989e = L.circleMarker(\n",
       "                [34.40705833333333, -118.32723333333334],\n",
       "                {&quot;bubblingMouseEvents&quot;: true, &quot;color&quot;: &quot;#43f500ff&quot;, &quot;dashArray&quot;: null, &quot;dashOffset&quot;: null, &quot;fill&quot;: true, &quot;fillColor&quot;: &quot;#43f500ff&quot;, &quot;fillOpacity&quot;: 1, &quot;fillRule&quot;: &quot;evenodd&quot;, &quot;lineCap&quot;: &quot;round&quot;, &quot;lineJoin&quot;: &quot;round&quot;, &quot;opacity&quot;: 1.0, &quot;radius&quot;: 8, &quot;stroke&quot;: true, &quot;weight&quot;: 3}\n",
       "            ).addTo(map_eaf58fb261e5bede683445d613f70c85);\n",
       "        \n",
       "    \n",
       "            circle_marker_550f78423e4c935249cf667ecf25989e.bindTooltip(\n",
       "                `&lt;div&gt;\n",
       "                     Zipcode: 91387, Ranking: 7.8\n",
       "                 &lt;/div&gt;`,\n",
       "                {&quot;sticky&quot;: true}\n",
       "            );\n",
       "        \n",
       "    \n",
       "            var circle_marker_fd18f985fa7ecb9aeae5fe511fb59c95 = L.circleMarker(\n",
       "                [34.42725833333332, -118.41923333333332],\n",
       "                {&quot;bubblingMouseEvents&quot;: true, &quot;color&quot;: &quot;#94e800ff&quot;, &quot;dashArray&quot;: null, &quot;dashOffset&quot;: null, &quot;fill&quot;: true, &quot;fillColor&quot;: &quot;#94e800ff&quot;, &quot;fillOpacity&quot;: 1, &quot;fillRule&quot;: &quot;evenodd&quot;, &quot;lineCap&quot;: &quot;round&quot;, &quot;lineJoin&quot;: &quot;round&quot;, &quot;opacity&quot;: 1.0, &quot;radius&quot;: 8, &quot;stroke&quot;: true, &quot;weight&quot;: 3}\n",
       "            ).addTo(map_eaf58fb261e5bede683445d613f70c85);\n",
       "        \n",
       "    \n",
       "            circle_marker_fd18f985fa7ecb9aeae5fe511fb59c95.bindTooltip(\n",
       "                `&lt;div&gt;\n",
       "                     Zipcode: 91386, Ranking: 8.25\n",
       "                 &lt;/div&gt;`,\n",
       "                {&quot;sticky&quot;: true}\n",
       "            );\n",
       "        \n",
       "    \n",
       "            var circle_marker_c08a2f6a021ac5af5395bad37af973f2 = L.circleMarker(\n",
       "                [34.43305833333333, -118.37323333333333],\n",
       "                {&quot;bubblingMouseEvents&quot;: true, &quot;color&quot;: &quot;#ffa500ff&quot;, &quot;dashArray&quot;: null, &quot;dashOffset&quot;: null, &quot;fill&quot;: true, &quot;fillColor&quot;: &quot;#ffa500ff&quot;, &quot;fillOpacity&quot;: 1, &quot;fillRule&quot;: &quot;evenodd&quot;, &quot;lineCap&quot;: &quot;round&quot;, &quot;lineJoin&quot;: &quot;round&quot;, &quot;opacity&quot;: 1.0, &quot;radius&quot;: 8, &quot;stroke&quot;: true, &quot;weight&quot;: 3}\n",
       "            ).addTo(map_eaf58fb261e5bede683445d613f70c85);\n",
       "        \n",
       "    \n",
       "            circle_marker_c08a2f6a021ac5af5395bad37af973f2.bindTooltip(\n",
       "                `&lt;div&gt;\n",
       "                     Zipcode: 91351, Ranking: 10.25\n",
       "                 &lt;/div&gt;`,\n",
       "                {&quot;sticky&quot;: true}\n",
       "            );\n",
       "        \n",
       "    \n",
       "            var circle_marker_b048cc901ef063e67ea0b4a7576bd1d6 = L.circleMarker(\n",
       "                [34.44785833333332, -118.47663333333333],\n",
       "                {&quot;bubblingMouseEvents&quot;: true, &quot;color&quot;: &quot;#efda00ff&quot;, &quot;dashArray&quot;: null, &quot;dashOffset&quot;: null, &quot;fill&quot;: true, &quot;fillColor&quot;: &quot;#efda00ff&quot;, &quot;fillOpacity&quot;: 1, &quot;fillRule&quot;: &quot;evenodd&quot;, &quot;lineCap&quot;: &quot;round&quot;, &quot;lineJoin&quot;: &quot;round&quot;, &quot;opacity&quot;: 1.0, &quot;radius&quot;: 8, &quot;stroke&quot;: true, &quot;weight&quot;: 3}\n",
       "            ).addTo(map_eaf58fb261e5bede683445d613f70c85);\n",
       "        \n",
       "    \n",
       "            circle_marker_b048cc901ef063e67ea0b4a7576bd1d6.bindTooltip(\n",
       "                `&lt;div&gt;\n",
       "                     Zipcode: 91350, Ranking: 8.75\n",
       "                 &lt;/div&gt;`,\n",
       "                {&quot;sticky&quot;: true}\n",
       "            );\n",
       "        \n",
       "    \n",
       "            var circle_marker_438e50ac546fe83584f1754080acdee2 = L.circleMarker(\n",
       "                [34.47385833333332, -118.55003333333335],\n",
       "                {&quot;bubblingMouseEvents&quot;: true, &quot;color&quot;: &quot;#ffa700ff&quot;, &quot;dashArray&quot;: null, &quot;dashOffset&quot;: null, &quot;fill&quot;: true, &quot;fillColor&quot;: &quot;#ffa700ff&quot;, &quot;fillOpacity&quot;: 1, &quot;fillRule&quot;: &quot;evenodd&quot;, &quot;lineCap&quot;: &quot;round&quot;, &quot;lineJoin&quot;: &quot;round&quot;, &quot;opacity&quot;: 1.0, &quot;radius&quot;: 8, &quot;stroke&quot;: true, &quot;weight&quot;: 3}\n",
       "            ).addTo(map_eaf58fb261e5bede683445d613f70c85);\n",
       "        \n",
       "    \n",
       "            circle_marker_438e50ac546fe83584f1754080acdee2.bindTooltip(\n",
       "                `&lt;div&gt;\n",
       "                     Zipcode: 91354, Ranking: 10.2\n",
       "                 &lt;/div&gt;`,\n",
       "                {&quot;sticky&quot;: true}\n",
       "            );\n",
       "        \n",
       "    \n",
       "            var circle_marker_8fb914bfdc1181188ab81c3b585b09d8 = L.circleMarker(\n",
       "                [34.51745833333333, -118.52743333333333],\n",
       "                {&quot;bubblingMouseEvents&quot;: true, &quot;color&quot;: &quot;#0000ffff&quot;, &quot;dashArray&quot;: null, &quot;dashOffset&quot;: null, &quot;fill&quot;: true, &quot;fillColor&quot;: &quot;#0000ffff&quot;, &quot;fillOpacity&quot;: 1, &quot;fillRule&quot;: &quot;evenodd&quot;, &quot;lineCap&quot;: &quot;round&quot;, &quot;lineJoin&quot;: &quot;round&quot;, &quot;opacity&quot;: 1.0, &quot;radius&quot;: 8, &quot;stroke&quot;: true, &quot;weight&quot;: 3}\n",
       "            ).addTo(map_eaf58fb261e5bede683445d613f70c85);\n",
       "        \n",
       "    \n",
       "            circle_marker_8fb914bfdc1181188ab81c3b585b09d8.bindTooltip(\n",
       "                `&lt;div&gt;\n",
       "                     Zipcode: 91390, Ranking: 4.6\n",
       "                 &lt;/div&gt;`,\n",
       "                {&quot;sticky&quot;: true}\n",
       "            );\n",
       "        \n",
       "    \n",
       "            var circle_marker_8451c09eee77964afac186fb24f0d6c7 = L.circleMarker(\n",
       "                [34.55845833333333, -118.72103333333334],\n",
       "                {&quot;bubblingMouseEvents&quot;: true, &quot;color&quot;: &quot;#d4de00ff&quot;, &quot;dashArray&quot;: null, &quot;dashOffset&quot;: null, &quot;fill&quot;: true, &quot;fillColor&quot;: &quot;#d4de00ff&quot;, &quot;fillOpacity&quot;: 1, &quot;fillRule&quot;: &quot;evenodd&quot;, &quot;lineCap&quot;: &quot;round&quot;, &quot;lineJoin&quot;: &quot;round&quot;, &quot;opacity&quot;: 1.0, &quot;radius&quot;: 8, &quot;stroke&quot;: true, &quot;weight&quot;: 3}\n",
       "            ).addTo(map_eaf58fb261e5bede683445d613f70c85);\n",
       "        \n",
       "    \n",
       "            circle_marker_8451c09eee77964afac186fb24f0d6c7.bindTooltip(\n",
       "                `&lt;div&gt;\n",
       "                     Zipcode: 91310, Ranking: 8.6\n",
       "                 &lt;/div&gt;`,\n",
       "                {&quot;sticky&quot;: true}\n",
       "            );\n",
       "        \n",
       "    \n",
       "            var circle_marker_103cd7271055dd24cc7ea8411858ac7f = L.circleMarker(\n",
       "                [34.3847, -118.5309],\n",
       "                {&quot;bubblingMouseEvents&quot;: true, &quot;color&quot;: &quot;#FF0000&quot;, &quot;dashArray&quot;: null, &quot;dashOffset&quot;: null, &quot;fill&quot;: true, &quot;fillColor&quot;: &quot;#FF0000&quot;, &quot;fillOpacity&quot;: 1, &quot;fillRule&quot;: &quot;evenodd&quot;, &quot;lineCap&quot;: &quot;round&quot;, &quot;lineJoin&quot;: &quot;round&quot;, &quot;opacity&quot;: 1.0, &quot;radius&quot;: 8, &quot;stroke&quot;: true, &quot;weight&quot;: 3}\n",
       "            ).addTo(map_eaf58fb261e5bede683445d613f70c85);\n",
       "        \n",
       "    \n",
       "            circle_marker_103cd7271055dd24cc7ea8411858ac7f.bindTooltip(\n",
       "                `&lt;div&gt;\n",
       "                     Zipcode: 91322, Keywords: 1\n",
       "                 &lt;/div&gt;`,\n",
       "                {&quot;sticky&quot;: true}\n",
       "            );\n",
       "        \n",
       "    \n",
       "            var circle_marker_756d6cbee3abc427c63bd9d918170994 = L.circleMarker(\n",
       "                [34.3917, -118.5426],\n",
       "                {&quot;bubblingMouseEvents&quot;: true, &quot;color&quot;: &quot;#FF0000&quot;, &quot;dashArray&quot;: null, &quot;dashOffset&quot;: null, &quot;fill&quot;: true, &quot;fillColor&quot;: &quot;#FF0000&quot;, &quot;fillOpacity&quot;: 1, &quot;fillRule&quot;: &quot;evenodd&quot;, &quot;lineCap&quot;: &quot;round&quot;, &quot;lineJoin&quot;: &quot;round&quot;, &quot;opacity&quot;: 1.0, &quot;radius&quot;: 8, &quot;stroke&quot;: true, &quot;weight&quot;: 3}\n",
       "            ).addTo(map_eaf58fb261e5bede683445d613f70c85);\n",
       "        \n",
       "    \n",
       "            circle_marker_756d6cbee3abc427c63bd9d918170994.bindTooltip(\n",
       "                `&lt;div&gt;\n",
       "                     Zipcode: 91383, Keywords: 2\n",
       "                 &lt;/div&gt;`,\n",
       "                {&quot;sticky&quot;: true}\n",
       "            );\n",
       "        \n",
       "    \n",
       "            var circle_marker_82245a287633d6587eb082e34775bf81 = L.circleMarker(\n",
       "                [34.3985, -118.5535],\n",
       "                {&quot;bubblingMouseEvents&quot;: true, &quot;color&quot;: &quot;#FF0000&quot;, &quot;dashArray&quot;: null, &quot;dashOffset&quot;: null, &quot;fill&quot;: true, &quot;fillColor&quot;: &quot;#FF0000&quot;, &quot;fillOpacity&quot;: 1, &quot;fillRule&quot;: &quot;evenodd&quot;, &quot;lineCap&quot;: &quot;round&quot;, &quot;lineJoin&quot;: &quot;round&quot;, &quot;opacity&quot;: 1.0, &quot;radius&quot;: 8, &quot;stroke&quot;: true, &quot;weight&quot;: 3}\n",
       "            ).addTo(map_eaf58fb261e5bede683445d613f70c85);\n",
       "        \n",
       "    \n",
       "            circle_marker_82245a287633d6587eb082e34775bf81.bindTooltip(\n",
       "                `&lt;div&gt;\n",
       "                     Zipcode: 91355, Keywords: 1\n",
       "                 &lt;/div&gt;`,\n",
       "                {&quot;sticky&quot;: true}\n",
       "            );\n",
       "        \n",
       "    \n",
       "            var circle_marker_37376a5a559a4769c28f8e783f93740d = L.circleMarker(\n",
       "                [34.4233, -118.472],\n",
       "                {&quot;bubblingMouseEvents&quot;: true, &quot;color&quot;: &quot;#FF0000&quot;, &quot;dashArray&quot;: null, &quot;dashOffset&quot;: null, &quot;fill&quot;: true, &quot;fillColor&quot;: &quot;#FF0000&quot;, &quot;fillOpacity&quot;: 1, &quot;fillRule&quot;: &quot;evenodd&quot;, &quot;lineCap&quot;: &quot;round&quot;, &quot;lineJoin&quot;: &quot;round&quot;, &quot;opacity&quot;: 1.0, &quot;radius&quot;: 8, &quot;stroke&quot;: true, &quot;weight&quot;: 3}\n",
       "            ).addTo(map_eaf58fb261e5bede683445d613f70c85);\n",
       "        \n",
       "    \n",
       "            circle_marker_37376a5a559a4769c28f8e783f93740d.bindTooltip(\n",
       "                `&lt;div&gt;\n",
       "                     Zipcode: 91386, Keywords: 1\n",
       "                 &lt;/div&gt;`,\n",
       "                {&quot;sticky&quot;: true}\n",
       "            );\n",
       "        \n",
       "    \n",
       "            var circle_marker_c8d37e522c5dbd3d9d73ad4b4cdbb2ed = L.circleMarker(\n",
       "                [34.4262, -118.449],\n",
       "                {&quot;bubblingMouseEvents&quot;: true, &quot;color&quot;: &quot;#FF0000&quot;, &quot;dashArray&quot;: null, &quot;dashOffset&quot;: null, &quot;fill&quot;: true, &quot;fillColor&quot;: &quot;#FF0000&quot;, &quot;fillOpacity&quot;: 1, &quot;fillRule&quot;: &quot;evenodd&quot;, &quot;lineCap&quot;: &quot;round&quot;, &quot;lineJoin&quot;: &quot;round&quot;, &quot;opacity&quot;: 1.0, &quot;radius&quot;: 8, &quot;stroke&quot;: true, &quot;weight&quot;: 3}\n",
       "            ).addTo(map_eaf58fb261e5bede683445d613f70c85);\n",
       "        \n",
       "    \n",
       "            circle_marker_c8d37e522c5dbd3d9d73ad4b4cdbb2ed.bindTooltip(\n",
       "                `&lt;div&gt;\n",
       "                     Zipcode: 91351, Keywords: 1\n",
       "                 &lt;/div&gt;`,\n",
       "                {&quot;sticky&quot;: true}\n",
       "            );\n",
       "        \n",
       "    \n",
       "            var circle_marker_c50bbd03971c3d64b649f1d76fd772e3 = L.circleMarker(\n",
       "                [34.4336, -118.5007],\n",
       "                {&quot;bubblingMouseEvents&quot;: true, &quot;color&quot;: &quot;#FF0000&quot;, &quot;dashArray&quot;: null, &quot;dashOffset&quot;: null, &quot;fill&quot;: true, &quot;fillColor&quot;: &quot;#FF0000&quot;, &quot;fillOpacity&quot;: 1, &quot;fillRule&quot;: &quot;evenodd&quot;, &quot;lineCap&quot;: &quot;round&quot;, &quot;lineJoin&quot;: &quot;round&quot;, &quot;opacity&quot;: 1.0, &quot;radius&quot;: 8, &quot;stroke&quot;: true, &quot;weight&quot;: 3}\n",
       "            ).addTo(map_eaf58fb261e5bede683445d613f70c85);\n",
       "        \n",
       "    \n",
       "            circle_marker_c50bbd03971c3d64b649f1d76fd772e3.bindTooltip(\n",
       "                `&lt;div&gt;\n",
       "                     Zipcode: 91350, Keywords: 1\n",
       "                 &lt;/div&gt;`,\n",
       "                {&quot;sticky&quot;: true}\n",
       "            );\n",
       "        \n",
       "    \n",
       "            tile_layer_70328238e4afc96d2a56c7eca5bbc9ed.addTo(map_eaf58fb261e5bede683445d613f70c85);\n",
       "        \n",
       "    \n",
       "            heat_map_90847f06480b3e448cfb305bbc54e237.addTo(map_eaf58fb261e5bede683445d613f70c85);\n",
       "        \n",
       "    \n",
       "            heat_map_2d937cfb0e5e7cde3fc13a79b95dca88.addTo(map_eaf58fb261e5bede683445d613f70c85);\n",
       "        \n",
       "&lt;/script&gt;\n",
       "&lt;/html&gt;\" style=\"position:absolute;width:100%;height:100%;left:0;top:0;border:none !important;\" allowfullscreen webkitallowfullscreen mozallowfullscreen></iframe></div></div>"
      ]
     },
     "execution_count": 33,
     "metadata": {},
     "output_type": "execute_result"
    }
   ],
   "execution_count": 33
  }
 ]
}
